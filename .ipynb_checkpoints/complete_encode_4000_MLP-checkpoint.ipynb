{
 "cells": [
  {
   "cell_type": "code",
   "execution_count": 13,
   "id": "e13686c3",
   "metadata": {},
   "outputs": [],
   "source": [
    "import torch\n",
    "import Trainer\n",
    "from network import NFM\n",
    "import torch.utils.data as Data\n",
    "from Utils.criteo_loader import getTestData, getTrainData\n",
    "\n",
    "nfm_config = \\\n",
    "{\n",
    "    'n_class':9,\n",
    "    'linear_hidden1':1000,\n",
    "    'linear_hidden':100,#线性模型输出层（隐层个数）\n",
    "    'embed_input_dim':1001,#embed输入维度\n",
    "    'embed_dim': 100, # 用于控制稀疏特征经过Embedding层后的稠密特征大小，embed输出维度\n",
    "    #'dnn_hidden_units': [100,11],#MLP隐层和输出层\n",
    "    \n",
    "    'dnn_hidden_units':[100,9],#MLP隐层\n",
    "    'num_sparse_features_cols':4224,#the number of the gene columns\n",
    "    'num_dense_features': 0,#dense features number\n",
    "    'bi_dropout': 0.5,#Bi-Interaction 的dropout\n",
    "    'num_epoch': 500,#训练epoch次数\n",
    "    'batch_size': 24,#batch_size\n",
    "    'lr': 1e-3,\n",
    "    'l2_regularization': 1e-4,\n",
    "    'device_id': 0,\n",
    "    'use_cuda': False,\n",
    "    'epoch':1000,\n",
    "    'USE_MIXUP':True,\n",
    "    'MIXUP_ALPHA': 0.5,#add mixup alpha ,用于beta分布\n",
    "    \n",
    "    #'train_file': '../Data/criteo/processed_data/train_set.csv',\n",
    "    #'fea_file': '../Data/criteo/processed_data/fea_col.npy',\n",
    "    #'validate_file': '../Data/criteo/processed_data/val_set.csv',\n",
    "    #'test_file': '../Data/criteo/processed_data/test_set.csv',\n",
    "    #'model_name': '../TrainedModels/NFM.model'\n",
    "    #'train_file':'data/xiaoqiu_gene_5000/train/final_5000_encode_100x.csv',\n",
    "    'train_data':'dataset/xiaoguan/RF/RF_for_train/train_class_9/train/train_encode_datax.csv',\n",
    "    'train_label':'dataset/xiaoguan/RF/RF_for_train/train_class_9/train/train_label.csv',\n",
    "    'test_data':'dataset/xiaoguan/RF/RF_for_train/train_class_9/test/test_encode_datax.csv',\n",
    "    'test_label':'dataset/xiaoguan/RF/RF_for_train/train_class_9/test/test_label.csv',\n",
    "    #'title':'dataset/xiaoguan/RF/RF_for_train/train_class_9/test/test_data.csv',\n",
    "    \n",
    "    #'all':''\n",
    "    #'title':'data/xiaoqiu_gene_5000/train/gene_5000_gene_name.csv',\n",
    "    #'all':'data/xiaoqiu_gene_5000/train/gene_5000_label_name.csv'\n",
    "}"
   ]
  },
  {
   "cell_type": "code",
   "execution_count": 9,
   "id": "c5ed200c",
   "metadata": {},
   "outputs": [],
   "source": [
    "#准备训练集\n",
    "\n",
    "import os\n",
    "import time\n",
    "import argparse\n",
    "import numpy as np\n",
    "import pandas as pd \n",
    "\n",
    "import torch\n",
    "import torch.nn as nn\n",
    "import torch.optim as optim\n",
    "import torch.utils.data as data\n",
    "import torch.backends.cudnn as cudnn\n",
    "#3from tensorboardX import SummaryWriter\n",
    "\n",
    "#import network\n",
    "import config\n",
    "import evaluate\n",
    "import data_utils\n",
    "import Trainer\n",
    "#from utils import \n",
    "#准备训练集\n",
    "#from new_dataset_processed import FMData\n",
    "\n",
    "\n",
    "from dataset_process import FMData\n",
    "#from dataset_process2 import FMData\n",
    "def prepare_dataset(m_data,m_label,batch_size,n_class):\n",
    "\n",
    "    #bn=nn.BatchNorm1d(4224)\n",
    "    #m_data=bn(m_data)\n",
    "    m_dataset=FMData(m_data,m_label,n_class)\n",
    "    m_dataloader=data.DataLoader(m_dataset, drop_last=True,batch_size=batch_size,shuffle=True,num_workers=4)\n",
    "    \n",
    "    return m_dataset,m_dataloader\n"
   ]
  },
  {
   "cell_type": "code",
   "execution_count": 10,
   "id": "5a5121b3",
   "metadata": {},
   "outputs": [],
   "source": [
    "#版权声明：本文为CSDN博主「山阴少年」的原创文章，遵循CC 4.0 BY-SA版权协议，转载请附上原文出处链接及本声明。  \n",
    "#原文链接：https://blog.csdn.net/jclian91/article/details/121708431#   \n",
    "from torch.autograd import Variable   \n",
    "from torch.utils.data import DataLoader   \n",
    "from sklearn.metrics import roc_auc_score   \n",
    "from sklearn.metrics import accuracy_score   \n",
    "        \n",
    "        \n",
    "def evaluate_model(test_dl , model):   \n",
    "    predictions,  actuals = [] , []   \n",
    "    for i , (inputs , targets) in enumerate(test_dl):   \n",
    "        # evaluate the model on the test set   \n",
    "        #print(\\ inputs:\\  inputs)   \n",
    "        #print(\\ targets:\\  targets)   \n",
    "        inputs = Variable(inputs)   \n",
    "        targets = Variable(targets)   \n",
    "                    \n",
    "                    \n",
    "        #x = torch.tensor(x  dtype=torch.float)   \n",
    "        #x=x.clone().detach().requires_grad_(True)   \n",
    "        inputs=torch.tensor(inputs ,dtype=torch.float)   \n",
    "        targets=torch.tensor(targets ,dtype=torch.float)   \n",
    "        inputs , targets = inputs.cuda(),  targets.cuda()   \n",
    "        yhat = model(inputs)   \n",
    "        #print(\"yhat:\",yhat)\n",
    "        # retrieve numpy array   \n",
    "        #yhat = yhat.detach().numpy()   \n",
    "        yhat = yhat.detach().cpu().numpy()#转换到cpu   \n",
    "        # yhat=yhat.argmax(axis=1)   \n",
    "        #print(' yhat:',  yhat)   \n",
    "        #print('yhat.shape:' ,yhat.shape)   \n",
    "        actual = targets.detach().cpu().numpy()   \n",
    "        actual=actual.round()   \n",
    "        #print('actual:',  actual)   \n",
    "        #print('actual.shape:', actual.shape)   \n",
    "        #actual = actual.reshape(-1  1)   \n",
    "        # round to class values   \n",
    "        yhat = yhat.round()   \n",
    "        # store   \n",
    "        predictions.append(yhat)   \n",
    "        actuals.append(actual)   \n",
    "    #print('prediction:',  predictions)   \n",
    "    #print('actuals:',  actuals)   \n",
    "    predictions , actuals = np.vstack(predictions) , np.vstack(actuals)   \n",
    "    #print('prediction:',  predictions)   \n",
    "    #print('actuals:',  actuals)   \n",
    "    # calculate accuracy   \n",
    "    acc_test = accuracy_score(actuals , predictions)   \n",
    "    return  actuals , predictions ,acc_test \n",
    "   "
   ]
  },
  {
   "cell_type": "code",
   "execution_count": 18,
   "id": "06e286d5",
   "metadata": {},
   "outputs": [],
   "source": [
    "from torch.autograd import Variable\n",
    "from torch.utils.data import DataLoader\n",
    "from sklearn.metrics import roc_auc_score\n",
    "from new_nfm_network import NFM\n",
    "import os\n",
    "import time\n",
    "import argparse\n",
    "import numpy as np\n",
    "import pandas as pd \n",
    "import sys\n",
    "\n",
    "import torch\n",
    "import torch.nn as nn\n",
    "import torch.optim as optim\n",
    "import torch.utils.data as data\n",
    "import torch.backends.cudnn as cudnn\n",
    "#3from tensorboardX import SummaryWriter\n",
    "import sys \n",
    "#import network\n",
    "import config\n",
    "import evaluate\n",
    "import data_utils\n",
    "import Trainer\n",
    "import torchmetrics\n",
    "def   train_data(model,train_loader,test_loader,batch_size,model_path):\n",
    "    #train_accuracy=torchmetrics.Accuracy()\n",
    "    #test_accuracy=torchmetrics.Accuracy()\n",
    "    BATCH_SIZE=batch_size\n",
    "    optimizer = torch.optim.Adam(model.parameters(), lr=nfm_config['lr'], weight_decay=nfm_config['l2_regularization'])\n",
    "    total = 0\n",
    "    \n",
    "    #loss_func = torch.nn.BCELoss()\n",
    "    loss_func=torch.nn.CrossEntropyLoss()\n",
    "    #loss_func=nn.MultiLabelSoftMarginLoss()\n",
    "    #loss_func=torch.nn.LogSoftmax()\n",
    "    num=1000\n",
    "    #model=nn.Softmax(nn.Linear(10149,16)).to(device)\n",
    "    # 从DataLoader中获取小批量的id以及数据\n",
    "    for epoch_id in range(1000):\n",
    "        correct=0\n",
    "        total=0\n",
    "        total_test_acc=0\n",
    "        \n",
    "        for batch_idx, (x, labels) in enumerate(train_loader):\n",
    "            x = Variable(x)\n",
    "            labels = Variable(labels)\n",
    "            \n",
    "            \n",
    "            #x = torch.tensor(x, dtype=torch.float)\n",
    "            #x=x.clone().detach().requires_grad_(True)\n",
    "            x=torch.tensor(x,dtype=torch.float)\n",
    "            labels=torch.tensor(labels,dtype=torch.float)\n",
    "            x, labels = x.cuda(), labels.cuda()\n",
    "            labels_int=labels=torch.max(labels,1)[1]\n",
    "            #labels_int.cuda()\n",
    "            #print(\"labels:\",labels)\n",
    "            \n",
    "            optimizer.zero_grad()\n",
    "            y_predict = model(x)\n",
    "            #print(\"y_predict:\",y_predict)\n",
    "            #loss = loss_func(y_predict.view(-1), labels)\n",
    "            loss = loss_func(y_predict, labels)\n",
    "            loss.backward()\n",
    "            optimizer.step()\n",
    "            \n",
    "            loss = loss.item()\n",
    "            #loss, predicted = self._train_single_batch(x, labels)\n",
    "\n",
    "            total += loss\n",
    "            \n",
    "            \n",
    "            #predicted = torch.max(y_predict.data,1)\n",
    "            #print(\"predicted:\",predicted)\n",
    "            #predicted = torch.max(y_predict.data,1)[1]\n",
    "            #predicted=predicted.detach().cpu().numpy()\n",
    "            \n",
    "            #labels=torch.max(labels,1)\n",
    "            #print(\"labels:\",labels)\n",
    "            #labels=labels[1]\n",
    "            #y_predict=y_predict.cuda()\n",
    "            #labels=torch.max(labels,1)[1].cuda()\n",
    "            #labels=labels.detach().cpu().numpy()\n",
    "            #correct += (predicted == labels).sum()\n",
    "            #print(\"correct:\",correct)\n",
    "            #correct=correct[0]\n",
    "            #print(\"new_correct:\",float(correct))\n",
    "            #correct=float(correct)   \n",
    "            #if batch_idx % 10 == 0:\n",
    "            #print(\"batch_idx:\",batch_idx)\n",
    "            #print(correct/(BATCH_SIZE*(batch_idx+1)))\n",
    "            batch_train_acc=torchmetrics.functional.accuracy(y_predict,labels_int)\n",
    "            #print('batch_train_acc:',batch_train_acc)\n",
    "        #total_train_accuracy=torchmetrics.functional.compute_details()\n",
    "        #print('total_train_accuracy:',total_train_accuracy)\n",
    "        for i , (inputs , targets) in enumerate(test_loader):   \n",
    "            # evaluate the model on the test set   \n",
    "            #print(\\ inputs:\\  inputs)   \n",
    "            #print(\\ targets:\\  targets)   \n",
    "            inputs = Variable(inputs)   \n",
    "            targets = Variable(targets)     \n",
    "            #x = torch.tensor(x  dtype=torch.float)   \n",
    "            #x=x.clone().detach().requires_grad_(True)   \n",
    "            inputs=torch.tensor(inputs ,dtype=torch.float)   \n",
    "            targets=torch.tensor(targets ,dtype=torch.float)   \n",
    "            inputs , targets = inputs.cuda(),  targets.cuda()   \n",
    "            yhat = model(inputs)  \n",
    "            \n",
    "            #yhat = torch.max(yhat.data,1)[1]\n",
    "            #yhat=yhat.detach().cpu().numpy()\n",
    "            #print(\"predicted:\",predicted)\n",
    "            #predicted = torch.max(y_predict.data,1)[1]\n",
    "             #predicted = torch.max(y_predict.data,1)[1]\n",
    "            \n",
    "            \n",
    "            targets=torch.max(targets,1)[1]\n",
    "            #print(\"labels:\",labels)\n",
    "            #labels=labels[1]\n",
    "            #targets=targets.detach().cpu().numpy()\n",
    "            \n",
    "            \n",
    "            \n",
    "            batch_test_acc=torchmetrics.functional.accuracy(yhat,targets)\n",
    "            #print(\"batch_test_acc:\",batch_test_acc)\n",
    "            total_test_acc+=batch_test_acc\n",
    "            #total_test_accuracy=torchmetrics.functional.compute_details()\n",
    "        print('total_test_accuracy:',total_test_acc/(i+1))\n",
    "        \n",
    "                    \n",
    "                    \n",
    "            \n",
    "            #model.evaluate()\n",
    "            #model.eval()\n",
    "            #train_result = evaluate.metrics(model, train_loader)\n",
    "            #valid_result = evaluate.metrics(model, valid_loader)\n",
    "            #est_result = evaluate.metrics(model, test_loader)\n",
    "            #acturals,predictions,acc_test=evaluate_model(test_loader,model)\n",
    "            #print(\"acc_test:  %d  \" %(acc_test))\n",
    "            #print(\"Train_RMSE: {:.3f}, Valid_RMSE: {:.3f}, Test_RMSE: {:.3f}\".format(\n",
    "            #train_result, valid_result, test_result))\n",
    "            # print('[Training Epoch: {}] Batch: {}, Loss: {}'.format(epoch_id, batch_id, loss))\n",
    "        print(\"Training Epoch: %d, total loss: %f\" % (epoch_id, total))\n",
    "        #print(\"auc:\",roc_auc_score)\n",
    "    #功能：保存训练完的网络的各层参数（即weights和bias)\n",
    "    #path='dataset/xiaoguan/RF/RF_for_train/train_class_9/model/gene_4000_NFM.pkl'\n",
    "        if epoch_id %100==0:\n",
    "            num=num+1\n",
    "            path=os.path.join(model_path,'MLP'+str(num)+'.pkl')\n",
    "            torch.save(model.state_dict(),path)"
   ]
  },
  {
   "cell_type": "code",
   "execution_count": 17,
   "id": "96a61fde",
   "metadata": {},
   "outputs": [
    {
     "name": "stdout",
     "output_type": "stream",
     "text": [
      "FMData\n",
      "FMData\n",
      "MLP: MLP(\n",
      "  (fc1): Linear(in_features=4224, out_features=1000, bias=True)\n",
      "  (bn1): BatchNorm1d(1000, eps=1e-05, momentum=0.1, affine=True, track_running_stats=True)\n",
      "  (fc2): Linear(in_features=1000, out_features=100, bias=True)\n",
      "  (bn2): BatchNorm1d(100, eps=1e-05, momentum=0.1, affine=True, track_running_stats=True)\n",
      "  (fc3): Linear(in_features=100, out_features=9, bias=True)\n",
      "  (bn3): BatchNorm1d(9, eps=1e-05, momentum=0.1, affine=True, track_running_stats=True)\n",
      "  (drop): Dropout(p=0.5, inplace=False)\n",
      ")\n"
     ]
    },
    {
     "name": "stderr",
     "output_type": "stream",
     "text": [
      "/home/zhengfang/.local/lib/python3.6/site-packages/ipykernel_launcher.py:51: UserWarning: To copy construct from a tensor, it is recommended to use sourceTensor.clone().detach() or sourceTensor.clone().detach().requires_grad_(True), rather than torch.tensor(sourceTensor).\n",
      "/home/zhengfang/.local/lib/python3.6/site-packages/ipykernel_launcher.py:52: UserWarning: To copy construct from a tensor, it is recommended to use sourceTensor.clone().detach() or sourceTensor.clone().detach().requires_grad_(True), rather than torch.tensor(sourceTensor).\n",
      "/home/zhengfang/.local/lib/python3.6/site-packages/ipykernel_launcher.py:103: UserWarning: To copy construct from a tensor, it is recommended to use sourceTensor.clone().detach() or sourceTensor.clone().detach().requires_grad_(True), rather than torch.tensor(sourceTensor).\n",
      "/home/zhengfang/.local/lib/python3.6/site-packages/ipykernel_launcher.py:104: UserWarning: To copy construct from a tensor, it is recommended to use sourceTensor.clone().detach() or sourceTensor.clone().detach().requires_grad_(True), rather than torch.tensor(sourceTensor).\n"
     ]
    },
    {
     "name": "stdout",
     "output_type": "stream",
     "text": [
      "total_test_accuracy: tensor(0.3750, device='cuda:0')\n",
      "Training Epoch: 0, total loss: 53.604260\n",
      "total_test_accuracy: tensor(0.2361, device='cuda:0')\n",
      "Training Epoch: 1, total loss: 52.301089\n",
      "total_test_accuracy: tensor(0.3194, device='cuda:0')\n",
      "Training Epoch: 2, total loss: 51.972631\n",
      "total_test_accuracy: tensor(0.3194, device='cuda:0')\n",
      "Training Epoch: 3, total loss: 51.480722\n",
      "total_test_accuracy: tensor(0.4306, device='cuda:0')\n",
      "Training Epoch: 4, total loss: 51.368816\n",
      "total_test_accuracy: tensor(0.3750, device='cuda:0')\n",
      "Training Epoch: 5, total loss: 50.890346\n",
      "total_test_accuracy: tensor(0.4028, device='cuda:0')\n",
      "Training Epoch: 6, total loss: 50.800626\n",
      "total_test_accuracy: tensor(0.4306, device='cuda:0')\n",
      "Training Epoch: 7, total loss: 50.584089\n",
      "total_test_accuracy: tensor(0.5417, device='cuda:0')\n",
      "Training Epoch: 8, total loss: 50.228256\n",
      "total_test_accuracy: tensor(0.5278, device='cuda:0')\n",
      "Training Epoch: 9, total loss: 49.615695\n",
      "total_test_accuracy: tensor(0.5417, device='cuda:0')\n",
      "Training Epoch: 10, total loss: 49.542524\n",
      "total_test_accuracy: tensor(0.5139, device='cuda:0')\n",
      "Training Epoch: 11, total loss: 49.391568\n",
      "total_test_accuracy: tensor(0.5417, device='cuda:0')\n",
      "Training Epoch: 12, total loss: 49.100231\n",
      "total_test_accuracy: tensor(0.6111, device='cuda:0')\n",
      "Training Epoch: 13, total loss: 49.210342\n",
      "total_test_accuracy: tensor(0.5417, device='cuda:0')\n",
      "Training Epoch: 14, total loss: 48.794104\n",
      "total_test_accuracy: tensor(0.6111, device='cuda:0')\n",
      "Training Epoch: 15, total loss: 48.635443\n",
      "total_test_accuracy: tensor(0.6667, device='cuda:0')\n",
      "Training Epoch: 16, total loss: 48.056853\n",
      "total_test_accuracy: tensor(0.5556, device='cuda:0')\n",
      "Training Epoch: 17, total loss: 48.317300\n",
      "total_test_accuracy: tensor(0.5833, device='cuda:0')\n",
      "Training Epoch: 18, total loss: 48.271335\n",
      "total_test_accuracy: tensor(0.6389, device='cuda:0')\n",
      "Training Epoch: 19, total loss: 48.190650\n",
      "total_test_accuracy: tensor(0.5833, device='cuda:0')\n",
      "Training Epoch: 20, total loss: 47.518126\n",
      "total_test_accuracy: tensor(0.5833, device='cuda:0')\n",
      "Training Epoch: 21, total loss: 47.786753\n",
      "total_test_accuracy: tensor(0.5833, device='cuda:0')\n",
      "Training Epoch: 22, total loss: 47.715095\n",
      "total_test_accuracy: tensor(0.5694, device='cuda:0')\n",
      "Training Epoch: 23, total loss: 47.444300\n",
      "total_test_accuracy: tensor(0.5694, device='cuda:0')\n",
      "Training Epoch: 24, total loss: 48.038931\n",
      "total_test_accuracy: tensor(0.6944, device='cuda:0')\n",
      "Training Epoch: 25, total loss: 47.272003\n",
      "total_test_accuracy: tensor(0.5833, device='cuda:0')\n",
      "Training Epoch: 26, total loss: 46.967943\n",
      "total_test_accuracy: tensor(0.6250, device='cuda:0')\n",
      "Training Epoch: 27, total loss: 47.431986\n",
      "total_test_accuracy: tensor(0.6111, device='cuda:0')\n",
      "Training Epoch: 28, total loss: 47.591078\n",
      "total_test_accuracy: tensor(0.5694, device='cuda:0')\n",
      "Training Epoch: 29, total loss: 46.854083\n",
      "total_test_accuracy: tensor(0.7083, device='cuda:0')\n",
      "Training Epoch: 30, total loss: 47.077440\n",
      "total_test_accuracy: tensor(0.6389, device='cuda:0')\n",
      "Training Epoch: 31, total loss: 46.829990\n",
      "total_test_accuracy: tensor(0.6528, device='cuda:0')\n",
      "Training Epoch: 32, total loss: 46.707337\n",
      "total_test_accuracy: tensor(0.6111, device='cuda:0')\n",
      "Training Epoch: 33, total loss: 46.732608\n",
      "total_test_accuracy: tensor(0.4861, device='cuda:0')\n",
      "Training Epoch: 34, total loss: 46.742419\n",
      "total_test_accuracy: tensor(0.6389, device='cuda:0')\n",
      "Training Epoch: 35, total loss: 46.762592\n",
      "total_test_accuracy: tensor(0.5417, device='cuda:0')\n",
      "Training Epoch: 36, total loss: 46.632406\n",
      "total_test_accuracy: tensor(0.6111, device='cuda:0')\n",
      "Training Epoch: 37, total loss: 46.488151\n",
      "total_test_accuracy: tensor(0.6389, device='cuda:0')\n",
      "Training Epoch: 38, total loss: 46.584016\n",
      "total_test_accuracy: tensor(0.6111, device='cuda:0')\n",
      "Training Epoch: 39, total loss: 46.488917\n",
      "total_test_accuracy: tensor(0.5972, device='cuda:0')\n",
      "Training Epoch: 40, total loss: 46.936047\n",
      "total_test_accuracy: tensor(0.5972, device='cuda:0')\n",
      "Training Epoch: 41, total loss: 47.049848\n",
      "total_test_accuracy: tensor(0.6111, device='cuda:0')\n",
      "Training Epoch: 42, total loss: 46.518712\n",
      "total_test_accuracy: tensor(0.5972, device='cuda:0')\n",
      "Training Epoch: 43, total loss: 46.246246\n",
      "total_test_accuracy: tensor(0.5556, device='cuda:0')\n",
      "Training Epoch: 44, total loss: 46.787703\n",
      "total_test_accuracy: tensor(0.5972, device='cuda:0')\n",
      "Training Epoch: 45, total loss: 46.036905\n",
      "total_test_accuracy: tensor(0.6250, device='cuda:0')\n",
      "Training Epoch: 46, total loss: 46.106894\n",
      "total_test_accuracy: tensor(0.6389, device='cuda:0')\n",
      "Training Epoch: 47, total loss: 45.931532\n",
      "total_test_accuracy: tensor(0.6528, device='cuda:0')\n",
      "Training Epoch: 48, total loss: 46.105115\n",
      "total_test_accuracy: tensor(0.6250, device='cuda:0')\n",
      "Training Epoch: 49, total loss: 45.413922\n",
      "total_test_accuracy: tensor(0.6944, device='cuda:0')\n",
      "Training Epoch: 50, total loss: 45.503070\n",
      "total_test_accuracy: tensor(0.6528, device='cuda:0')\n",
      "Training Epoch: 51, total loss: 45.073743\n",
      "total_test_accuracy: tensor(0.6250, device='cuda:0')\n",
      "Training Epoch: 52, total loss: 45.215789\n",
      "total_test_accuracy: tensor(0.6250, device='cuda:0')\n",
      "Training Epoch: 53, total loss: 44.717561\n",
      "total_test_accuracy: tensor(0.6389, device='cuda:0')\n",
      "Training Epoch: 54, total loss: 45.129798\n",
      "total_test_accuracy: tensor(0.6389, device='cuda:0')\n",
      "Training Epoch: 55, total loss: 45.330631\n",
      "total_test_accuracy: tensor(0.7222, device='cuda:0')\n",
      "Training Epoch: 56, total loss: 45.359737\n",
      "total_test_accuracy: tensor(0.5972, device='cuda:0')\n",
      "Training Epoch: 57, total loss: 45.256298\n",
      "total_test_accuracy: tensor(0.6806, device='cuda:0')\n",
      "Training Epoch: 58, total loss: 45.250156\n",
      "total_test_accuracy: tensor(0.6111, device='cuda:0')\n",
      "Training Epoch: 59, total loss: 45.188330\n",
      "total_test_accuracy: tensor(0.5972, device='cuda:0')\n",
      "Training Epoch: 60, total loss: 45.061235\n",
      "total_test_accuracy: tensor(0.6806, device='cuda:0')\n",
      "Training Epoch: 61, total loss: 45.032847\n",
      "total_test_accuracy: tensor(0.6806, device='cuda:0')\n",
      "Training Epoch: 62, total loss: 45.238407\n",
      "total_test_accuracy: tensor(0.5972, device='cuda:0')\n",
      "Training Epoch: 63, total loss: 44.826397\n",
      "total_test_accuracy: tensor(0.6250, device='cuda:0')\n",
      "Training Epoch: 64, total loss: 45.540515\n",
      "total_test_accuracy: tensor(0.6528, device='cuda:0')\n",
      "Training Epoch: 65, total loss: 45.316208\n",
      "total_test_accuracy: tensor(0.6389, device='cuda:0')\n",
      "Training Epoch: 66, total loss: 45.457454\n",
      "total_test_accuracy: tensor(0.6528, device='cuda:0')\n",
      "Training Epoch: 67, total loss: 44.909543\n",
      "total_test_accuracy: tensor(0.5972, device='cuda:0')\n",
      "Training Epoch: 68, total loss: 44.744982\n",
      "total_test_accuracy: tensor(0.6250, device='cuda:0')\n",
      "Training Epoch: 69, total loss: 45.255922\n",
      "total_test_accuracy: tensor(0.7222, device='cuda:0')\n",
      "Training Epoch: 70, total loss: 45.530812\n",
      "total_test_accuracy: tensor(0.6528, device='cuda:0')\n",
      "Training Epoch: 71, total loss: 44.560898\n",
      "total_test_accuracy: tensor(0.6250, device='cuda:0')\n",
      "Training Epoch: 72, total loss: 45.017862\n",
      "total_test_accuracy: tensor(0.5833, device='cuda:0')\n",
      "Training Epoch: 73, total loss: 44.976217\n",
      "total_test_accuracy: tensor(0.6806, device='cuda:0')\n",
      "Training Epoch: 74, total loss: 45.059815\n",
      "total_test_accuracy: tensor(0.6250, device='cuda:0')\n",
      "Training Epoch: 75, total loss: 44.873622\n",
      "total_test_accuracy: tensor(0.5833, device='cuda:0')\n",
      "Training Epoch: 76, total loss: 44.308359\n",
      "total_test_accuracy: tensor(0.6806, device='cuda:0')\n",
      "Training Epoch: 77, total loss: 44.596460\n",
      "total_test_accuracy: tensor(0.6389, device='cuda:0')\n",
      "Training Epoch: 78, total loss: 44.344749\n",
      "total_test_accuracy: tensor(0.6250, device='cuda:0')\n",
      "Training Epoch: 79, total loss: 44.607986\n",
      "total_test_accuracy: tensor(0.7222, device='cuda:0')\n",
      "Training Epoch: 80, total loss: 44.850352\n",
      "total_test_accuracy: tensor(0.6806, device='cuda:0')\n",
      "Training Epoch: 81, total loss: 44.985646\n",
      "total_test_accuracy: tensor(0.6389, device='cuda:0')\n",
      "Training Epoch: 82, total loss: 44.454698\n",
      "total_test_accuracy: tensor(0.6667, device='cuda:0')\n",
      "Training Epoch: 83, total loss: 44.882563\n",
      "total_test_accuracy: tensor(0.6667, device='cuda:0')\n",
      "Training Epoch: 84, total loss: 44.426446\n",
      "total_test_accuracy: tensor(0.6528, device='cuda:0')\n",
      "Training Epoch: 85, total loss: 44.463054\n",
      "total_test_accuracy: tensor(0.6111, device='cuda:0')\n",
      "Training Epoch: 86, total loss: 44.575734\n"
     ]
    },
    {
     "name": "stdout",
     "output_type": "stream",
     "text": [
      "total_test_accuracy: tensor(0.6250, device='cuda:0')\n",
      "Training Epoch: 87, total loss: 44.664013\n",
      "total_test_accuracy: tensor(0.6528, device='cuda:0')\n",
      "Training Epoch: 88, total loss: 44.117082\n",
      "total_test_accuracy: tensor(0.6806, device='cuda:0')\n",
      "Training Epoch: 89, total loss: 43.958905\n",
      "total_test_accuracy: tensor(0.6667, device='cuda:0')\n",
      "Training Epoch: 90, total loss: 44.317117\n",
      "total_test_accuracy: tensor(0.6250, device='cuda:0')\n",
      "Training Epoch: 91, total loss: 44.458047\n",
      "total_test_accuracy: tensor(0.6667, device='cuda:0')\n",
      "Training Epoch: 92, total loss: 44.849837\n",
      "total_test_accuracy: tensor(0.6944, device='cuda:0')\n",
      "Training Epoch: 93, total loss: 43.696820\n",
      "total_test_accuracy: tensor(0.5972, device='cuda:0')\n",
      "Training Epoch: 94, total loss: 43.647396\n",
      "total_test_accuracy: tensor(0.6944, device='cuda:0')\n",
      "Training Epoch: 95, total loss: 44.364054\n",
      "total_test_accuracy: tensor(0.6250, device='cuda:0')\n",
      "Training Epoch: 96, total loss: 44.144101\n",
      "total_test_accuracy: tensor(0.5833, device='cuda:0')\n",
      "Training Epoch: 97, total loss: 43.603548\n",
      "total_test_accuracy: tensor(0.5833, device='cuda:0')\n",
      "Training Epoch: 98, total loss: 44.507976\n",
      "total_test_accuracy: tensor(0.6250, device='cuda:0')\n",
      "Training Epoch: 99, total loss: 43.785303\n",
      "total_test_accuracy: tensor(0.6667, device='cuda:0')\n",
      "Training Epoch: 100, total loss: 43.998809\n",
      "total_test_accuracy: tensor(0.5972, device='cuda:0')\n",
      "Training Epoch: 101, total loss: 43.722890\n",
      "total_test_accuracy: tensor(0.6250, device='cuda:0')\n",
      "Training Epoch: 102, total loss: 43.799137\n",
      "total_test_accuracy: tensor(0.7361, device='cuda:0')\n",
      "Training Epoch: 103, total loss: 43.336601\n",
      "total_test_accuracy: tensor(0.6944, device='cuda:0')\n",
      "Training Epoch: 104, total loss: 43.588549\n",
      "total_test_accuracy: tensor(0.7083, device='cuda:0')\n",
      "Training Epoch: 105, total loss: 43.987223\n",
      "total_test_accuracy: tensor(0.6389, device='cuda:0')\n",
      "Training Epoch: 106, total loss: 43.952723\n",
      "total_test_accuracy: tensor(0.6528, device='cuda:0')\n",
      "Training Epoch: 107, total loss: 43.264010\n",
      "total_test_accuracy: tensor(0.5972, device='cuda:0')\n",
      "Training Epoch: 108, total loss: 44.089338\n",
      "total_test_accuracy: tensor(0.5694, device='cuda:0')\n",
      "Training Epoch: 109, total loss: 44.343547\n",
      "total_test_accuracy: tensor(0.6389, device='cuda:0')\n",
      "Training Epoch: 110, total loss: 45.050061\n",
      "total_test_accuracy: tensor(0.6111, device='cuda:0')\n",
      "Training Epoch: 111, total loss: 44.730610\n",
      "total_test_accuracy: tensor(0.6667, device='cuda:0')\n",
      "Training Epoch: 112, total loss: 44.345249\n",
      "total_test_accuracy: tensor(0.7083, device='cuda:0')\n",
      "Training Epoch: 113, total loss: 44.239326\n",
      "total_test_accuracy: tensor(0.6250, device='cuda:0')\n",
      "Training Epoch: 114, total loss: 44.342041\n",
      "total_test_accuracy: tensor(0.6528, device='cuda:0')\n",
      "Training Epoch: 115, total loss: 44.651507\n",
      "total_test_accuracy: tensor(0.6667, device='cuda:0')\n",
      "Training Epoch: 116, total loss: 43.920047\n",
      "total_test_accuracy: tensor(0.6528, device='cuda:0')\n",
      "Training Epoch: 117, total loss: 44.238805\n",
      "total_test_accuracy: tensor(0.5972, device='cuda:0')\n",
      "Training Epoch: 118, total loss: 44.469625\n",
      "total_test_accuracy: tensor(0.6111, device='cuda:0')\n",
      "Training Epoch: 119, total loss: 44.318227\n",
      "total_test_accuracy: tensor(0.6111, device='cuda:0')\n",
      "Training Epoch: 120, total loss: 44.057282\n",
      "total_test_accuracy: tensor(0.6667, device='cuda:0')\n",
      "Training Epoch: 121, total loss: 43.841257\n",
      "total_test_accuracy: tensor(0.6250, device='cuda:0')\n",
      "Training Epoch: 122, total loss: 44.675512\n",
      "total_test_accuracy: tensor(0.5972, device='cuda:0')\n",
      "Training Epoch: 123, total loss: 44.867761\n",
      "total_test_accuracy: tensor(0.7083, device='cuda:0')\n",
      "Training Epoch: 124, total loss: 44.202386\n",
      "total_test_accuracy: tensor(0.5972, device='cuda:0')\n",
      "Training Epoch: 125, total loss: 43.890346\n",
      "total_test_accuracy: tensor(0.6389, device='cuda:0')\n",
      "Training Epoch: 126, total loss: 43.473530\n",
      "total_test_accuracy: tensor(0.6667, device='cuda:0')\n",
      "Training Epoch: 127, total loss: 43.545424\n",
      "total_test_accuracy: tensor(0.6250, device='cuda:0')\n",
      "Training Epoch: 128, total loss: 43.879929\n",
      "total_test_accuracy: tensor(0.6250, device='cuda:0')\n",
      "Training Epoch: 129, total loss: 43.906808\n",
      "total_test_accuracy: tensor(0.6806, device='cuda:0')\n",
      "Training Epoch: 130, total loss: 43.659693\n",
      "total_test_accuracy: tensor(0.6111, device='cuda:0')\n",
      "Training Epoch: 131, total loss: 44.252721\n",
      "total_test_accuracy: tensor(0.6111, device='cuda:0')\n",
      "Training Epoch: 132, total loss: 44.067772\n",
      "total_test_accuracy: tensor(0.6111, device='cuda:0')\n",
      "Training Epoch: 133, total loss: 44.072156\n",
      "total_test_accuracy: tensor(0.6528, device='cuda:0')\n",
      "Training Epoch: 134, total loss: 43.880347\n",
      "total_test_accuracy: tensor(0.6667, device='cuda:0')\n",
      "Training Epoch: 135, total loss: 43.376499\n",
      "total_test_accuracy: tensor(0.6111, device='cuda:0')\n",
      "Training Epoch: 136, total loss: 44.189521\n",
      "total_test_accuracy: tensor(0.5694, device='cuda:0')\n",
      "Training Epoch: 137, total loss: 43.444548\n",
      "total_test_accuracy: tensor(0.6389, device='cuda:0')\n",
      "Training Epoch: 138, total loss: 44.171844\n",
      "total_test_accuracy: tensor(0.5556, device='cuda:0')\n",
      "Training Epoch: 139, total loss: 43.836837\n",
      "total_test_accuracy: tensor(0.6111, device='cuda:0')\n",
      "Training Epoch: 140, total loss: 44.108259\n",
      "total_test_accuracy: tensor(0.6250, device='cuda:0')\n",
      "Training Epoch: 141, total loss: 43.394179\n",
      "total_test_accuracy: tensor(0.6389, device='cuda:0')\n",
      "Training Epoch: 142, total loss: 43.533180\n",
      "total_test_accuracy: tensor(0.6111, device='cuda:0')\n",
      "Training Epoch: 143, total loss: 43.988742\n",
      "total_test_accuracy: tensor(0.5694, device='cuda:0')\n",
      "Training Epoch: 144, total loss: 44.473112\n",
      "total_test_accuracy: tensor(0.6389, device='cuda:0')\n",
      "Training Epoch: 145, total loss: 43.862186\n",
      "total_test_accuracy: tensor(0.5972, device='cuda:0')\n",
      "Training Epoch: 146, total loss: 43.782910\n",
      "total_test_accuracy: tensor(0.6250, device='cuda:0')\n",
      "Training Epoch: 147, total loss: 43.485309\n",
      "total_test_accuracy: tensor(0.6389, device='cuda:0')\n",
      "Training Epoch: 148, total loss: 43.505809\n",
      "total_test_accuracy: tensor(0.6667, device='cuda:0')\n",
      "Training Epoch: 149, total loss: 43.782061\n",
      "total_test_accuracy: tensor(0.6111, device='cuda:0')\n",
      "Training Epoch: 150, total loss: 43.816642\n",
      "total_test_accuracy: tensor(0.6667, device='cuda:0')\n",
      "Training Epoch: 151, total loss: 43.407675\n",
      "total_test_accuracy: tensor(0.5972, device='cuda:0')\n",
      "Training Epoch: 152, total loss: 44.034911\n",
      "total_test_accuracy: tensor(0.6111, device='cuda:0')\n",
      "Training Epoch: 153, total loss: 43.439899\n",
      "total_test_accuracy: tensor(0.6528, device='cuda:0')\n",
      "Training Epoch: 154, total loss: 42.713987\n",
      "total_test_accuracy: tensor(0.6389, device='cuda:0')\n",
      "Training Epoch: 155, total loss: 43.269418\n",
      "total_test_accuracy: tensor(0.6389, device='cuda:0')\n",
      "Training Epoch: 156, total loss: 43.167794\n",
      "total_test_accuracy: tensor(0.5694, device='cuda:0')\n",
      "Training Epoch: 157, total loss: 43.029665\n",
      "total_test_accuracy: tensor(0.6528, device='cuda:0')\n",
      "Training Epoch: 158, total loss: 42.596344\n",
      "total_test_accuracy: tensor(0.6528, device='cuda:0')\n",
      "Training Epoch: 159, total loss: 43.271887\n",
      "total_test_accuracy: tensor(0.6389, device='cuda:0')\n",
      "Training Epoch: 160, total loss: 43.046315\n",
      "total_test_accuracy: tensor(0.6389, device='cuda:0')\n",
      "Training Epoch: 161, total loss: 42.768929\n",
      "total_test_accuracy: tensor(0.6528, device='cuda:0')\n",
      "Training Epoch: 162, total loss: 42.822363\n",
      "total_test_accuracy: tensor(0.6111, device='cuda:0')\n",
      "Training Epoch: 163, total loss: 42.872087\n",
      "total_test_accuracy: tensor(0.7500, device='cuda:0')\n",
      "Training Epoch: 164, total loss: 42.445538\n",
      "total_test_accuracy: tensor(0.6667, device='cuda:0')\n",
      "Training Epoch: 165, total loss: 42.085100\n",
      "total_test_accuracy: tensor(0.6528, device='cuda:0')\n",
      "Training Epoch: 166, total loss: 43.083682\n",
      "total_test_accuracy: tensor(0.6806, device='cuda:0')\n",
      "Training Epoch: 167, total loss: 42.850588\n",
      "total_test_accuracy: tensor(0.6667, device='cuda:0')\n",
      "Training Epoch: 168, total loss: 42.961111\n",
      "total_test_accuracy: tensor(0.6111, device='cuda:0')\n",
      "Training Epoch: 169, total loss: 42.785508\n",
      "total_test_accuracy: tensor(0.7083, device='cuda:0')\n",
      "Training Epoch: 170, total loss: 42.945701\n",
      "total_test_accuracy: tensor(0.6667, device='cuda:0')\n",
      "Training Epoch: 171, total loss: 42.264927\n",
      "total_test_accuracy: tensor(0.6528, device='cuda:0')\n",
      "Training Epoch: 172, total loss: 42.455442\n"
     ]
    },
    {
     "name": "stdout",
     "output_type": "stream",
     "text": [
      "total_test_accuracy: tensor(0.6667, device='cuda:0')\n",
      "Training Epoch: 173, total loss: 42.282254\n",
      "total_test_accuracy: tensor(0.6528, device='cuda:0')\n",
      "Training Epoch: 174, total loss: 42.918743\n",
      "total_test_accuracy: tensor(0.6389, device='cuda:0')\n",
      "Training Epoch: 175, total loss: 43.173463\n",
      "total_test_accuracy: tensor(0.6528, device='cuda:0')\n",
      "Training Epoch: 176, total loss: 42.782948\n",
      "total_test_accuracy: tensor(0.6528, device='cuda:0')\n",
      "Training Epoch: 177, total loss: 43.066568\n",
      "total_test_accuracy: tensor(0.6389, device='cuda:0')\n",
      "Training Epoch: 178, total loss: 42.800467\n",
      "total_test_accuracy: tensor(0.6667, device='cuda:0')\n",
      "Training Epoch: 179, total loss: 43.220274\n",
      "total_test_accuracy: tensor(0.6250, device='cuda:0')\n",
      "Training Epoch: 180, total loss: 42.347567\n",
      "total_test_accuracy: tensor(0.6944, device='cuda:0')\n",
      "Training Epoch: 181, total loss: 43.200843\n",
      "total_test_accuracy: tensor(0.6528, device='cuda:0')\n",
      "Training Epoch: 182, total loss: 42.597849\n",
      "total_test_accuracy: tensor(0.6250, device='cuda:0')\n",
      "Training Epoch: 183, total loss: 43.727197\n",
      "total_test_accuracy: tensor(0.6528, device='cuda:0')\n",
      "Training Epoch: 184, total loss: 42.500336\n",
      "total_test_accuracy: tensor(0.7083, device='cuda:0')\n",
      "Training Epoch: 185, total loss: 42.992666\n",
      "total_test_accuracy: tensor(0.6389, device='cuda:0')\n",
      "Training Epoch: 186, total loss: 43.125227\n",
      "total_test_accuracy: tensor(0.6389, device='cuda:0')\n",
      "Training Epoch: 187, total loss: 43.232693\n",
      "total_test_accuracy: tensor(0.6528, device='cuda:0')\n",
      "Training Epoch: 188, total loss: 43.375893\n",
      "total_test_accuracy: tensor(0.6250, device='cuda:0')\n",
      "Training Epoch: 189, total loss: 42.962138\n",
      "total_test_accuracy: tensor(0.6944, device='cuda:0')\n",
      "Training Epoch: 190, total loss: 42.539178\n",
      "total_test_accuracy: tensor(0.6528, device='cuda:0')\n",
      "Training Epoch: 191, total loss: 41.973454\n",
      "total_test_accuracy: tensor(0.6528, device='cuda:0')\n",
      "Training Epoch: 192, total loss: 41.808738\n",
      "total_test_accuracy: tensor(0.6250, device='cuda:0')\n",
      "Training Epoch: 193, total loss: 42.656947\n",
      "total_test_accuracy: tensor(0.6528, device='cuda:0')\n",
      "Training Epoch: 194, total loss: 42.176062\n",
      "total_test_accuracy: tensor(0.6389, device='cuda:0')\n",
      "Training Epoch: 195, total loss: 42.677025\n",
      "total_test_accuracy: tensor(0.6389, device='cuda:0')\n",
      "Training Epoch: 196, total loss: 41.873212\n",
      "total_test_accuracy: tensor(0.6667, device='cuda:0')\n",
      "Training Epoch: 197, total loss: 42.656107\n",
      "total_test_accuracy: tensor(0.6667, device='cuda:0')\n",
      "Training Epoch: 198, total loss: 42.783986\n",
      "total_test_accuracy: tensor(0.6250, device='cuda:0')\n",
      "Training Epoch: 199, total loss: 41.940074\n",
      "total_test_accuracy: tensor(0.6528, device='cuda:0')\n",
      "Training Epoch: 200, total loss: 42.332049\n",
      "total_test_accuracy: tensor(0.6389, device='cuda:0')\n",
      "Training Epoch: 201, total loss: 42.415326\n",
      "total_test_accuracy: tensor(0.5972, device='cuda:0')\n",
      "Training Epoch: 202, total loss: 41.938630\n",
      "total_test_accuracy: tensor(0.6389, device='cuda:0')\n",
      "Training Epoch: 203, total loss: 42.672606\n",
      "total_test_accuracy: tensor(0.6250, device='cuda:0')\n",
      "Training Epoch: 204, total loss: 42.343059\n",
      "total_test_accuracy: tensor(0.6111, device='cuda:0')\n",
      "Training Epoch: 205, total loss: 42.534599\n",
      "total_test_accuracy: tensor(0.6667, device='cuda:0')\n",
      "Training Epoch: 206, total loss: 42.399791\n",
      "total_test_accuracy: tensor(0.6250, device='cuda:0')\n",
      "Training Epoch: 207, total loss: 42.851671\n",
      "total_test_accuracy: tensor(0.5972, device='cuda:0')\n",
      "Training Epoch: 208, total loss: 41.903751\n",
      "total_test_accuracy: tensor(0.6806, device='cuda:0')\n",
      "Training Epoch: 209, total loss: 42.638067\n",
      "total_test_accuracy: tensor(0.6806, device='cuda:0')\n",
      "Training Epoch: 210, total loss: 42.355286\n",
      "total_test_accuracy: tensor(0.5972, device='cuda:0')\n",
      "Training Epoch: 211, total loss: 42.200811\n",
      "total_test_accuracy: tensor(0.6111, device='cuda:0')\n",
      "Training Epoch: 212, total loss: 41.575565\n",
      "total_test_accuracy: tensor(0.6111, device='cuda:0')\n",
      "Training Epoch: 213, total loss: 42.604350\n",
      "total_test_accuracy: tensor(0.5833, device='cuda:0')\n",
      "Training Epoch: 214, total loss: 42.169744\n",
      "total_test_accuracy: tensor(0.6389, device='cuda:0')\n",
      "Training Epoch: 215, total loss: 42.626779\n",
      "total_test_accuracy: tensor(0.5972, device='cuda:0')\n",
      "Training Epoch: 216, total loss: 43.288211\n",
      "total_test_accuracy: tensor(0.6111, device='cuda:0')\n",
      "Training Epoch: 217, total loss: 42.616173\n",
      "total_test_accuracy: tensor(0.5972, device='cuda:0')\n",
      "Training Epoch: 218, total loss: 43.703000\n",
      "total_test_accuracy: tensor(0.6389, device='cuda:0')\n",
      "Training Epoch: 219, total loss: 42.369068\n",
      "total_test_accuracy: tensor(0.6528, device='cuda:0')\n",
      "Training Epoch: 220, total loss: 41.837842\n",
      "total_test_accuracy: tensor(0.6667, device='cuda:0')\n",
      "Training Epoch: 221, total loss: 41.602175\n",
      "total_test_accuracy: tensor(0.6250, device='cuda:0')\n",
      "Training Epoch: 222, total loss: 41.960236\n",
      "total_test_accuracy: tensor(0.6806, device='cuda:0')\n",
      "Training Epoch: 223, total loss: 42.074474\n",
      "total_test_accuracy: tensor(0.6528, device='cuda:0')\n",
      "Training Epoch: 224, total loss: 41.539509\n",
      "total_test_accuracy: tensor(0.6667, device='cuda:0')\n",
      "Training Epoch: 225, total loss: 41.549027\n",
      "total_test_accuracy: tensor(0.6806, device='cuda:0')\n",
      "Training Epoch: 226, total loss: 42.121112\n",
      "total_test_accuracy: tensor(0.6806, device='cuda:0')\n",
      "Training Epoch: 227, total loss: 42.437029\n",
      "total_test_accuracy: tensor(0.6944, device='cuda:0')\n",
      "Training Epoch: 228, total loss: 42.847056\n",
      "total_test_accuracy: tensor(0.5694, device='cuda:0')\n",
      "Training Epoch: 229, total loss: 42.259540\n",
      "total_test_accuracy: tensor(0.5833, device='cuda:0')\n",
      "Training Epoch: 230, total loss: 42.598794\n",
      "total_test_accuracy: tensor(0.6806, device='cuda:0')\n",
      "Training Epoch: 231, total loss: 42.476058\n",
      "total_test_accuracy: tensor(0.6111, device='cuda:0')\n",
      "Training Epoch: 232, total loss: 42.070472\n",
      "total_test_accuracy: tensor(0.5833, device='cuda:0')\n",
      "Training Epoch: 233, total loss: 42.177999\n",
      "total_test_accuracy: tensor(0.6944, device='cuda:0')\n",
      "Training Epoch: 234, total loss: 42.259657\n",
      "total_test_accuracy: tensor(0.5833, device='cuda:0')\n",
      "Training Epoch: 235, total loss: 42.199380\n",
      "total_test_accuracy: tensor(0.6944, device='cuda:0')\n",
      "Training Epoch: 236, total loss: 42.285560\n",
      "total_test_accuracy: tensor(0.5972, device='cuda:0')\n",
      "Training Epoch: 237, total loss: 42.451191\n",
      "total_test_accuracy: tensor(0.5694, device='cuda:0')\n",
      "Training Epoch: 238, total loss: 42.690737\n",
      "total_test_accuracy: tensor(0.6250, device='cuda:0')\n",
      "Training Epoch: 239, total loss: 41.932462\n",
      "total_test_accuracy: tensor(0.6528, device='cuda:0')\n",
      "Training Epoch: 240, total loss: 42.098510\n",
      "total_test_accuracy: tensor(0.6667, device='cuda:0')\n",
      "Training Epoch: 241, total loss: 42.506030\n",
      "total_test_accuracy: tensor(0.5972, device='cuda:0')\n",
      "Training Epoch: 242, total loss: 42.161757\n",
      "total_test_accuracy: tensor(0.6806, device='cuda:0')\n",
      "Training Epoch: 243, total loss: 42.022106\n",
      "total_test_accuracy: tensor(0.5972, device='cuda:0')\n",
      "Training Epoch: 244, total loss: 42.126950\n",
      "total_test_accuracy: tensor(0.6389, device='cuda:0')\n",
      "Training Epoch: 245, total loss: 42.570436\n",
      "total_test_accuracy: tensor(0.5556, device='cuda:0')\n",
      "Training Epoch: 246, total loss: 41.881236\n",
      "total_test_accuracy: tensor(0.6250, device='cuda:0')\n",
      "Training Epoch: 247, total loss: 42.188749\n",
      "total_test_accuracy: tensor(0.6111, device='cuda:0')\n",
      "Training Epoch: 248, total loss: 42.378768\n",
      "total_test_accuracy: tensor(0.6806, device='cuda:0')\n",
      "Training Epoch: 249, total loss: 42.099902\n",
      "total_test_accuracy: tensor(0.6250, device='cuda:0')\n",
      "Training Epoch: 250, total loss: 42.217662\n",
      "total_test_accuracy: tensor(0.6528, device='cuda:0')\n",
      "Training Epoch: 251, total loss: 41.422715\n",
      "total_test_accuracy: tensor(0.5972, device='cuda:0')\n",
      "Training Epoch: 252, total loss: 42.164877\n",
      "total_test_accuracy: tensor(0.5694, device='cuda:0')\n",
      "Training Epoch: 253, total loss: 41.840842\n",
      "total_test_accuracy: tensor(0.6389, device='cuda:0')\n",
      "Training Epoch: 254, total loss: 41.658971\n",
      "total_test_accuracy: tensor(0.5417, device='cuda:0')\n",
      "Training Epoch: 255, total loss: 42.406333\n",
      "total_test_accuracy: tensor(0.5972, device='cuda:0')\n",
      "Training Epoch: 256, total loss: 42.476675\n",
      "total_test_accuracy: tensor(0.5972, device='cuda:0')\n",
      "Training Epoch: 257, total loss: 42.037930\n",
      "total_test_accuracy: tensor(0.6250, device='cuda:0')\n",
      "Training Epoch: 258, total loss: 41.856347\n"
     ]
    },
    {
     "name": "stdout",
     "output_type": "stream",
     "text": [
      "total_test_accuracy: tensor(0.6528, device='cuda:0')\n",
      "Training Epoch: 259, total loss: 42.166544\n",
      "total_test_accuracy: tensor(0.5833, device='cuda:0')\n",
      "Training Epoch: 260, total loss: 41.613787\n",
      "total_test_accuracy: tensor(0.6389, device='cuda:0')\n",
      "Training Epoch: 261, total loss: 41.983464\n",
      "total_test_accuracy: tensor(0.6389, device='cuda:0')\n",
      "Training Epoch: 262, total loss: 42.077129\n",
      "total_test_accuracy: tensor(0.6528, device='cuda:0')\n",
      "Training Epoch: 263, total loss: 42.030229\n",
      "total_test_accuracy: tensor(0.6250, device='cuda:0')\n",
      "Training Epoch: 264, total loss: 41.141996\n",
      "total_test_accuracy: tensor(0.6389, device='cuda:0')\n",
      "Training Epoch: 265, total loss: 42.242443\n",
      "total_test_accuracy: tensor(0.6667, device='cuda:0')\n",
      "Training Epoch: 266, total loss: 41.765331\n",
      "total_test_accuracy: tensor(0.7083, device='cuda:0')\n",
      "Training Epoch: 267, total loss: 41.846504\n",
      "total_test_accuracy: tensor(0.6528, device='cuda:0')\n",
      "Training Epoch: 268, total loss: 42.171085\n",
      "total_test_accuracy: tensor(0.5694, device='cuda:0')\n",
      "Training Epoch: 269, total loss: 41.483689\n",
      "total_test_accuracy: tensor(0.6528, device='cuda:0')\n",
      "Training Epoch: 270, total loss: 41.561140\n",
      "total_test_accuracy: tensor(0.6528, device='cuda:0')\n",
      "Training Epoch: 271, total loss: 41.741382\n",
      "total_test_accuracy: tensor(0.6250, device='cuda:0')\n",
      "Training Epoch: 272, total loss: 41.627029\n",
      "total_test_accuracy: tensor(0.6667, device='cuda:0')\n",
      "Training Epoch: 273, total loss: 41.839748\n",
      "total_test_accuracy: tensor(0.6667, device='cuda:0')\n",
      "Training Epoch: 274, total loss: 42.367312\n",
      "total_test_accuracy: tensor(0.6111, device='cuda:0')\n",
      "Training Epoch: 275, total loss: 41.931475\n",
      "total_test_accuracy: tensor(0.6667, device='cuda:0')\n",
      "Training Epoch: 276, total loss: 41.670499\n",
      "total_test_accuracy: tensor(0.6250, device='cuda:0')\n",
      "Training Epoch: 277, total loss: 41.680347\n",
      "total_test_accuracy: tensor(0.5556, device='cuda:0')\n",
      "Training Epoch: 278, total loss: 41.555444\n",
      "total_test_accuracy: tensor(0.5972, device='cuda:0')\n",
      "Training Epoch: 279, total loss: 42.224688\n",
      "total_test_accuracy: tensor(0.6389, device='cuda:0')\n",
      "Training Epoch: 280, total loss: 42.027625\n",
      "total_test_accuracy: tensor(0.6806, device='cuda:0')\n",
      "Training Epoch: 281, total loss: 41.786035\n",
      "total_test_accuracy: tensor(0.5972, device='cuda:0')\n",
      "Training Epoch: 282, total loss: 41.521956\n",
      "total_test_accuracy: tensor(0.6111, device='cuda:0')\n",
      "Training Epoch: 283, total loss: 41.299589\n",
      "total_test_accuracy: tensor(0.6806, device='cuda:0')\n",
      "Training Epoch: 284, total loss: 41.384753\n",
      "total_test_accuracy: tensor(0.5833, device='cuda:0')\n",
      "Training Epoch: 285, total loss: 40.960993\n",
      "total_test_accuracy: tensor(0.6250, device='cuda:0')\n",
      "Training Epoch: 286, total loss: 41.883981\n",
      "total_test_accuracy: tensor(0.6806, device='cuda:0')\n",
      "Training Epoch: 287, total loss: 41.286411\n",
      "total_test_accuracy: tensor(0.6250, device='cuda:0')\n",
      "Training Epoch: 288, total loss: 42.062007\n",
      "total_test_accuracy: tensor(0.5972, device='cuda:0')\n",
      "Training Epoch: 289, total loss: 41.893629\n",
      "total_test_accuracy: tensor(0.5833, device='cuda:0')\n",
      "Training Epoch: 290, total loss: 41.891591\n",
      "total_test_accuracy: tensor(0.6389, device='cuda:0')\n",
      "Training Epoch: 291, total loss: 41.421693\n",
      "total_test_accuracy: tensor(0.6111, device='cuda:0')\n",
      "Training Epoch: 292, total loss: 41.779664\n",
      "total_test_accuracy: tensor(0.6250, device='cuda:0')\n",
      "Training Epoch: 293, total loss: 41.280030\n",
      "total_test_accuracy: tensor(0.5694, device='cuda:0')\n",
      "Training Epoch: 294, total loss: 42.172440\n",
      "total_test_accuracy: tensor(0.6250, device='cuda:0')\n",
      "Training Epoch: 295, total loss: 41.432402\n",
      "total_test_accuracy: tensor(0.6806, device='cuda:0')\n",
      "Training Epoch: 296, total loss: 41.196719\n",
      "total_test_accuracy: tensor(0.6111, device='cuda:0')\n",
      "Training Epoch: 297, total loss: 41.122867\n",
      "total_test_accuracy: tensor(0.6111, device='cuda:0')\n",
      "Training Epoch: 298, total loss: 42.171595\n",
      "total_test_accuracy: tensor(0.5972, device='cuda:0')\n",
      "Training Epoch: 299, total loss: 41.394871\n",
      "total_test_accuracy: tensor(0.6667, device='cuda:0')\n",
      "Training Epoch: 300, total loss: 41.333619\n",
      "total_test_accuracy: tensor(0.5139, device='cuda:0')\n",
      "Training Epoch: 301, total loss: 41.701753\n",
      "total_test_accuracy: tensor(0.6250, device='cuda:0')\n",
      "Training Epoch: 302, total loss: 42.193053\n",
      "total_test_accuracy: tensor(0.6111, device='cuda:0')\n",
      "Training Epoch: 303, total loss: 41.615123\n",
      "total_test_accuracy: tensor(0.6250, device='cuda:0')\n",
      "Training Epoch: 304, total loss: 41.418536\n",
      "total_test_accuracy: tensor(0.6111, device='cuda:0')\n",
      "Training Epoch: 305, total loss: 41.701126\n",
      "total_test_accuracy: tensor(0.6111, device='cuda:0')\n",
      "Training Epoch: 306, total loss: 41.582022\n",
      "total_test_accuracy: tensor(0.6250, device='cuda:0')\n",
      "Training Epoch: 307, total loss: 42.117518\n",
      "total_test_accuracy: tensor(0.6667, device='cuda:0')\n",
      "Training Epoch: 308, total loss: 41.926015\n",
      "total_test_accuracy: tensor(0.6389, device='cuda:0')\n",
      "Training Epoch: 309, total loss: 41.298876\n",
      "total_test_accuracy: tensor(0.5972, device='cuda:0')\n",
      "Training Epoch: 310, total loss: 42.272030\n",
      "total_test_accuracy: tensor(0.6528, device='cuda:0')\n",
      "Training Epoch: 311, total loss: 42.016751\n",
      "total_test_accuracy: tensor(0.6111, device='cuda:0')\n",
      "Training Epoch: 312, total loss: 41.479302\n",
      "total_test_accuracy: tensor(0.6250, device='cuda:0')\n",
      "Training Epoch: 313, total loss: 41.414063\n",
      "total_test_accuracy: tensor(0.6250, device='cuda:0')\n",
      "Training Epoch: 314, total loss: 41.136184\n",
      "total_test_accuracy: tensor(0.5972, device='cuda:0')\n",
      "Training Epoch: 315, total loss: 41.208855\n",
      "total_test_accuracy: tensor(0.5972, device='cuda:0')\n",
      "Training Epoch: 316, total loss: 42.315569\n",
      "total_test_accuracy: tensor(0.6389, device='cuda:0')\n",
      "Training Epoch: 317, total loss: 41.622688\n",
      "total_test_accuracy: tensor(0.6389, device='cuda:0')\n",
      "Training Epoch: 318, total loss: 41.362704\n",
      "total_test_accuracy: tensor(0.5556, device='cuda:0')\n",
      "Training Epoch: 319, total loss: 41.536172\n",
      "total_test_accuracy: tensor(0.5833, device='cuda:0')\n",
      "Training Epoch: 320, total loss: 41.611978\n",
      "total_test_accuracy: tensor(0.4861, device='cuda:0')\n",
      "Training Epoch: 321, total loss: 41.356378\n",
      "total_test_accuracy: tensor(0.5972, device='cuda:0')\n",
      "Training Epoch: 322, total loss: 42.101583\n",
      "total_test_accuracy: tensor(0.5833, device='cuda:0')\n",
      "Training Epoch: 323, total loss: 41.555880\n",
      "total_test_accuracy: tensor(0.5833, device='cuda:0')\n",
      "Training Epoch: 324, total loss: 41.106332\n",
      "total_test_accuracy: tensor(0.5972, device='cuda:0')\n",
      "Training Epoch: 325, total loss: 41.120474\n",
      "total_test_accuracy: tensor(0.6250, device='cuda:0')\n",
      "Training Epoch: 326, total loss: 42.294507\n",
      "total_test_accuracy: tensor(0.6528, device='cuda:0')\n",
      "Training Epoch: 327, total loss: 42.000042\n",
      "total_test_accuracy: tensor(0.6250, device='cuda:0')\n",
      "Training Epoch: 328, total loss: 41.643999\n",
      "total_test_accuracy: tensor(0.5833, device='cuda:0')\n",
      "Training Epoch: 329, total loss: 41.977899\n",
      "total_test_accuracy: tensor(0.6250, device='cuda:0')\n",
      "Training Epoch: 330, total loss: 41.874388\n",
      "total_test_accuracy: tensor(0.6389, device='cuda:0')\n",
      "Training Epoch: 331, total loss: 41.674385\n",
      "total_test_accuracy: tensor(0.6667, device='cuda:0')\n",
      "Training Epoch: 332, total loss: 41.120672\n",
      "total_test_accuracy: tensor(0.5694, device='cuda:0')\n",
      "Training Epoch: 333, total loss: 41.555770\n",
      "total_test_accuracy: tensor(0.5833, device='cuda:0')\n",
      "Training Epoch: 334, total loss: 41.720907\n",
      "total_test_accuracy: tensor(0.6250, device='cuda:0')\n",
      "Training Epoch: 335, total loss: 41.720582\n",
      "total_test_accuracy: tensor(0.5833, device='cuda:0')\n",
      "Training Epoch: 336, total loss: 41.961832\n",
      "total_test_accuracy: tensor(0.5694, device='cuda:0')\n",
      "Training Epoch: 337, total loss: 42.208744\n",
      "total_test_accuracy: tensor(0.6667, device='cuda:0')\n",
      "Training Epoch: 338, total loss: 41.945765\n",
      "total_test_accuracy: tensor(0.6250, device='cuda:0')\n",
      "Training Epoch: 339, total loss: 41.391764\n",
      "total_test_accuracy: tensor(0.6806, device='cuda:0')\n",
      "Training Epoch: 340, total loss: 42.119228\n",
      "total_test_accuracy: tensor(0.5972, device='cuda:0')\n",
      "Training Epoch: 341, total loss: 41.337972\n",
      "total_test_accuracy: tensor(0.5417, device='cuda:0')\n",
      "Training Epoch: 342, total loss: 41.892579\n",
      "total_test_accuracy: tensor(0.6944, device='cuda:0')\n",
      "Training Epoch: 343, total loss: 41.904936\n",
      "total_test_accuracy: tensor(0.5833, device='cuda:0')\n",
      "Training Epoch: 344, total loss: 41.864718\n"
     ]
    },
    {
     "name": "stdout",
     "output_type": "stream",
     "text": [
      "total_test_accuracy: tensor(0.6389, device='cuda:0')\n",
      "Training Epoch: 345, total loss: 42.229806\n",
      "total_test_accuracy: tensor(0.5833, device='cuda:0')\n",
      "Training Epoch: 346, total loss: 41.691448\n",
      "total_test_accuracy: tensor(0.6528, device='cuda:0')\n",
      "Training Epoch: 347, total loss: 41.779341\n",
      "total_test_accuracy: tensor(0.6111, device='cuda:0')\n",
      "Training Epoch: 348, total loss: 41.744786\n",
      "total_test_accuracy: tensor(0.6806, device='cuda:0')\n",
      "Training Epoch: 349, total loss: 41.287974\n",
      "total_test_accuracy: tensor(0.6250, device='cuda:0')\n",
      "Training Epoch: 350, total loss: 41.016113\n",
      "total_test_accuracy: tensor(0.6111, device='cuda:0')\n",
      "Training Epoch: 351, total loss: 41.559314\n",
      "total_test_accuracy: tensor(0.6250, device='cuda:0')\n",
      "Training Epoch: 352, total loss: 42.146198\n",
      "total_test_accuracy: tensor(0.5694, device='cuda:0')\n",
      "Training Epoch: 353, total loss: 40.650545\n",
      "total_test_accuracy: tensor(0.6250, device='cuda:0')\n",
      "Training Epoch: 354, total loss: 41.002993\n",
      "total_test_accuracy: tensor(0.6111, device='cuda:0')\n",
      "Training Epoch: 355, total loss: 41.464064\n",
      "total_test_accuracy: tensor(0.5694, device='cuda:0')\n",
      "Training Epoch: 356, total loss: 41.520343\n",
      "total_test_accuracy: tensor(0.6667, device='cuda:0')\n",
      "Training Epoch: 357, total loss: 41.479120\n",
      "total_test_accuracy: tensor(0.5833, device='cuda:0')\n",
      "Training Epoch: 358, total loss: 40.846565\n",
      "total_test_accuracy: tensor(0.5694, device='cuda:0')\n",
      "Training Epoch: 359, total loss: 42.197206\n",
      "total_test_accuracy: tensor(0.6667, device='cuda:0')\n",
      "Training Epoch: 360, total loss: 41.184459\n",
      "total_test_accuracy: tensor(0.5833, device='cuda:0')\n",
      "Training Epoch: 361, total loss: 41.628530\n",
      "total_test_accuracy: tensor(0.6389, device='cuda:0')\n",
      "Training Epoch: 362, total loss: 41.068182\n",
      "total_test_accuracy: tensor(0.6389, device='cuda:0')\n",
      "Training Epoch: 363, total loss: 40.905142\n",
      "total_test_accuracy: tensor(0.6806, device='cuda:0')\n",
      "Training Epoch: 364, total loss: 41.171708\n",
      "total_test_accuracy: tensor(0.6528, device='cuda:0')\n",
      "Training Epoch: 365, total loss: 40.697635\n",
      "total_test_accuracy: tensor(0.5833, device='cuda:0')\n",
      "Training Epoch: 366, total loss: 41.367704\n",
      "total_test_accuracy: tensor(0.5139, device='cuda:0')\n",
      "Training Epoch: 367, total loss: 41.518583\n",
      "total_test_accuracy: tensor(0.5972, device='cuda:0')\n",
      "Training Epoch: 368, total loss: 41.030218\n",
      "total_test_accuracy: tensor(0.5833, device='cuda:0')\n",
      "Training Epoch: 369, total loss: 41.925514\n",
      "total_test_accuracy: tensor(0.5972, device='cuda:0')\n",
      "Training Epoch: 370, total loss: 41.902032\n",
      "total_test_accuracy: tensor(0.6389, device='cuda:0')\n",
      "Training Epoch: 371, total loss: 41.448996\n",
      "total_test_accuracy: tensor(0.6389, device='cuda:0')\n",
      "Training Epoch: 372, total loss: 41.154663\n",
      "total_test_accuracy: tensor(0.6111, device='cuda:0')\n",
      "Training Epoch: 373, total loss: 40.563730\n",
      "total_test_accuracy: tensor(0.6111, device='cuda:0')\n",
      "Training Epoch: 374, total loss: 40.929078\n",
      "total_test_accuracy: tensor(0.5694, device='cuda:0')\n",
      "Training Epoch: 375, total loss: 41.409751\n",
      "total_test_accuracy: tensor(0.5972, device='cuda:0')\n",
      "Training Epoch: 376, total loss: 41.419795\n",
      "total_test_accuracy: tensor(0.6528, device='cuda:0')\n",
      "Training Epoch: 377, total loss: 41.313331\n",
      "total_test_accuracy: tensor(0.6389, device='cuda:0')\n",
      "Training Epoch: 378, total loss: 41.106303\n",
      "total_test_accuracy: tensor(0.6250, device='cuda:0')\n",
      "Training Epoch: 379, total loss: 41.318299\n",
      "total_test_accuracy: tensor(0.5556, device='cuda:0')\n",
      "Training Epoch: 380, total loss: 41.021702\n",
      "total_test_accuracy: tensor(0.6528, device='cuda:0')\n",
      "Training Epoch: 381, total loss: 41.413129\n",
      "total_test_accuracy: tensor(0.5833, device='cuda:0')\n",
      "Training Epoch: 382, total loss: 40.835103\n",
      "total_test_accuracy: tensor(0.5556, device='cuda:0')\n",
      "Training Epoch: 383, total loss: 40.943055\n",
      "total_test_accuracy: tensor(0.6389, device='cuda:0')\n",
      "Training Epoch: 384, total loss: 41.910976\n",
      "total_test_accuracy: tensor(0.6250, device='cuda:0')\n",
      "Training Epoch: 385, total loss: 42.074412\n",
      "total_test_accuracy: tensor(0.6528, device='cuda:0')\n",
      "Training Epoch: 386, total loss: 41.387871\n",
      "total_test_accuracy: tensor(0.6389, device='cuda:0')\n",
      "Training Epoch: 387, total loss: 42.064384\n",
      "total_test_accuracy: tensor(0.5556, device='cuda:0')\n",
      "Training Epoch: 388, total loss: 41.369432\n",
      "total_test_accuracy: tensor(0.5556, device='cuda:0')\n",
      "Training Epoch: 389, total loss: 41.046680\n",
      "total_test_accuracy: tensor(0.6250, device='cuda:0')\n",
      "Training Epoch: 390, total loss: 40.968150\n",
      "total_test_accuracy: tensor(0.6806, device='cuda:0')\n",
      "Training Epoch: 391, total loss: 41.342529\n",
      "total_test_accuracy: tensor(0.5417, device='cuda:0')\n",
      "Training Epoch: 392, total loss: 41.053542\n",
      "total_test_accuracy: tensor(0.6111, device='cuda:0')\n",
      "Training Epoch: 393, total loss: 40.563704\n",
      "total_test_accuracy: tensor(0.6389, device='cuda:0')\n",
      "Training Epoch: 394, total loss: 41.144607\n",
      "total_test_accuracy: tensor(0.6528, device='cuda:0')\n",
      "Training Epoch: 395, total loss: 41.764386\n",
      "total_test_accuracy: tensor(0.5417, device='cuda:0')\n",
      "Training Epoch: 396, total loss: 41.645400\n",
      "total_test_accuracy: tensor(0.6111, device='cuda:0')\n",
      "Training Epoch: 397, total loss: 41.068738\n",
      "total_test_accuracy: tensor(0.6250, device='cuda:0')\n",
      "Training Epoch: 398, total loss: 41.259194\n",
      "total_test_accuracy: tensor(0.5972, device='cuda:0')\n",
      "Training Epoch: 399, total loss: 41.395818\n",
      "total_test_accuracy: tensor(0.5833, device='cuda:0')\n",
      "Training Epoch: 400, total loss: 41.911642\n",
      "total_test_accuracy: tensor(0.5694, device='cuda:0')\n",
      "Training Epoch: 401, total loss: 41.998566\n",
      "total_test_accuracy: tensor(0.5972, device='cuda:0')\n",
      "Training Epoch: 402, total loss: 40.750148\n",
      "total_test_accuracy: tensor(0.5972, device='cuda:0')\n",
      "Training Epoch: 403, total loss: 41.238712\n",
      "total_test_accuracy: tensor(0.6528, device='cuda:0')\n",
      "Training Epoch: 404, total loss: 41.089668\n",
      "total_test_accuracy: tensor(0.6389, device='cuda:0')\n",
      "Training Epoch: 405, total loss: 41.297080\n",
      "total_test_accuracy: tensor(0.5417, device='cuda:0')\n",
      "Training Epoch: 406, total loss: 40.952354\n",
      "total_test_accuracy: tensor(0.6389, device='cuda:0')\n",
      "Training Epoch: 407, total loss: 41.248001\n",
      "total_test_accuracy: tensor(0.5972, device='cuda:0')\n",
      "Training Epoch: 408, total loss: 41.500580\n",
      "total_test_accuracy: tensor(0.6111, device='cuda:0')\n",
      "Training Epoch: 409, total loss: 41.285545\n",
      "total_test_accuracy: tensor(0.6389, device='cuda:0')\n",
      "Training Epoch: 410, total loss: 40.800735\n",
      "total_test_accuracy: tensor(0.6806, device='cuda:0')\n",
      "Training Epoch: 411, total loss: 41.210271\n",
      "total_test_accuracy: tensor(0.5972, device='cuda:0')\n",
      "Training Epoch: 412, total loss: 42.070181\n",
      "total_test_accuracy: tensor(0.6667, device='cuda:0')\n",
      "Training Epoch: 413, total loss: 41.829087\n",
      "total_test_accuracy: tensor(0.6111, device='cuda:0')\n",
      "Training Epoch: 414, total loss: 41.593694\n",
      "total_test_accuracy: tensor(0.6250, device='cuda:0')\n",
      "Training Epoch: 415, total loss: 41.171883\n",
      "total_test_accuracy: tensor(0.6111, device='cuda:0')\n",
      "Training Epoch: 416, total loss: 41.055718\n",
      "total_test_accuracy: tensor(0.5833, device='cuda:0')\n",
      "Training Epoch: 417, total loss: 40.933420\n",
      "total_test_accuracy: tensor(0.5417, device='cuda:0')\n",
      "Training Epoch: 418, total loss: 41.726880\n",
      "total_test_accuracy: tensor(0.6667, device='cuda:0')\n",
      "Training Epoch: 419, total loss: 41.189080\n",
      "total_test_accuracy: tensor(0.5833, device='cuda:0')\n",
      "Training Epoch: 420, total loss: 41.621113\n",
      "total_test_accuracy: tensor(0.5972, device='cuda:0')\n",
      "Training Epoch: 421, total loss: 41.863694\n",
      "total_test_accuracy: tensor(0.5694, device='cuda:0')\n",
      "Training Epoch: 422, total loss: 41.605539\n",
      "total_test_accuracy: tensor(0.5972, device='cuda:0')\n",
      "Training Epoch: 423, total loss: 41.225819\n",
      "total_test_accuracy: tensor(0.5694, device='cuda:0')\n",
      "Training Epoch: 424, total loss: 41.188923\n",
      "total_test_accuracy: tensor(0.5833, device='cuda:0')\n",
      "Training Epoch: 425, total loss: 41.352532\n",
      "total_test_accuracy: tensor(0.5833, device='cuda:0')\n",
      "Training Epoch: 426, total loss: 41.316236\n",
      "total_test_accuracy: tensor(0.5417, device='cuda:0')\n",
      "Training Epoch: 427, total loss: 41.703714\n",
      "total_test_accuracy: tensor(0.6667, device='cuda:0')\n",
      "Training Epoch: 428, total loss: 41.032494\n",
      "total_test_accuracy: tensor(0.5972, device='cuda:0')\n",
      "Training Epoch: 429, total loss: 41.367975\n",
      "total_test_accuracy: tensor(0.6389, device='cuda:0')\n",
      "Training Epoch: 430, total loss: 41.394938\n"
     ]
    },
    {
     "name": "stdout",
     "output_type": "stream",
     "text": [
      "total_test_accuracy: tensor(0.5972, device='cuda:0')\n",
      "Training Epoch: 431, total loss: 40.994700\n",
      "total_test_accuracy: tensor(0.5417, device='cuda:0')\n",
      "Training Epoch: 432, total loss: 41.409395\n",
      "total_test_accuracy: tensor(0.5972, device='cuda:0')\n",
      "Training Epoch: 433, total loss: 41.415829\n",
      "total_test_accuracy: tensor(0.5972, device='cuda:0')\n",
      "Training Epoch: 434, total loss: 41.369807\n",
      "total_test_accuracy: tensor(0.5833, device='cuda:0')\n",
      "Training Epoch: 435, total loss: 40.961190\n",
      "total_test_accuracy: tensor(0.6806, device='cuda:0')\n",
      "Training Epoch: 436, total loss: 41.206820\n",
      "total_test_accuracy: tensor(0.6111, device='cuda:0')\n",
      "Training Epoch: 437, total loss: 41.716550\n",
      "total_test_accuracy: tensor(0.6806, device='cuda:0')\n",
      "Training Epoch: 438, total loss: 41.357887\n",
      "total_test_accuracy: tensor(0.6250, device='cuda:0')\n",
      "Training Epoch: 439, total loss: 40.661545\n",
      "total_test_accuracy: tensor(0.6389, device='cuda:0')\n",
      "Training Epoch: 440, total loss: 40.927524\n",
      "total_test_accuracy: tensor(0.5972, device='cuda:0')\n",
      "Training Epoch: 441, total loss: 41.218052\n",
      "total_test_accuracy: tensor(0.6250, device='cuda:0')\n",
      "Training Epoch: 442, total loss: 41.101424\n",
      "total_test_accuracy: tensor(0.5972, device='cuda:0')\n",
      "Training Epoch: 443, total loss: 40.981410\n",
      "total_test_accuracy: tensor(0.5833, device='cuda:0')\n",
      "Training Epoch: 444, total loss: 40.690686\n",
      "total_test_accuracy: tensor(0.5833, device='cuda:0')\n",
      "Training Epoch: 445, total loss: 40.685412\n",
      "total_test_accuracy: tensor(0.5972, device='cuda:0')\n",
      "Training Epoch: 446, total loss: 40.998298\n",
      "total_test_accuracy: tensor(0.7222, device='cuda:0')\n",
      "Training Epoch: 447, total loss: 40.672135\n",
      "total_test_accuracy: tensor(0.5833, device='cuda:0')\n",
      "Training Epoch: 448, total loss: 41.028950\n",
      "total_test_accuracy: tensor(0.6389, device='cuda:0')\n",
      "Training Epoch: 449, total loss: 41.344813\n",
      "total_test_accuracy: tensor(0.6806, device='cuda:0')\n",
      "Training Epoch: 450, total loss: 40.963939\n",
      "total_test_accuracy: tensor(0.6528, device='cuda:0')\n",
      "Training Epoch: 451, total loss: 40.991082\n",
      "total_test_accuracy: tensor(0.5972, device='cuda:0')\n",
      "Training Epoch: 452, total loss: 40.691889\n",
      "total_test_accuracy: tensor(0.6389, device='cuda:0')\n",
      "Training Epoch: 453, total loss: 40.760178\n",
      "total_test_accuracy: tensor(0.5833, device='cuda:0')\n",
      "Training Epoch: 454, total loss: 40.983918\n",
      "total_test_accuracy: tensor(0.6111, device='cuda:0')\n",
      "Training Epoch: 455, total loss: 40.971829\n",
      "total_test_accuracy: tensor(0.6250, device='cuda:0')\n",
      "Training Epoch: 456, total loss: 40.989351\n",
      "total_test_accuracy: tensor(0.6944, device='cuda:0')\n",
      "Training Epoch: 457, total loss: 40.910753\n",
      "total_test_accuracy: tensor(0.6528, device='cuda:0')\n",
      "Training Epoch: 458, total loss: 41.650153\n",
      "total_test_accuracy: tensor(0.5833, device='cuda:0')\n",
      "Training Epoch: 459, total loss: 40.919640\n",
      "total_test_accuracy: tensor(0.6250, device='cuda:0')\n",
      "Training Epoch: 460, total loss: 40.824278\n",
      "total_test_accuracy: tensor(0.6528, device='cuda:0')\n",
      "Training Epoch: 461, total loss: 41.412787\n",
      "total_test_accuracy: tensor(0.5694, device='cuda:0')\n",
      "Training Epoch: 462, total loss: 41.014077\n",
      "total_test_accuracy: tensor(0.5556, device='cuda:0')\n",
      "Training Epoch: 463, total loss: 40.586662\n",
      "total_test_accuracy: tensor(0.5972, device='cuda:0')\n",
      "Training Epoch: 464, total loss: 41.314407\n",
      "total_test_accuracy: tensor(0.6250, device='cuda:0')\n",
      "Training Epoch: 465, total loss: 41.205787\n",
      "total_test_accuracy: tensor(0.6806, device='cuda:0')\n",
      "Training Epoch: 466, total loss: 41.378299\n",
      "total_test_accuracy: tensor(0.6389, device='cuda:0')\n",
      "Training Epoch: 467, total loss: 40.221594\n",
      "total_test_accuracy: tensor(0.5556, device='cuda:0')\n",
      "Training Epoch: 468, total loss: 40.525236\n",
      "total_test_accuracy: tensor(0.6806, device='cuda:0')\n",
      "Training Epoch: 469, total loss: 40.179874\n",
      "total_test_accuracy: tensor(0.6250, device='cuda:0')\n",
      "Training Epoch: 470, total loss: 40.755982\n",
      "total_test_accuracy: tensor(0.6944, device='cuda:0')\n",
      "Training Epoch: 471, total loss: 41.905757\n",
      "total_test_accuracy: tensor(0.6250, device='cuda:0')\n",
      "Training Epoch: 472, total loss: 40.918086\n",
      "total_test_accuracy: tensor(0.5833, device='cuda:0')\n",
      "Training Epoch: 473, total loss: 41.131119\n",
      "total_test_accuracy: tensor(0.6250, device='cuda:0')\n",
      "Training Epoch: 474, total loss: 41.069973\n",
      "total_test_accuracy: tensor(0.6250, device='cuda:0')\n",
      "Training Epoch: 475, total loss: 41.407271\n",
      "total_test_accuracy: tensor(0.6111, device='cuda:0')\n",
      "Training Epoch: 476, total loss: 40.337381\n",
      "total_test_accuracy: tensor(0.6944, device='cuda:0')\n",
      "Training Epoch: 477, total loss: 40.524233\n",
      "total_test_accuracy: tensor(0.5833, device='cuda:0')\n",
      "Training Epoch: 478, total loss: 41.403765\n",
      "total_test_accuracy: tensor(0.7222, device='cuda:0')\n",
      "Training Epoch: 479, total loss: 41.142462\n",
      "total_test_accuracy: tensor(0.6528, device='cuda:0')\n",
      "Training Epoch: 480, total loss: 41.413434\n",
      "total_test_accuracy: tensor(0.7083, device='cuda:0')\n",
      "Training Epoch: 481, total loss: 40.824791\n",
      "total_test_accuracy: tensor(0.5972, device='cuda:0')\n",
      "Training Epoch: 482, total loss: 41.947777\n",
      "total_test_accuracy: tensor(0.5556, device='cuda:0')\n",
      "Training Epoch: 483, total loss: 41.398242\n",
      "total_test_accuracy: tensor(0.5972, device='cuda:0')\n",
      "Training Epoch: 484, total loss: 41.737298\n",
      "total_test_accuracy: tensor(0.6250, device='cuda:0')\n",
      "Training Epoch: 485, total loss: 41.772285\n",
      "total_test_accuracy: tensor(0.5972, device='cuda:0')\n",
      "Training Epoch: 486, total loss: 41.446554\n",
      "total_test_accuracy: tensor(0.5694, device='cuda:0')\n",
      "Training Epoch: 487, total loss: 41.509511\n",
      "total_test_accuracy: tensor(0.5833, device='cuda:0')\n",
      "Training Epoch: 488, total loss: 41.223119\n",
      "total_test_accuracy: tensor(0.6111, device='cuda:0')\n",
      "Training Epoch: 489, total loss: 40.794099\n",
      "total_test_accuracy: tensor(0.5972, device='cuda:0')\n",
      "Training Epoch: 490, total loss: 40.810074\n",
      "total_test_accuracy: tensor(0.6528, device='cuda:0')\n",
      "Training Epoch: 491, total loss: 41.163807\n",
      "total_test_accuracy: tensor(0.5694, device='cuda:0')\n",
      "Training Epoch: 492, total loss: 40.477203\n",
      "total_test_accuracy: tensor(0.5972, device='cuda:0')\n",
      "Training Epoch: 493, total loss: 41.157924\n",
      "total_test_accuracy: tensor(0.6667, device='cuda:0')\n",
      "Training Epoch: 494, total loss: 41.849011\n",
      "total_test_accuracy: tensor(0.5417, device='cuda:0')\n",
      "Training Epoch: 495, total loss: 41.307110\n",
      "total_test_accuracy: tensor(0.6250, device='cuda:0')\n",
      "Training Epoch: 496, total loss: 40.948699\n",
      "total_test_accuracy: tensor(0.6667, device='cuda:0')\n",
      "Training Epoch: 497, total loss: 40.928064\n",
      "total_test_accuracy: tensor(0.5694, device='cuda:0')\n",
      "Training Epoch: 498, total loss: 41.430680\n",
      "total_test_accuracy: tensor(0.6250, device='cuda:0')\n",
      "Training Epoch: 499, total loss: 41.067403\n",
      "total_test_accuracy: tensor(0.5694, device='cuda:0')\n",
      "Training Epoch: 500, total loss: 40.864768\n",
      "total_test_accuracy: tensor(0.5278, device='cuda:0')\n",
      "Training Epoch: 501, total loss: 40.827368\n",
      "total_test_accuracy: tensor(0.5417, device='cuda:0')\n",
      "Training Epoch: 502, total loss: 41.274816\n",
      "total_test_accuracy: tensor(0.5694, device='cuda:0')\n",
      "Training Epoch: 503, total loss: 41.782759\n",
      "total_test_accuracy: tensor(0.6250, device='cuda:0')\n",
      "Training Epoch: 504, total loss: 40.884030\n",
      "total_test_accuracy: tensor(0.7083, device='cuda:0')\n",
      "Training Epoch: 505, total loss: 40.995095\n",
      "total_test_accuracy: tensor(0.6111, device='cuda:0')\n",
      "Training Epoch: 506, total loss: 40.832497\n",
      "total_test_accuracy: tensor(0.6667, device='cuda:0')\n",
      "Training Epoch: 507, total loss: 41.048241\n",
      "total_test_accuracy: tensor(0.5694, device='cuda:0')\n",
      "Training Epoch: 508, total loss: 41.486740\n",
      "total_test_accuracy: tensor(0.6806, device='cuda:0')\n",
      "Training Epoch: 509, total loss: 41.125722\n",
      "total_test_accuracy: tensor(0.6806, device='cuda:0')\n",
      "Training Epoch: 510, total loss: 40.577248\n",
      "total_test_accuracy: tensor(0.5833, device='cuda:0')\n",
      "Training Epoch: 511, total loss: 41.052567\n",
      "total_test_accuracy: tensor(0.6111, device='cuda:0')\n",
      "Training Epoch: 512, total loss: 41.372786\n",
      "total_test_accuracy: tensor(0.5694, device='cuda:0')\n",
      "Training Epoch: 513, total loss: 41.686995\n",
      "total_test_accuracy: tensor(0.5972, device='cuda:0')\n",
      "Training Epoch: 514, total loss: 41.216797\n",
      "total_test_accuracy: tensor(0.6111, device='cuda:0')\n",
      "Training Epoch: 515, total loss: 40.489046\n",
      "total_test_accuracy: tensor(0.5417, device='cuda:0')\n",
      "Training Epoch: 516, total loss: 41.370244\n"
     ]
    },
    {
     "name": "stdout",
     "output_type": "stream",
     "text": [
      "total_test_accuracy: tensor(0.6389, device='cuda:0')\n",
      "Training Epoch: 517, total loss: 41.604891\n",
      "total_test_accuracy: tensor(0.6250, device='cuda:0')\n",
      "Training Epoch: 518, total loss: 41.357537\n",
      "total_test_accuracy: tensor(0.5833, device='cuda:0')\n",
      "Training Epoch: 519, total loss: 40.672665\n",
      "total_test_accuracy: tensor(0.6389, device='cuda:0')\n",
      "Training Epoch: 520, total loss: 40.691007\n",
      "total_test_accuracy: tensor(0.6111, device='cuda:0')\n",
      "Training Epoch: 521, total loss: 40.531538\n",
      "total_test_accuracy: tensor(0.6389, device='cuda:0')\n",
      "Training Epoch: 522, total loss: 41.058230\n",
      "total_test_accuracy: tensor(0.6389, device='cuda:0')\n",
      "Training Epoch: 523, total loss: 41.405295\n",
      "total_test_accuracy: tensor(0.6111, device='cuda:0')\n",
      "Training Epoch: 524, total loss: 41.030558\n",
      "total_test_accuracy: tensor(0.5000, device='cuda:0')\n",
      "Training Epoch: 525, total loss: 40.856155\n",
      "total_test_accuracy: tensor(0.6389, device='cuda:0')\n",
      "Training Epoch: 526, total loss: 40.917618\n",
      "total_test_accuracy: tensor(0.5972, device='cuda:0')\n",
      "Training Epoch: 527, total loss: 40.283089\n",
      "total_test_accuracy: tensor(0.5833, device='cuda:0')\n",
      "Training Epoch: 528, total loss: 41.400102\n",
      "total_test_accuracy: tensor(0.6111, device='cuda:0')\n",
      "Training Epoch: 529, total loss: 40.925307\n",
      "total_test_accuracy: tensor(0.6111, device='cuda:0')\n",
      "Training Epoch: 530, total loss: 40.745187\n",
      "total_test_accuracy: tensor(0.4861, device='cuda:0')\n",
      "Training Epoch: 531, total loss: 41.052668\n",
      "total_test_accuracy: tensor(0.5833, device='cuda:0')\n",
      "Training Epoch: 532, total loss: 41.360893\n",
      "total_test_accuracy: tensor(0.5972, device='cuda:0')\n",
      "Training Epoch: 533, total loss: 41.226211\n",
      "total_test_accuracy: tensor(0.5278, device='cuda:0')\n",
      "Training Epoch: 534, total loss: 40.718167\n",
      "total_test_accuracy: tensor(0.6528, device='cuda:0')\n",
      "Training Epoch: 535, total loss: 41.274423\n",
      "total_test_accuracy: tensor(0.5556, device='cuda:0')\n",
      "Training Epoch: 536, total loss: 41.412515\n",
      "total_test_accuracy: tensor(0.6111, device='cuda:0')\n",
      "Training Epoch: 537, total loss: 41.367361\n",
      "total_test_accuracy: tensor(0.5556, device='cuda:0')\n",
      "Training Epoch: 538, total loss: 41.457068\n",
      "total_test_accuracy: tensor(0.6389, device='cuda:0')\n",
      "Training Epoch: 539, total loss: 41.936911\n",
      "total_test_accuracy: tensor(0.5833, device='cuda:0')\n",
      "Training Epoch: 540, total loss: 41.549480\n",
      "total_test_accuracy: tensor(0.5694, device='cuda:0')\n",
      "Training Epoch: 541, total loss: 41.558333\n",
      "total_test_accuracy: tensor(0.6389, device='cuda:0')\n",
      "Training Epoch: 542, total loss: 41.339869\n",
      "total_test_accuracy: tensor(0.6389, device='cuda:0')\n",
      "Training Epoch: 543, total loss: 41.291969\n",
      "total_test_accuracy: tensor(0.5972, device='cuda:0')\n",
      "Training Epoch: 544, total loss: 41.958339\n",
      "total_test_accuracy: tensor(0.5833, device='cuda:0')\n",
      "Training Epoch: 545, total loss: 40.856234\n",
      "total_test_accuracy: tensor(0.6111, device='cuda:0')\n",
      "Training Epoch: 546, total loss: 41.318938\n",
      "total_test_accuracy: tensor(0.6667, device='cuda:0')\n",
      "Training Epoch: 547, total loss: 40.830935\n",
      "total_test_accuracy: tensor(0.6250, device='cuda:0')\n",
      "Training Epoch: 548, total loss: 40.810399\n",
      "total_test_accuracy: tensor(0.5556, device='cuda:0')\n",
      "Training Epoch: 549, total loss: 41.107681\n",
      "total_test_accuracy: tensor(0.4444, device='cuda:0')\n",
      "Training Epoch: 550, total loss: 40.972537\n",
      "total_test_accuracy: tensor(0.6111, device='cuda:0')\n",
      "Training Epoch: 551, total loss: 41.220073\n",
      "total_test_accuracy: tensor(0.5694, device='cuda:0')\n",
      "Training Epoch: 552, total loss: 40.523097\n",
      "total_test_accuracy: tensor(0.5139, device='cuda:0')\n",
      "Training Epoch: 553, total loss: 41.079480\n",
      "total_test_accuracy: tensor(0.6250, device='cuda:0')\n",
      "Training Epoch: 554, total loss: 41.062159\n",
      "total_test_accuracy: tensor(0.5556, device='cuda:0')\n",
      "Training Epoch: 555, total loss: 41.233087\n",
      "total_test_accuracy: tensor(0.5694, device='cuda:0')\n",
      "Training Epoch: 556, total loss: 40.370774\n",
      "total_test_accuracy: tensor(0.6111, device='cuda:0')\n",
      "Training Epoch: 557, total loss: 40.882023\n",
      "total_test_accuracy: tensor(0.5278, device='cuda:0')\n",
      "Training Epoch: 558, total loss: 40.908172\n",
      "total_test_accuracy: tensor(0.6806, device='cuda:0')\n",
      "Training Epoch: 559, total loss: 40.505680\n",
      "total_test_accuracy: tensor(0.5556, device='cuda:0')\n",
      "Training Epoch: 560, total loss: 41.676519\n",
      "total_test_accuracy: tensor(0.5972, device='cuda:0')\n",
      "Training Epoch: 561, total loss: 40.501593\n",
      "total_test_accuracy: tensor(0.5417, device='cuda:0')\n",
      "Training Epoch: 562, total loss: 41.243851\n",
      "total_test_accuracy: tensor(0.5694, device='cuda:0')\n",
      "Training Epoch: 563, total loss: 40.775556\n",
      "total_test_accuracy: tensor(0.5694, device='cuda:0')\n",
      "Training Epoch: 564, total loss: 40.539253\n",
      "total_test_accuracy: tensor(0.6667, device='cuda:0')\n",
      "Training Epoch: 565, total loss: 40.922987\n",
      "total_test_accuracy: tensor(0.5139, device='cuda:0')\n",
      "Training Epoch: 566, total loss: 40.981005\n",
      "total_test_accuracy: tensor(0.5694, device='cuda:0')\n",
      "Training Epoch: 567, total loss: 40.484546\n",
      "total_test_accuracy: tensor(0.5417, device='cuda:0')\n",
      "Training Epoch: 568, total loss: 41.051558\n",
      "total_test_accuracy: tensor(0.6111, device='cuda:0')\n",
      "Training Epoch: 569, total loss: 40.819814\n",
      "total_test_accuracy: tensor(0.6806, device='cuda:0')\n",
      "Training Epoch: 570, total loss: 40.532424\n",
      "total_test_accuracy: tensor(0.5694, device='cuda:0')\n",
      "Training Epoch: 571, total loss: 40.441941\n",
      "total_test_accuracy: tensor(0.5278, device='cuda:0')\n",
      "Training Epoch: 572, total loss: 40.883109\n",
      "total_test_accuracy: tensor(0.6250, device='cuda:0')\n",
      "Training Epoch: 573, total loss: 40.931132\n",
      "total_test_accuracy: tensor(0.6667, device='cuda:0')\n",
      "Training Epoch: 574, total loss: 40.149081\n",
      "total_test_accuracy: tensor(0.6389, device='cuda:0')\n",
      "Training Epoch: 575, total loss: 40.817621\n",
      "total_test_accuracy: tensor(0.5556, device='cuda:0')\n",
      "Training Epoch: 576, total loss: 40.738442\n",
      "total_test_accuracy: tensor(0.5417, device='cuda:0')\n",
      "Training Epoch: 577, total loss: 39.914955\n",
      "total_test_accuracy: tensor(0.6250, device='cuda:0')\n",
      "Training Epoch: 578, total loss: 41.272340\n",
      "total_test_accuracy: tensor(0.6111, device='cuda:0')\n",
      "Training Epoch: 579, total loss: 40.400266\n",
      "total_test_accuracy: tensor(0.5278, device='cuda:0')\n",
      "Training Epoch: 580, total loss: 41.161203\n",
      "total_test_accuracy: tensor(0.5556, device='cuda:0')\n",
      "Training Epoch: 581, total loss: 41.335477\n",
      "total_test_accuracy: tensor(0.6250, device='cuda:0')\n",
      "Training Epoch: 582, total loss: 40.612622\n",
      "total_test_accuracy: tensor(0.6250, device='cuda:0')\n",
      "Training Epoch: 583, total loss: 41.219656\n",
      "total_test_accuracy: tensor(0.5972, device='cuda:0')\n",
      "Training Epoch: 584, total loss: 40.033744\n",
      "total_test_accuracy: tensor(0.6111, device='cuda:0')\n",
      "Training Epoch: 585, total loss: 40.396503\n",
      "total_test_accuracy: tensor(0.6250, device='cuda:0')\n",
      "Training Epoch: 586, total loss: 40.188928\n",
      "total_test_accuracy: tensor(0.5694, device='cuda:0')\n",
      "Training Epoch: 587, total loss: 41.632656\n",
      "total_test_accuracy: tensor(0.5972, device='cuda:0')\n",
      "Training Epoch: 588, total loss: 40.781375\n",
      "total_test_accuracy: tensor(0.6250, device='cuda:0')\n",
      "Training Epoch: 589, total loss: 40.699372\n",
      "total_test_accuracy: tensor(0.5556, device='cuda:0')\n",
      "Training Epoch: 590, total loss: 41.079177\n",
      "total_test_accuracy: tensor(0.5139, device='cuda:0')\n",
      "Training Epoch: 591, total loss: 41.226562\n",
      "total_test_accuracy: tensor(0.6528, device='cuda:0')\n",
      "Training Epoch: 592, total loss: 40.294498\n",
      "total_test_accuracy: tensor(0.6111, device='cuda:0')\n",
      "Training Epoch: 593, total loss: 41.330652\n",
      "total_test_accuracy: tensor(0.5139, device='cuda:0')\n",
      "Training Epoch: 594, total loss: 40.991017\n",
      "total_test_accuracy: tensor(0.5972, device='cuda:0')\n",
      "Training Epoch: 595, total loss: 41.255075\n",
      "total_test_accuracy: tensor(0.5694, device='cuda:0')\n",
      "Training Epoch: 596, total loss: 40.619035\n",
      "total_test_accuracy: tensor(0.5694, device='cuda:0')\n",
      "Training Epoch: 597, total loss: 40.673168\n",
      "total_test_accuracy: tensor(0.5833, device='cuda:0')\n",
      "Training Epoch: 598, total loss: 40.676904\n",
      "total_test_accuracy: tensor(0.6667, device='cuda:0')\n",
      "Training Epoch: 599, total loss: 41.323275\n",
      "total_test_accuracy: tensor(0.6389, device='cuda:0')\n",
      "Training Epoch: 600, total loss: 41.122565\n",
      "total_test_accuracy: tensor(0.6111, device='cuda:0')\n",
      "Training Epoch: 601, total loss: 41.131087\n",
      "total_test_accuracy: tensor(0.6250, device='cuda:0')\n",
      "Training Epoch: 602, total loss: 41.087354\n"
     ]
    },
    {
     "name": "stdout",
     "output_type": "stream",
     "text": [
      "total_test_accuracy: tensor(0.5694, device='cuda:0')\n",
      "Training Epoch: 603, total loss: 40.855794\n",
      "total_test_accuracy: tensor(0.5833, device='cuda:0')\n",
      "Training Epoch: 604, total loss: 41.710542\n",
      "total_test_accuracy: tensor(0.5972, device='cuda:0')\n",
      "Training Epoch: 605, total loss: 41.447889\n",
      "total_test_accuracy: tensor(0.6250, device='cuda:0')\n",
      "Training Epoch: 606, total loss: 40.789657\n",
      "total_test_accuracy: tensor(0.6111, device='cuda:0')\n",
      "Training Epoch: 607, total loss: 41.156656\n",
      "total_test_accuracy: tensor(0.5278, device='cuda:0')\n",
      "Training Epoch: 608, total loss: 40.734146\n",
      "total_test_accuracy: tensor(0.5972, device='cuda:0')\n",
      "Training Epoch: 609, total loss: 40.394735\n",
      "total_test_accuracy: tensor(0.5556, device='cuda:0')\n",
      "Training Epoch: 610, total loss: 40.676183\n",
      "total_test_accuracy: tensor(0.5833, device='cuda:0')\n",
      "Training Epoch: 611, total loss: 40.573358\n",
      "total_test_accuracy: tensor(0.6389, device='cuda:0')\n",
      "Training Epoch: 612, total loss: 40.560656\n",
      "total_test_accuracy: tensor(0.5972, device='cuda:0')\n",
      "Training Epoch: 613, total loss: 40.844942\n",
      "total_test_accuracy: tensor(0.6667, device='cuda:0')\n",
      "Training Epoch: 614, total loss: 40.638398\n",
      "total_test_accuracy: tensor(0.6111, device='cuda:0')\n",
      "Training Epoch: 615, total loss: 40.696748\n",
      "total_test_accuracy: tensor(0.5417, device='cuda:0')\n",
      "Training Epoch: 616, total loss: 40.949044\n",
      "total_test_accuracy: tensor(0.5556, device='cuda:0')\n",
      "Training Epoch: 617, total loss: 40.388658\n",
      "total_test_accuracy: tensor(0.6528, device='cuda:0')\n",
      "Training Epoch: 618, total loss: 40.838849\n",
      "total_test_accuracy: tensor(0.5972, device='cuda:0')\n",
      "Training Epoch: 619, total loss: 40.685511\n",
      "total_test_accuracy: tensor(0.6250, device='cuda:0')\n",
      "Training Epoch: 620, total loss: 40.542197\n",
      "total_test_accuracy: tensor(0.5833, device='cuda:0')\n",
      "Training Epoch: 621, total loss: 40.903549\n",
      "total_test_accuracy: tensor(0.6389, device='cuda:0')\n",
      "Training Epoch: 622, total loss: 40.379308\n",
      "total_test_accuracy: tensor(0.5833, device='cuda:0')\n",
      "Training Epoch: 623, total loss: 40.433461\n",
      "total_test_accuracy: tensor(0.5278, device='cuda:0')\n",
      "Training Epoch: 624, total loss: 40.756066\n",
      "total_test_accuracy: tensor(0.6111, device='cuda:0')\n",
      "Training Epoch: 625, total loss: 40.886023\n",
      "total_test_accuracy: tensor(0.5694, device='cuda:0')\n",
      "Training Epoch: 626, total loss: 40.363747\n",
      "total_test_accuracy: tensor(0.5972, device='cuda:0')\n",
      "Training Epoch: 627, total loss: 40.823995\n",
      "total_test_accuracy: tensor(0.6667, device='cuda:0')\n",
      "Training Epoch: 628, total loss: 40.392112\n",
      "total_test_accuracy: tensor(0.5139, device='cuda:0')\n",
      "Training Epoch: 629, total loss: 40.183466\n",
      "total_test_accuracy: tensor(0.6111, device='cuda:0')\n",
      "Training Epoch: 630, total loss: 40.970493\n",
      "total_test_accuracy: tensor(0.6389, device='cuda:0')\n",
      "Training Epoch: 631, total loss: 40.260324\n",
      "total_test_accuracy: tensor(0.5972, device='cuda:0')\n",
      "Training Epoch: 632, total loss: 40.935362\n",
      "total_test_accuracy: tensor(0.5417, device='cuda:0')\n",
      "Training Epoch: 633, total loss: 40.542341\n",
      "total_test_accuracy: tensor(0.6667, device='cuda:0')\n",
      "Training Epoch: 634, total loss: 40.219884\n",
      "total_test_accuracy: tensor(0.6389, device='cuda:0')\n",
      "Training Epoch: 635, total loss: 40.603832\n",
      "total_test_accuracy: tensor(0.6389, device='cuda:0')\n",
      "Training Epoch: 636, total loss: 41.079777\n",
      "total_test_accuracy: tensor(0.5833, device='cuda:0')\n",
      "Training Epoch: 637, total loss: 41.264855\n",
      "total_test_accuracy: tensor(0.5278, device='cuda:0')\n",
      "Training Epoch: 638, total loss: 41.081684\n",
      "total_test_accuracy: tensor(0.5833, device='cuda:0')\n",
      "Training Epoch: 639, total loss: 40.161449\n",
      "total_test_accuracy: tensor(0.5694, device='cuda:0')\n",
      "Training Epoch: 640, total loss: 40.570459\n",
      "total_test_accuracy: tensor(0.5833, device='cuda:0')\n",
      "Training Epoch: 641, total loss: 40.456776\n",
      "total_test_accuracy: tensor(0.5972, device='cuda:0')\n",
      "Training Epoch: 642, total loss: 40.516776\n",
      "total_test_accuracy: tensor(0.5972, device='cuda:0')\n",
      "Training Epoch: 643, total loss: 40.634653\n",
      "total_test_accuracy: tensor(0.5694, device='cuda:0')\n",
      "Training Epoch: 644, total loss: 41.635189\n",
      "total_test_accuracy: tensor(0.6250, device='cuda:0')\n",
      "Training Epoch: 645, total loss: 40.920363\n",
      "total_test_accuracy: tensor(0.5833, device='cuda:0')\n",
      "Training Epoch: 646, total loss: 41.392114\n",
      "total_test_accuracy: tensor(0.5833, device='cuda:0')\n",
      "Training Epoch: 647, total loss: 40.358123\n",
      "total_test_accuracy: tensor(0.5833, device='cuda:0')\n",
      "Training Epoch: 648, total loss: 40.469360\n",
      "total_test_accuracy: tensor(0.5556, device='cuda:0')\n",
      "Training Epoch: 649, total loss: 40.900358\n",
      "total_test_accuracy: tensor(0.5694, device='cuda:0')\n",
      "Training Epoch: 650, total loss: 40.982446\n",
      "total_test_accuracy: tensor(0.5833, device='cuda:0')\n",
      "Training Epoch: 651, total loss: 40.656712\n",
      "total_test_accuracy: tensor(0.6250, device='cuda:0')\n",
      "Training Epoch: 652, total loss: 41.454981\n",
      "total_test_accuracy: tensor(0.6111, device='cuda:0')\n",
      "Training Epoch: 653, total loss: 40.940049\n",
      "total_test_accuracy: tensor(0.6111, device='cuda:0')\n",
      "Training Epoch: 654, total loss: 41.210519\n",
      "total_test_accuracy: tensor(0.6111, device='cuda:0')\n",
      "Training Epoch: 655, total loss: 40.728091\n",
      "total_test_accuracy: tensor(0.5556, device='cuda:0')\n",
      "Training Epoch: 656, total loss: 40.955347\n",
      "total_test_accuracy: tensor(0.5972, device='cuda:0')\n",
      "Training Epoch: 657, total loss: 41.182368\n",
      "total_test_accuracy: tensor(0.5833, device='cuda:0')\n",
      "Training Epoch: 658, total loss: 40.599335\n",
      "total_test_accuracy: tensor(0.6389, device='cuda:0')\n",
      "Training Epoch: 659, total loss: 40.456901\n",
      "total_test_accuracy: tensor(0.6944, device='cuda:0')\n",
      "Training Epoch: 660, total loss: 40.851489\n",
      "total_test_accuracy: tensor(0.5556, device='cuda:0')\n",
      "Training Epoch: 661, total loss: 41.732908\n",
      "total_test_accuracy: tensor(0.5556, device='cuda:0')\n",
      "Training Epoch: 662, total loss: 40.422886\n",
      "total_test_accuracy: tensor(0.6389, device='cuda:0')\n",
      "Training Epoch: 663, total loss: 40.950359\n",
      "total_test_accuracy: tensor(0.5833, device='cuda:0')\n",
      "Training Epoch: 664, total loss: 40.885437\n",
      "total_test_accuracy: tensor(0.6389, device='cuda:0')\n",
      "Training Epoch: 665, total loss: 40.145681\n",
      "total_test_accuracy: tensor(0.6250, device='cuda:0')\n",
      "Training Epoch: 666, total loss: 41.473348\n",
      "total_test_accuracy: tensor(0.6667, device='cuda:0')\n",
      "Training Epoch: 667, total loss: 40.473480\n",
      "total_test_accuracy: tensor(0.5833, device='cuda:0')\n",
      "Training Epoch: 668, total loss: 40.066687\n",
      "total_test_accuracy: tensor(0.6528, device='cuda:0')\n",
      "Training Epoch: 669, total loss: 40.049671\n",
      "total_test_accuracy: tensor(0.6806, device='cuda:0')\n",
      "Training Epoch: 670, total loss: 40.194238\n",
      "total_test_accuracy: tensor(0.6389, device='cuda:0')\n",
      "Training Epoch: 671, total loss: 40.609828\n",
      "total_test_accuracy: tensor(0.5972, device='cuda:0')\n",
      "Training Epoch: 672, total loss: 40.351034\n",
      "total_test_accuracy: tensor(0.6667, device='cuda:0')\n",
      "Training Epoch: 673, total loss: 40.533007\n",
      "total_test_accuracy: tensor(0.5556, device='cuda:0')\n",
      "Training Epoch: 674, total loss: 40.165828\n",
      "total_test_accuracy: tensor(0.5972, device='cuda:0')\n",
      "Training Epoch: 675, total loss: 39.978704\n",
      "total_test_accuracy: tensor(0.6389, device='cuda:0')\n",
      "Training Epoch: 676, total loss: 40.500359\n",
      "total_test_accuracy: tensor(0.5972, device='cuda:0')\n",
      "Training Epoch: 677, total loss: 40.179700\n",
      "total_test_accuracy: tensor(0.6528, device='cuda:0')\n",
      "Training Epoch: 678, total loss: 40.246305\n",
      "total_test_accuracy: tensor(0.6111, device='cuda:0')\n",
      "Training Epoch: 679, total loss: 40.538609\n",
      "total_test_accuracy: tensor(0.6250, device='cuda:0')\n",
      "Training Epoch: 680, total loss: 41.198339\n",
      "total_test_accuracy: tensor(0.6111, device='cuda:0')\n",
      "Training Epoch: 681, total loss: 40.848662\n",
      "total_test_accuracy: tensor(0.6250, device='cuda:0')\n",
      "Training Epoch: 682, total loss: 41.008279\n",
      "total_test_accuracy: tensor(0.5833, device='cuda:0')\n",
      "Training Epoch: 683, total loss: 40.291224\n",
      "total_test_accuracy: tensor(0.6250, device='cuda:0')\n",
      "Training Epoch: 684, total loss: 40.691369\n",
      "total_test_accuracy: tensor(0.5833, device='cuda:0')\n",
      "Training Epoch: 685, total loss: 40.654994\n",
      "total_test_accuracy: tensor(0.6528, device='cuda:0')\n",
      "Training Epoch: 686, total loss: 40.566364\n",
      "total_test_accuracy: tensor(0.5972, device='cuda:0')\n",
      "Training Epoch: 687, total loss: 40.181993\n",
      "total_test_accuracy: tensor(0.5833, device='cuda:0')\n",
      "Training Epoch: 688, total loss: 40.204129\n"
     ]
    },
    {
     "name": "stdout",
     "output_type": "stream",
     "text": [
      "total_test_accuracy: tensor(0.5417, device='cuda:0')\n",
      "Training Epoch: 689, total loss: 39.984874\n",
      "total_test_accuracy: tensor(0.6111, device='cuda:0')\n",
      "Training Epoch: 690, total loss: 40.970754\n",
      "total_test_accuracy: tensor(0.6389, device='cuda:0')\n",
      "Training Epoch: 691, total loss: 40.678002\n",
      "total_test_accuracy: tensor(0.5694, device='cuda:0')\n",
      "Training Epoch: 692, total loss: 40.228062\n",
      "total_test_accuracy: tensor(0.6389, device='cuda:0')\n",
      "Training Epoch: 693, total loss: 40.625866\n",
      "total_test_accuracy: tensor(0.5833, device='cuda:0')\n",
      "Training Epoch: 694, total loss: 40.282489\n",
      "total_test_accuracy: tensor(0.6111, device='cuda:0')\n",
      "Training Epoch: 695, total loss: 40.307563\n",
      "total_test_accuracy: tensor(0.4861, device='cuda:0')\n",
      "Training Epoch: 696, total loss: 40.493932\n",
      "total_test_accuracy: tensor(0.5417, device='cuda:0')\n",
      "Training Epoch: 697, total loss: 40.449252\n",
      "total_test_accuracy: tensor(0.5694, device='cuda:0')\n",
      "Training Epoch: 698, total loss: 40.800914\n",
      "total_test_accuracy: tensor(0.5694, device='cuda:0')\n",
      "Training Epoch: 699, total loss: 41.676165\n",
      "total_test_accuracy: tensor(0.5278, device='cuda:0')\n",
      "Training Epoch: 700, total loss: 40.108658\n",
      "total_test_accuracy: tensor(0.5556, device='cuda:0')\n",
      "Training Epoch: 701, total loss: 41.189896\n",
      "total_test_accuracy: tensor(0.5833, device='cuda:0')\n",
      "Training Epoch: 702, total loss: 41.220958\n",
      "total_test_accuracy: tensor(0.5000, device='cuda:0')\n",
      "Training Epoch: 703, total loss: 39.977069\n",
      "total_test_accuracy: tensor(0.5278, device='cuda:0')\n",
      "Training Epoch: 704, total loss: 40.616047\n",
      "total_test_accuracy: tensor(0.6250, device='cuda:0')\n",
      "Training Epoch: 705, total loss: 40.573110\n",
      "total_test_accuracy: tensor(0.6111, device='cuda:0')\n",
      "Training Epoch: 706, total loss: 40.598170\n",
      "total_test_accuracy: tensor(0.5833, device='cuda:0')\n",
      "Training Epoch: 707, total loss: 41.033788\n",
      "total_test_accuracy: tensor(0.5278, device='cuda:0')\n",
      "Training Epoch: 708, total loss: 40.498562\n",
      "total_test_accuracy: tensor(0.5972, device='cuda:0')\n",
      "Training Epoch: 709, total loss: 40.254832\n",
      "total_test_accuracy: tensor(0.5833, device='cuda:0')\n",
      "Training Epoch: 710, total loss: 40.289827\n",
      "total_test_accuracy: tensor(0.5972, device='cuda:0')\n",
      "Training Epoch: 711, total loss: 41.009385\n",
      "total_test_accuracy: tensor(0.6528, device='cuda:0')\n",
      "Training Epoch: 712, total loss: 40.114303\n",
      "total_test_accuracy: tensor(0.5833, device='cuda:0')\n",
      "Training Epoch: 713, total loss: 41.031814\n",
      "total_test_accuracy: tensor(0.5556, device='cuda:0')\n",
      "Training Epoch: 714, total loss: 40.505712\n",
      "total_test_accuracy: tensor(0.5556, device='cuda:0')\n",
      "Training Epoch: 715, total loss: 40.759741\n",
      "total_test_accuracy: tensor(0.5833, device='cuda:0')\n",
      "Training Epoch: 716, total loss: 41.320850\n",
      "total_test_accuracy: tensor(0.6389, device='cuda:0')\n",
      "Training Epoch: 717, total loss: 40.538358\n",
      "total_test_accuracy: tensor(0.5972, device='cuda:0')\n",
      "Training Epoch: 718, total loss: 41.147286\n",
      "total_test_accuracy: tensor(0.5972, device='cuda:0')\n",
      "Training Epoch: 719, total loss: 41.088925\n",
      "total_test_accuracy: tensor(0.5556, device='cuda:0')\n",
      "Training Epoch: 720, total loss: 40.524515\n",
      "total_test_accuracy: tensor(0.5694, device='cuda:0')\n",
      "Training Epoch: 721, total loss: 40.377029\n",
      "total_test_accuracy: tensor(0.5694, device='cuda:0')\n",
      "Training Epoch: 722, total loss: 40.623098\n",
      "total_test_accuracy: tensor(0.5972, device='cuda:0')\n",
      "Training Epoch: 723, total loss: 40.529013\n",
      "total_test_accuracy: tensor(0.6389, device='cuda:0')\n",
      "Training Epoch: 724, total loss: 40.859510\n",
      "total_test_accuracy: tensor(0.5278, device='cuda:0')\n",
      "Training Epoch: 725, total loss: 40.365897\n",
      "total_test_accuracy: tensor(0.6250, device='cuda:0')\n",
      "Training Epoch: 726, total loss: 40.728502\n",
      "total_test_accuracy: tensor(0.6528, device='cuda:0')\n",
      "Training Epoch: 727, total loss: 41.066197\n",
      "total_test_accuracy: tensor(0.6528, device='cuda:0')\n",
      "Training Epoch: 728, total loss: 41.067639\n",
      "total_test_accuracy: tensor(0.5417, device='cuda:0')\n",
      "Training Epoch: 729, total loss: 40.872152\n",
      "total_test_accuracy: tensor(0.5833, device='cuda:0')\n",
      "Training Epoch: 730, total loss: 40.394348\n",
      "total_test_accuracy: tensor(0.6250, device='cuda:0')\n",
      "Training Epoch: 731, total loss: 41.027434\n",
      "total_test_accuracy: tensor(0.6111, device='cuda:0')\n",
      "Training Epoch: 732, total loss: 40.383157\n",
      "total_test_accuracy: tensor(0.5417, device='cuda:0')\n",
      "Training Epoch: 733, total loss: 40.418634\n",
      "total_test_accuracy: tensor(0.5833, device='cuda:0')\n",
      "Training Epoch: 734, total loss: 40.421651\n",
      "total_test_accuracy: tensor(0.5417, device='cuda:0')\n",
      "Training Epoch: 735, total loss: 40.852147\n",
      "total_test_accuracy: tensor(0.5833, device='cuda:0')\n",
      "Training Epoch: 736, total loss: 41.060440\n",
      "total_test_accuracy: tensor(0.6250, device='cuda:0')\n",
      "Training Epoch: 737, total loss: 40.479497\n",
      "total_test_accuracy: tensor(0.6111, device='cuda:0')\n",
      "Training Epoch: 738, total loss: 41.093363\n",
      "total_test_accuracy: tensor(0.5556, device='cuda:0')\n",
      "Training Epoch: 739, total loss: 40.606779\n",
      "total_test_accuracy: tensor(0.5833, device='cuda:0')\n",
      "Training Epoch: 740, total loss: 39.818585\n",
      "total_test_accuracy: tensor(0.6250, device='cuda:0')\n",
      "Training Epoch: 741, total loss: 40.412647\n",
      "total_test_accuracy: tensor(0.6389, device='cuda:0')\n",
      "Training Epoch: 742, total loss: 40.331311\n",
      "total_test_accuracy: tensor(0.5139, device='cuda:0')\n",
      "Training Epoch: 743, total loss: 40.866150\n",
      "total_test_accuracy: tensor(0.6250, device='cuda:0')\n",
      "Training Epoch: 744, total loss: 40.945652\n",
      "total_test_accuracy: tensor(0.6250, device='cuda:0')\n",
      "Training Epoch: 745, total loss: 40.479122\n",
      "total_test_accuracy: tensor(0.6250, device='cuda:0')\n",
      "Training Epoch: 746, total loss: 41.493007\n",
      "total_test_accuracy: tensor(0.5556, device='cuda:0')\n",
      "Training Epoch: 747, total loss: 40.462711\n",
      "total_test_accuracy: tensor(0.6250, device='cuda:0')\n",
      "Training Epoch: 748, total loss: 40.386334\n",
      "total_test_accuracy: tensor(0.5972, device='cuda:0')\n",
      "Training Epoch: 749, total loss: 40.245327\n",
      "total_test_accuracy: tensor(0.5972, device='cuda:0')\n",
      "Training Epoch: 750, total loss: 40.593234\n",
      "total_test_accuracy: tensor(0.6667, device='cuda:0')\n",
      "Training Epoch: 751, total loss: 40.649476\n",
      "total_test_accuracy: tensor(0.5556, device='cuda:0')\n",
      "Training Epoch: 752, total loss: 40.700875\n",
      "total_test_accuracy: tensor(0.5694, device='cuda:0')\n",
      "Training Epoch: 753, total loss: 41.134487\n",
      "total_test_accuracy: tensor(0.6111, device='cuda:0')\n",
      "Training Epoch: 754, total loss: 40.283480\n",
      "total_test_accuracy: tensor(0.6111, device='cuda:0')\n",
      "Training Epoch: 755, total loss: 40.435582\n",
      "total_test_accuracy: tensor(0.6389, device='cuda:0')\n",
      "Training Epoch: 756, total loss: 40.496175\n",
      "total_test_accuracy: tensor(0.5972, device='cuda:0')\n",
      "Training Epoch: 757, total loss: 40.399740\n",
      "total_test_accuracy: tensor(0.5694, device='cuda:0')\n",
      "Training Epoch: 758, total loss: 40.398301\n",
      "total_test_accuracy: tensor(0.5694, device='cuda:0')\n",
      "Training Epoch: 759, total loss: 40.765077\n",
      "total_test_accuracy: tensor(0.6389, device='cuda:0')\n",
      "Training Epoch: 760, total loss: 40.723672\n",
      "total_test_accuracy: tensor(0.6667, device='cuda:0')\n",
      "Training Epoch: 761, total loss: 40.266075\n",
      "total_test_accuracy: tensor(0.6528, device='cuda:0')\n",
      "Training Epoch: 762, total loss: 40.144697\n",
      "total_test_accuracy: tensor(0.5694, device='cuda:0')\n",
      "Training Epoch: 763, total loss: 39.646532\n",
      "total_test_accuracy: tensor(0.6389, device='cuda:0')\n",
      "Training Epoch: 764, total loss: 40.268079\n",
      "total_test_accuracy: tensor(0.5556, device='cuda:0')\n",
      "Training Epoch: 765, total loss: 39.970962\n",
      "total_test_accuracy: tensor(0.6111, device='cuda:0')\n",
      "Training Epoch: 766, total loss: 40.383373\n",
      "total_test_accuracy: tensor(0.5278, device='cuda:0')\n",
      "Training Epoch: 767, total loss: 40.277027\n",
      "total_test_accuracy: tensor(0.5833, device='cuda:0')\n",
      "Training Epoch: 768, total loss: 40.365061\n",
      "total_test_accuracy: tensor(0.5417, device='cuda:0')\n",
      "Training Epoch: 769, total loss: 40.295011\n",
      "total_test_accuracy: tensor(0.5694, device='cuda:0')\n",
      "Training Epoch: 770, total loss: 40.833609\n",
      "total_test_accuracy: tensor(0.5833, device='cuda:0')\n",
      "Training Epoch: 771, total loss: 40.774580\n",
      "total_test_accuracy: tensor(0.5278, device='cuda:0')\n",
      "Training Epoch: 772, total loss: 40.362282\n",
      "total_test_accuracy: tensor(0.4722, device='cuda:0')\n",
      "Training Epoch: 773, total loss: 41.439154\n",
      "total_test_accuracy: tensor(0.5833, device='cuda:0')\n",
      "Training Epoch: 774, total loss: 40.264504\n"
     ]
    },
    {
     "name": "stdout",
     "output_type": "stream",
     "text": [
      "total_test_accuracy: tensor(0.4583, device='cuda:0')\n",
      "Training Epoch: 775, total loss: 40.586032\n",
      "total_test_accuracy: tensor(0.4583, device='cuda:0')\n",
      "Training Epoch: 776, total loss: 40.515723\n",
      "total_test_accuracy: tensor(0.6111, device='cuda:0')\n",
      "Training Epoch: 777, total loss: 40.901662\n",
      "total_test_accuracy: tensor(0.6389, device='cuda:0')\n",
      "Training Epoch: 778, total loss: 40.665629\n",
      "total_test_accuracy: tensor(0.5972, device='cuda:0')\n",
      "Training Epoch: 779, total loss: 40.741230\n",
      "total_test_accuracy: tensor(0.5417, device='cuda:0')\n",
      "Training Epoch: 780, total loss: 40.527936\n",
      "total_test_accuracy: tensor(0.5972, device='cuda:0')\n",
      "Training Epoch: 781, total loss: 40.537624\n",
      "total_test_accuracy: tensor(0.6250, device='cuda:0')\n",
      "Training Epoch: 782, total loss: 40.006371\n",
      "total_test_accuracy: tensor(0.5417, device='cuda:0')\n",
      "Training Epoch: 783, total loss: 40.255277\n",
      "total_test_accuracy: tensor(0.6250, device='cuda:0')\n",
      "Training Epoch: 784, total loss: 40.335655\n",
      "total_test_accuracy: tensor(0.5556, device='cuda:0')\n",
      "Training Epoch: 785, total loss: 40.712283\n",
      "total_test_accuracy: tensor(0.5556, device='cuda:0')\n",
      "Training Epoch: 786, total loss: 39.857734\n",
      "total_test_accuracy: tensor(0.5833, device='cuda:0')\n",
      "Training Epoch: 787, total loss: 40.712474\n",
      "total_test_accuracy: tensor(0.5556, device='cuda:0')\n",
      "Training Epoch: 788, total loss: 40.177506\n",
      "total_test_accuracy: tensor(0.6111, device='cuda:0')\n",
      "Training Epoch: 789, total loss: 40.362280\n",
      "total_test_accuracy: tensor(0.5000, device='cuda:0')\n",
      "Training Epoch: 790, total loss: 39.920942\n",
      "total_test_accuracy: tensor(0.5972, device='cuda:0')\n",
      "Training Epoch: 791, total loss: 40.359372\n",
      "total_test_accuracy: tensor(0.6528, device='cuda:0')\n",
      "Training Epoch: 792, total loss: 40.605248\n",
      "total_test_accuracy: tensor(0.5972, device='cuda:0')\n",
      "Training Epoch: 793, total loss: 40.445724\n",
      "total_test_accuracy: tensor(0.6111, device='cuda:0')\n",
      "Training Epoch: 794, total loss: 40.308898\n",
      "total_test_accuracy: tensor(0.6389, device='cuda:0')\n",
      "Training Epoch: 795, total loss: 40.461561\n",
      "total_test_accuracy: tensor(0.6667, device='cuda:0')\n",
      "Training Epoch: 796, total loss: 40.521060\n",
      "total_test_accuracy: tensor(0.5694, device='cuda:0')\n",
      "Training Epoch: 797, total loss: 40.200845\n",
      "total_test_accuracy: tensor(0.5556, device='cuda:0')\n",
      "Training Epoch: 798, total loss: 40.652727\n",
      "total_test_accuracy: tensor(0.5139, device='cuda:0')\n",
      "Training Epoch: 799, total loss: 40.496253\n",
      "total_test_accuracy: tensor(0.6250, device='cuda:0')\n",
      "Training Epoch: 800, total loss: 40.607873\n",
      "total_test_accuracy: tensor(0.6528, device='cuda:0')\n",
      "Training Epoch: 801, total loss: 40.565245\n",
      "total_test_accuracy: tensor(0.6111, device='cuda:0')\n",
      "Training Epoch: 802, total loss: 40.118926\n",
      "total_test_accuracy: tensor(0.6389, device='cuda:0')\n",
      "Training Epoch: 803, total loss: 40.564557\n",
      "total_test_accuracy: tensor(0.5833, device='cuda:0')\n",
      "Training Epoch: 804, total loss: 40.599191\n",
      "total_test_accuracy: tensor(0.5972, device='cuda:0')\n",
      "Training Epoch: 805, total loss: 40.889386\n",
      "total_test_accuracy: tensor(0.5972, device='cuda:0')\n",
      "Training Epoch: 806, total loss: 40.899969\n",
      "total_test_accuracy: tensor(0.5417, device='cuda:0')\n",
      "Training Epoch: 807, total loss: 40.315501\n",
      "total_test_accuracy: tensor(0.6250, device='cuda:0')\n",
      "Training Epoch: 808, total loss: 40.866995\n",
      "total_test_accuracy: tensor(0.5972, device='cuda:0')\n",
      "Training Epoch: 809, total loss: 40.709539\n",
      "total_test_accuracy: tensor(0.6528, device='cuda:0')\n",
      "Training Epoch: 810, total loss: 40.733224\n",
      "total_test_accuracy: tensor(0.5556, device='cuda:0')\n",
      "Training Epoch: 811, total loss: 41.765248\n",
      "total_test_accuracy: tensor(0.6389, device='cuda:0')\n",
      "Training Epoch: 812, total loss: 40.153893\n",
      "total_test_accuracy: tensor(0.5278, device='cuda:0')\n",
      "Training Epoch: 813, total loss: 41.493695\n",
      "total_test_accuracy: tensor(0.5556, device='cuda:0')\n",
      "Training Epoch: 814, total loss: 40.039693\n",
      "total_test_accuracy: tensor(0.5694, device='cuda:0')\n",
      "Training Epoch: 815, total loss: 40.458931\n",
      "total_test_accuracy: tensor(0.5972, device='cuda:0')\n",
      "Training Epoch: 816, total loss: 39.974105\n",
      "total_test_accuracy: tensor(0.5556, device='cuda:0')\n",
      "Training Epoch: 817, total loss: 40.479044\n",
      "total_test_accuracy: tensor(0.5278, device='cuda:0')\n",
      "Training Epoch: 818, total loss: 39.821339\n",
      "total_test_accuracy: tensor(0.5833, device='cuda:0')\n",
      "Training Epoch: 819, total loss: 40.668828\n",
      "total_test_accuracy: tensor(0.6667, device='cuda:0')\n",
      "Training Epoch: 820, total loss: 40.498261\n",
      "total_test_accuracy: tensor(0.6667, device='cuda:0')\n",
      "Training Epoch: 821, total loss: 40.201107\n",
      "total_test_accuracy: tensor(0.5417, device='cuda:0')\n",
      "Training Epoch: 822, total loss: 40.458862\n",
      "total_test_accuracy: tensor(0.5833, device='cuda:0')\n",
      "Training Epoch: 823, total loss: 40.034757\n",
      "total_test_accuracy: tensor(0.5556, device='cuda:0')\n",
      "Training Epoch: 824, total loss: 40.038376\n",
      "total_test_accuracy: tensor(0.5972, device='cuda:0')\n",
      "Training Epoch: 825, total loss: 40.372804\n",
      "total_test_accuracy: tensor(0.6389, device='cuda:0')\n",
      "Training Epoch: 826, total loss: 39.683765\n",
      "total_test_accuracy: tensor(0.5417, device='cuda:0')\n",
      "Training Epoch: 827, total loss: 39.947255\n",
      "total_test_accuracy: tensor(0.6111, device='cuda:0')\n",
      "Training Epoch: 828, total loss: 40.349460\n",
      "total_test_accuracy: tensor(0.6389, device='cuda:0')\n",
      "Training Epoch: 829, total loss: 39.770501\n",
      "total_test_accuracy: tensor(0.6528, device='cuda:0')\n",
      "Training Epoch: 830, total loss: 40.189009\n",
      "total_test_accuracy: tensor(0.6806, device='cuda:0')\n",
      "Training Epoch: 831, total loss: 39.599317\n",
      "total_test_accuracy: tensor(0.5694, device='cuda:0')\n",
      "Training Epoch: 832, total loss: 40.111210\n",
      "total_test_accuracy: tensor(0.5833, device='cuda:0')\n",
      "Training Epoch: 833, total loss: 40.784781\n",
      "total_test_accuracy: tensor(0.5556, device='cuda:0')\n",
      "Training Epoch: 834, total loss: 41.033405\n",
      "total_test_accuracy: tensor(0.6111, device='cuda:0')\n",
      "Training Epoch: 835, total loss: 40.331665\n",
      "total_test_accuracy: tensor(0.5833, device='cuda:0')\n",
      "Training Epoch: 836, total loss: 40.636318\n",
      "total_test_accuracy: tensor(0.6111, device='cuda:0')\n",
      "Training Epoch: 837, total loss: 39.821108\n",
      "total_test_accuracy: tensor(0.5556, device='cuda:0')\n",
      "Training Epoch: 838, total loss: 40.297076\n",
      "total_test_accuracy: tensor(0.5833, device='cuda:0')\n",
      "Training Epoch: 839, total loss: 40.252445\n",
      "total_test_accuracy: tensor(0.6667, device='cuda:0')\n",
      "Training Epoch: 840, total loss: 40.946097\n",
      "total_test_accuracy: tensor(0.6667, device='cuda:0')\n",
      "Training Epoch: 841, total loss: 39.796128\n",
      "total_test_accuracy: tensor(0.5556, device='cuda:0')\n",
      "Training Epoch: 842, total loss: 40.275828\n",
      "total_test_accuracy: tensor(0.6250, device='cuda:0')\n",
      "Training Epoch: 843, total loss: 39.979924\n",
      "total_test_accuracy: tensor(0.5833, device='cuda:0')\n",
      "Training Epoch: 844, total loss: 40.249477\n",
      "total_test_accuracy: tensor(0.5972, device='cuda:0')\n",
      "Training Epoch: 845, total loss: 40.241479\n",
      "total_test_accuracy: tensor(0.6528, device='cuda:0')\n",
      "Training Epoch: 846, total loss: 40.958356\n",
      "total_test_accuracy: tensor(0.5972, device='cuda:0')\n",
      "Training Epoch: 847, total loss: 40.399338\n",
      "total_test_accuracy: tensor(0.6111, device='cuda:0')\n",
      "Training Epoch: 848, total loss: 40.136549\n",
      "total_test_accuracy: tensor(0.5694, device='cuda:0')\n",
      "Training Epoch: 849, total loss: 40.524627\n",
      "total_test_accuracy: tensor(0.5278, device='cuda:0')\n",
      "Training Epoch: 850, total loss: 40.309112\n",
      "total_test_accuracy: tensor(0.5556, device='cuda:0')\n",
      "Training Epoch: 851, total loss: 40.087434\n",
      "total_test_accuracy: tensor(0.5417, device='cuda:0')\n",
      "Training Epoch: 852, total loss: 40.618602\n",
      "total_test_accuracy: tensor(0.5694, device='cuda:0')\n",
      "Training Epoch: 853, total loss: 40.793319\n",
      "total_test_accuracy: tensor(0.5972, device='cuda:0')\n",
      "Training Epoch: 854, total loss: 40.300556\n",
      "total_test_accuracy: tensor(0.5278, device='cuda:0')\n",
      "Training Epoch: 855, total loss: 41.122690\n",
      "total_test_accuracy: tensor(0.5278, device='cuda:0')\n",
      "Training Epoch: 856, total loss: 41.214811\n",
      "total_test_accuracy: tensor(0.4861, device='cuda:0')\n",
      "Training Epoch: 857, total loss: 41.091980\n",
      "total_test_accuracy: tensor(0.5000, device='cuda:0')\n",
      "Training Epoch: 858, total loss: 40.289362\n",
      "total_test_accuracy: tensor(0.5972, device='cuda:0')\n",
      "Training Epoch: 859, total loss: 40.359089\n",
      "total_test_accuracy: tensor(0.6806, device='cuda:0')\n",
      "Training Epoch: 860, total loss: 40.356769\n"
     ]
    },
    {
     "name": "stdout",
     "output_type": "stream",
     "text": [
      "total_test_accuracy: tensor(0.5139, device='cuda:0')\n",
      "Training Epoch: 861, total loss: 40.801747\n",
      "total_test_accuracy: tensor(0.5556, device='cuda:0')\n",
      "Training Epoch: 862, total loss: 41.511301\n",
      "total_test_accuracy: tensor(0.5556, device='cuda:0')\n",
      "Training Epoch: 863, total loss: 41.212355\n",
      "total_test_accuracy: tensor(0.6250, device='cuda:0')\n",
      "Training Epoch: 864, total loss: 40.837839\n",
      "total_test_accuracy: tensor(0.6528, device='cuda:0')\n",
      "Training Epoch: 865, total loss: 41.733369\n",
      "total_test_accuracy: tensor(0.5278, device='cuda:0')\n",
      "Training Epoch: 866, total loss: 40.849721\n",
      "total_test_accuracy: tensor(0.5833, device='cuda:0')\n",
      "Training Epoch: 867, total loss: 40.577062\n",
      "total_test_accuracy: tensor(0.6250, device='cuda:0')\n",
      "Training Epoch: 868, total loss: 40.548363\n",
      "total_test_accuracy: tensor(0.5833, device='cuda:0')\n",
      "Training Epoch: 869, total loss: 41.013111\n",
      "total_test_accuracy: tensor(0.5972, device='cuda:0')\n",
      "Training Epoch: 870, total loss: 40.805339\n",
      "total_test_accuracy: tensor(0.4861, device='cuda:0')\n",
      "Training Epoch: 871, total loss: 40.984356\n",
      "total_test_accuracy: tensor(0.5417, device='cuda:0')\n",
      "Training Epoch: 872, total loss: 40.545686\n",
      "total_test_accuracy: tensor(0.5972, device='cuda:0')\n",
      "Training Epoch: 873, total loss: 41.055819\n",
      "total_test_accuracy: tensor(0.4861, device='cuda:0')\n",
      "Training Epoch: 874, total loss: 40.121869\n",
      "total_test_accuracy: tensor(0.5694, device='cuda:0')\n",
      "Training Epoch: 875, total loss: 40.679996\n",
      "total_test_accuracy: tensor(0.5278, device='cuda:0')\n",
      "Training Epoch: 876, total loss: 40.527007\n",
      "total_test_accuracy: tensor(0.5833, device='cuda:0')\n",
      "Training Epoch: 877, total loss: 40.310029\n",
      "total_test_accuracy: tensor(0.5278, device='cuda:0')\n",
      "Training Epoch: 878, total loss: 40.845619\n",
      "total_test_accuracy: tensor(0.5833, device='cuda:0')\n",
      "Training Epoch: 879, total loss: 40.671418\n",
      "total_test_accuracy: tensor(0.6389, device='cuda:0')\n",
      "Training Epoch: 880, total loss: 40.242584\n",
      "total_test_accuracy: tensor(0.6250, device='cuda:0')\n",
      "Training Epoch: 881, total loss: 40.604985\n",
      "total_test_accuracy: tensor(0.5972, device='cuda:0')\n",
      "Training Epoch: 882, total loss: 39.777366\n",
      "total_test_accuracy: tensor(0.5972, device='cuda:0')\n",
      "Training Epoch: 883, total loss: 40.634725\n",
      "total_test_accuracy: tensor(0.5139, device='cuda:0')\n",
      "Training Epoch: 884, total loss: 40.546025\n",
      "total_test_accuracy: tensor(0.5972, device='cuda:0')\n",
      "Training Epoch: 885, total loss: 41.090770\n",
      "total_test_accuracy: tensor(0.6250, device='cuda:0')\n",
      "Training Epoch: 886, total loss: 40.718247\n",
      "total_test_accuracy: tensor(0.6250, device='cuda:0')\n",
      "Training Epoch: 887, total loss: 40.484192\n",
      "total_test_accuracy: tensor(0.6389, device='cuda:0')\n",
      "Training Epoch: 888, total loss: 40.795925\n",
      "total_test_accuracy: tensor(0.5833, device='cuda:0')\n",
      "Training Epoch: 889, total loss: 40.729367\n",
      "total_test_accuracy: tensor(0.5417, device='cuda:0')\n",
      "Training Epoch: 890, total loss: 40.806608\n",
      "total_test_accuracy: tensor(0.5694, device='cuda:0')\n",
      "Training Epoch: 891, total loss: 40.569849\n",
      "total_test_accuracy: tensor(0.5139, device='cuda:0')\n",
      "Training Epoch: 892, total loss: 40.230379\n",
      "total_test_accuracy: tensor(0.6944, device='cuda:0')\n",
      "Training Epoch: 893, total loss: 40.533255\n",
      "total_test_accuracy: tensor(0.4722, device='cuda:0')\n",
      "Training Epoch: 894, total loss: 39.896577\n",
      "total_test_accuracy: tensor(0.5139, device='cuda:0')\n",
      "Training Epoch: 895, total loss: 40.408227\n",
      "total_test_accuracy: tensor(0.6389, device='cuda:0')\n",
      "Training Epoch: 896, total loss: 40.025196\n",
      "total_test_accuracy: tensor(0.5417, device='cuda:0')\n",
      "Training Epoch: 897, total loss: 40.309527\n",
      "total_test_accuracy: tensor(0.6111, device='cuda:0')\n",
      "Training Epoch: 898, total loss: 40.509634\n",
      "total_test_accuracy: tensor(0.6389, device='cuda:0')\n",
      "Training Epoch: 899, total loss: 39.968430\n",
      "total_test_accuracy: tensor(0.6389, device='cuda:0')\n",
      "Training Epoch: 900, total loss: 40.314597\n",
      "total_test_accuracy: tensor(0.5833, device='cuda:0')\n",
      "Training Epoch: 901, total loss: 40.535645\n",
      "total_test_accuracy: tensor(0.6111, device='cuda:0')\n",
      "Training Epoch: 902, total loss: 40.872856\n",
      "total_test_accuracy: tensor(0.5556, device='cuda:0')\n",
      "Training Epoch: 903, total loss: 40.508582\n",
      "total_test_accuracy: tensor(0.5972, device='cuda:0')\n",
      "Training Epoch: 904, total loss: 40.062628\n",
      "total_test_accuracy: tensor(0.5972, device='cuda:0')\n",
      "Training Epoch: 905, total loss: 41.312607\n",
      "total_test_accuracy: tensor(0.5556, device='cuda:0')\n",
      "Training Epoch: 906, total loss: 40.249165\n",
      "total_test_accuracy: tensor(0.6389, device='cuda:0')\n",
      "Training Epoch: 907, total loss: 39.848840\n",
      "total_test_accuracy: tensor(0.5694, device='cuda:0')\n",
      "Training Epoch: 908, total loss: 40.393365\n",
      "total_test_accuracy: tensor(0.5694, device='cuda:0')\n",
      "Training Epoch: 909, total loss: 39.886836\n",
      "total_test_accuracy: tensor(0.5556, device='cuda:0')\n",
      "Training Epoch: 910, total loss: 40.370809\n",
      "total_test_accuracy: tensor(0.5556, device='cuda:0')\n",
      "Training Epoch: 911, total loss: 39.828702\n",
      "total_test_accuracy: tensor(0.5139, device='cuda:0')\n",
      "Training Epoch: 912, total loss: 40.011085\n",
      "total_test_accuracy: tensor(0.4583, device='cuda:0')\n",
      "Training Epoch: 913, total loss: 40.363533\n",
      "total_test_accuracy: tensor(0.6111, device='cuda:0')\n",
      "Training Epoch: 914, total loss: 39.927559\n",
      "total_test_accuracy: tensor(0.6389, device='cuda:0')\n",
      "Training Epoch: 915, total loss: 40.421015\n",
      "total_test_accuracy: tensor(0.6667, device='cuda:0')\n",
      "Training Epoch: 916, total loss: 40.175138\n",
      "total_test_accuracy: tensor(0.6389, device='cuda:0')\n",
      "Training Epoch: 917, total loss: 40.260059\n",
      "total_test_accuracy: tensor(0.5972, device='cuda:0')\n",
      "Training Epoch: 918, total loss: 39.983986\n",
      "total_test_accuracy: tensor(0.5556, device='cuda:0')\n",
      "Training Epoch: 919, total loss: 40.277786\n",
      "total_test_accuracy: tensor(0.6528, device='cuda:0')\n",
      "Training Epoch: 920, total loss: 40.310033\n",
      "total_test_accuracy: tensor(0.5694, device='cuda:0')\n",
      "Training Epoch: 921, total loss: 40.736694\n",
      "total_test_accuracy: tensor(0.5000, device='cuda:0')\n",
      "Training Epoch: 922, total loss: 40.570041\n",
      "total_test_accuracy: tensor(0.5278, device='cuda:0')\n",
      "Training Epoch: 923, total loss: 40.153284\n",
      "total_test_accuracy: tensor(0.5000, device='cuda:0')\n",
      "Training Epoch: 924, total loss: 39.985402\n",
      "total_test_accuracy: tensor(0.5139, device='cuda:0')\n",
      "Training Epoch: 925, total loss: 40.755745\n",
      "total_test_accuracy: tensor(0.6250, device='cuda:0')\n",
      "Training Epoch: 926, total loss: 40.429477\n",
      "total_test_accuracy: tensor(0.5833, device='cuda:0')\n",
      "Training Epoch: 927, total loss: 40.661663\n",
      "total_test_accuracy: tensor(0.5833, device='cuda:0')\n",
      "Training Epoch: 928, total loss: 40.339959\n",
      "total_test_accuracy: tensor(0.6667, device='cuda:0')\n",
      "Training Epoch: 929, total loss: 40.652226\n",
      "total_test_accuracy: tensor(0.5694, device='cuda:0')\n",
      "Training Epoch: 930, total loss: 39.470675\n",
      "total_test_accuracy: tensor(0.5000, device='cuda:0')\n",
      "Training Epoch: 931, total loss: 40.473863\n",
      "total_test_accuracy: tensor(0.6111, device='cuda:0')\n",
      "Training Epoch: 932, total loss: 40.620762\n",
      "total_test_accuracy: tensor(0.5833, device='cuda:0')\n",
      "Training Epoch: 933, total loss: 40.504857\n",
      "total_test_accuracy: tensor(0.5833, device='cuda:0')\n",
      "Training Epoch: 934, total loss: 39.999092\n",
      "total_test_accuracy: tensor(0.5694, device='cuda:0')\n",
      "Training Epoch: 935, total loss: 40.059193\n",
      "total_test_accuracy: tensor(0.6111, device='cuda:0')\n",
      "Training Epoch: 936, total loss: 40.131996\n",
      "total_test_accuracy: tensor(0.5833, device='cuda:0')\n",
      "Training Epoch: 937, total loss: 39.903455\n",
      "total_test_accuracy: tensor(0.5556, device='cuda:0')\n",
      "Training Epoch: 938, total loss: 40.280113\n",
      "total_test_accuracy: tensor(0.6250, device='cuda:0')\n",
      "Training Epoch: 939, total loss: 40.973527\n",
      "total_test_accuracy: tensor(0.5556, device='cuda:0')\n",
      "Training Epoch: 940, total loss: 40.613186\n",
      "total_test_accuracy: tensor(0.5694, device='cuda:0')\n",
      "Training Epoch: 941, total loss: 40.769240\n",
      "total_test_accuracy: tensor(0.6111, device='cuda:0')\n",
      "Training Epoch: 942, total loss: 40.868753\n",
      "total_test_accuracy: tensor(0.5833, device='cuda:0')\n",
      "Training Epoch: 943, total loss: 40.898181\n",
      "total_test_accuracy: tensor(0.6111, device='cuda:0')\n",
      "Training Epoch: 944, total loss: 40.666049\n",
      "total_test_accuracy: tensor(0.6111, device='cuda:0')\n",
      "Training Epoch: 945, total loss: 40.536190\n",
      "total_test_accuracy: tensor(0.5694, device='cuda:0')\n",
      "Training Epoch: 946, total loss: 39.970989\n"
     ]
    },
    {
     "name": "stdout",
     "output_type": "stream",
     "text": [
      "total_test_accuracy: tensor(0.5556, device='cuda:0')\n",
      "Training Epoch: 947, total loss: 40.128194\n",
      "total_test_accuracy: tensor(0.6389, device='cuda:0')\n",
      "Training Epoch: 948, total loss: 40.306220\n",
      "total_test_accuracy: tensor(0.5417, device='cuda:0')\n",
      "Training Epoch: 949, total loss: 40.081730\n",
      "total_test_accuracy: tensor(0.5972, device='cuda:0')\n",
      "Training Epoch: 950, total loss: 40.246496\n",
      "total_test_accuracy: tensor(0.5139, device='cuda:0')\n",
      "Training Epoch: 951, total loss: 40.419195\n",
      "total_test_accuracy: tensor(0.5694, device='cuda:0')\n",
      "Training Epoch: 952, total loss: 40.608676\n",
      "total_test_accuracy: tensor(0.6111, device='cuda:0')\n",
      "Training Epoch: 953, total loss: 40.797161\n",
      "total_test_accuracy: tensor(0.5694, device='cuda:0')\n",
      "Training Epoch: 954, total loss: 40.248320\n",
      "total_test_accuracy: tensor(0.5833, device='cuda:0')\n",
      "Training Epoch: 955, total loss: 40.546369\n",
      "total_test_accuracy: tensor(0.5694, device='cuda:0')\n",
      "Training Epoch: 956, total loss: 40.574025\n",
      "total_test_accuracy: tensor(0.5972, device='cuda:0')\n",
      "Training Epoch: 957, total loss: 40.379424\n",
      "total_test_accuracy: tensor(0.5833, device='cuda:0')\n",
      "Training Epoch: 958, total loss: 40.218989\n",
      "total_test_accuracy: tensor(0.5694, device='cuda:0')\n",
      "Training Epoch: 959, total loss: 40.862313\n",
      "total_test_accuracy: tensor(0.6111, device='cuda:0')\n",
      "Training Epoch: 960, total loss: 40.162189\n",
      "total_test_accuracy: tensor(0.5556, device='cuda:0')\n",
      "Training Epoch: 961, total loss: 40.612825\n",
      "total_test_accuracy: tensor(0.6111, device='cuda:0')\n",
      "Training Epoch: 962, total loss: 40.273083\n",
      "total_test_accuracy: tensor(0.5694, device='cuda:0')\n",
      "Training Epoch: 963, total loss: 40.912915\n",
      "total_test_accuracy: tensor(0.6250, device='cuda:0')\n",
      "Training Epoch: 964, total loss: 40.104459\n",
      "total_test_accuracy: tensor(0.5972, device='cuda:0')\n",
      "Training Epoch: 965, total loss: 40.722589\n",
      "total_test_accuracy: tensor(0.6806, device='cuda:0')\n",
      "Training Epoch: 966, total loss: 40.883410\n",
      "total_test_accuracy: tensor(0.6528, device='cuda:0')\n",
      "Training Epoch: 967, total loss: 40.533239\n",
      "total_test_accuracy: tensor(0.6250, device='cuda:0')\n",
      "Training Epoch: 968, total loss: 40.663784\n",
      "total_test_accuracy: tensor(0.5972, device='cuda:0')\n",
      "Training Epoch: 969, total loss: 40.468991\n",
      "total_test_accuracy: tensor(0.5694, device='cuda:0')\n",
      "Training Epoch: 970, total loss: 40.073938\n",
      "total_test_accuracy: tensor(0.6111, device='cuda:0')\n",
      "Training Epoch: 971, total loss: 40.489987\n",
      "total_test_accuracy: tensor(0.6389, device='cuda:0')\n",
      "Training Epoch: 972, total loss: 39.664692\n",
      "total_test_accuracy: tensor(0.5972, device='cuda:0')\n",
      "Training Epoch: 973, total loss: 39.783425\n",
      "total_test_accuracy: tensor(0.6528, device='cuda:0')\n",
      "Training Epoch: 974, total loss: 40.822971\n",
      "total_test_accuracy: tensor(0.5417, device='cuda:0')\n",
      "Training Epoch: 975, total loss: 40.922350\n",
      "total_test_accuracy: tensor(0.5972, device='cuda:0')\n",
      "Training Epoch: 976, total loss: 39.952967\n",
      "total_test_accuracy: tensor(0.5694, device='cuda:0')\n",
      "Training Epoch: 977, total loss: 40.368314\n",
      "total_test_accuracy: tensor(0.5972, device='cuda:0')\n",
      "Training Epoch: 978, total loss: 40.388635\n",
      "total_test_accuracy: tensor(0.5833, device='cuda:0')\n",
      "Training Epoch: 979, total loss: 40.162326\n",
      "total_test_accuracy: tensor(0.6111, device='cuda:0')\n",
      "Training Epoch: 980, total loss: 40.183509\n",
      "total_test_accuracy: tensor(0.6389, device='cuda:0')\n",
      "Training Epoch: 981, total loss: 40.585369\n",
      "total_test_accuracy: tensor(0.6528, device='cuda:0')\n",
      "Training Epoch: 982, total loss: 40.264120\n",
      "total_test_accuracy: tensor(0.5417, device='cuda:0')\n",
      "Training Epoch: 983, total loss: 40.659805\n",
      "total_test_accuracy: tensor(0.5694, device='cuda:0')\n",
      "Training Epoch: 984, total loss: 40.191893\n",
      "total_test_accuracy: tensor(0.6111, device='cuda:0')\n",
      "Training Epoch: 985, total loss: 39.903906\n",
      "total_test_accuracy: tensor(0.6111, device='cuda:0')\n",
      "Training Epoch: 986, total loss: 40.083274\n",
      "total_test_accuracy: tensor(0.6389, device='cuda:0')\n",
      "Training Epoch: 987, total loss: 40.270572\n",
      "total_test_accuracy: tensor(0.5833, device='cuda:0')\n",
      "Training Epoch: 988, total loss: 40.599035\n",
      "total_test_accuracy: tensor(0.6528, device='cuda:0')\n",
      "Training Epoch: 989, total loss: 39.935342\n",
      "total_test_accuracy: tensor(0.5833, device='cuda:0')\n",
      "Training Epoch: 990, total loss: 40.466939\n",
      "total_test_accuracy: tensor(0.6250, device='cuda:0')\n",
      "Training Epoch: 991, total loss: 40.630172\n",
      "total_test_accuracy: tensor(0.5694, device='cuda:0')\n",
      "Training Epoch: 992, total loss: 40.463688\n",
      "total_test_accuracy: tensor(0.5972, device='cuda:0')\n",
      "Training Epoch: 993, total loss: 40.247920\n",
      "total_test_accuracy: tensor(0.6389, device='cuda:0')\n",
      "Training Epoch: 994, total loss: 40.240046\n",
      "total_test_accuracy: tensor(0.5833, device='cuda:0')\n",
      "Training Epoch: 995, total loss: 40.223046\n",
      "total_test_accuracy: tensor(0.5556, device='cuda:0')\n",
      "Training Epoch: 996, total loss: 39.765217\n",
      "total_test_accuracy: tensor(0.5833, device='cuda:0')\n",
      "Training Epoch: 997, total loss: 39.602607\n",
      "total_test_accuracy: tensor(0.6528, device='cuda:0')\n",
      "Training Epoch: 998, total loss: 39.600271\n",
      "total_test_accuracy: tensor(0.5556, device='cuda:0')\n",
      "Training Epoch: 999, total loss: 39.777905\n"
     ]
    }
   ],
   "source": [
    "train_dataset,train_loader=prepare_dataset(nfm_config['train_data'],nfm_config['train_label'],nfm_config['batch_size'],nfm_config['n_class'])\n",
    "test_dataset,test_loader=prepare_dataset(nfm_config['test_data'],nfm_config['test_label'],nfm_config['batch_size'],nfm_config['n_class'])\n",
    "from MLP import MLP\n",
    "#from new_nfm_network import NFM\n",
    "model=MLP(4224,1000,100,9)\n",
    "#model=NFM(nfm_config)\n",
    "model.cuda()\n",
    "print(\"MLP:\",model)\n",
    "train_data(model,train_loader,test_loader,nfm_config['batch_size'],'dataset/xiaoguan/RF/RF_for_train/train_class_9/model/MLP_encode/')"
   ]
  },
  {
   "cell_type": "code",
   "execution_count": null,
   "id": "8e32ff7d",
   "metadata": {},
   "outputs": [],
   "source": [
    "train_data(model,train_loader,test_loader,nfm_config['batch_size'],'dataset/xiaoguan/RF/RF_for_train/train_class_9/model/MLP_encode/')"
   ]
  },
  {
   "cell_type": "code",
   "execution_count": 19,
   "id": "fd6622c9",
   "metadata": {},
   "outputs": [],
   "source": [
    "from torch.autograd import Variable\n",
    "from torch.utils.data import DataLoader\n",
    "from sklearn.metrics import roc_auc_score\n",
    "from new_nfm_network import NFM\n",
    "import os\n",
    "import time\n",
    "import argparse\n",
    "import numpy as np\n",
    "import pandas as pd \n",
    "\n",
    "import torch\n",
    "import torch.nn as nn\n",
    "import torch.optim as optim\n",
    "import torch.utils.data as data\n",
    "import torch.backends.cudnn as cudnn\n",
    "#3from tensorboardX import SummaryWriter\n",
    "\n",
    "#import network\n",
    "import config\n",
    "import evaluate\n",
    "import data_utils\n",
    "import Trainer\n",
    "\n",
    "\n",
    "def   train_data(model,train_loader,test_loader,batch_size,model_path):\n",
    "    \n",
    "    BATCH_SIZE=batch_size\n",
    "    optimizer = torch.optim.Adam(model.parameters(), lr=nfm_config['lr'], weight_decay=nfm_config['l2_regularization'])\n",
    "    total = 0\n",
    "    #loss_func = torch.nn.BCELoss()\n",
    "    loss_func=torch.nn.CrossEntropyLoss()\n",
    "    #loss_func=nn.MultiLabelSoftMarginLoss()\n",
    "    #loss_func=torch.nn.LogSoftmax()\n",
    "    \n",
    "    #model=nn.Softmax(nn.Linear(10149,16)).to(device)\n",
    "    # 从DataLoader中获取小批量的id以及数据\n",
    "    for epoch_id in range(1000):\n",
    "        correct=0\n",
    "        total=0\n",
    "        for batch_idx, (x, labels) in enumerate(train_loader):\n",
    "            #x = Variable(x)\n",
    "            #labels = Variable(labels)\n",
    "            #x=x.float\n",
    "            #labels=labels.float\n",
    "            #x = Variable(x)\n",
    "            #labels = Variable(labels)\n",
    "            #x = torch.tensor(x, dtype=torch.float)\n",
    "            #x=x.clone().detach().requires_grad_(True)\n",
    "            #x=torch.tensor(x,dtype=torch.float)\n",
    "            #labels=torch.tensor(labels,dtype=torch.float)\n",
    "            #x=x.clone().detach().requires_grad_(True)\n",
    "            #labels=labels.clone().detach().requires_grad_(True)\n",
    "            #labels=torch.tensor(labels,dtype=torch.float)\n",
    "            \n",
    "            #x=torch.as_tensor(x, dtype=torch.float32)\n",
    "            #x.requires_grad=True\n",
    "            #labels=torch.as_tensor(labels, dtype=torch.float32)\n",
    "            #labels.requires_grad=True\n",
    "            \n",
    "            x=x.clone().detach().float().cuda().requires_grad_(True) \n",
    "            labels=labels.clone().detach().float().cuda().requires_grad_(True) \n",
    "            #x, labels = x.cuda(), labels.cuda()\n",
    "            \n",
    "            #print(\"labels:\",labels)\n",
    "            \n",
    "            optimizer.zero_grad()\n",
    "            y_predict = model(x)\n",
    "            #print(\"y_predict:\",y_predict)\n",
    "            #loss = loss_func(y_predict.view(-1), labels)\n",
    "            loss = loss_func(y_predict, labels)\n",
    "            loss.backward()\n",
    "            optimizer.step()\n",
    "            \n",
    "            loss = loss.item()\n",
    "            #loss, predicted = self._train_single_batch(x, labels)\n",
    "\n",
    "            total += loss\n",
    "            \n",
    "            \n",
    "            \n",
    "            predicted = torch.max(y_predict.data,1)\n",
    "            #print(\"predicted:\",predicted)\n",
    "            predicted = torch.max(y_predict.data,1)[1]\n",
    "            \n",
    "            \n",
    "            labels=torch.max(labels,1)\n",
    "            #print(\"labels:\",labels)\n",
    "            labels=labels[1]\n",
    "            \n",
    "            correct += (predicted == labels).sum()\n",
    "            #print(\"correct:\",correct)\n",
    "            #correct=correct[0]\n",
    "            #print(\"new_correct:\",float(correct))\n",
    "            correct=float(correct)   \n",
    "            #if batch_idx % 10 == 0:\n",
    "            #print(\"batch_idx:\",batch_idx)\n",
    "            #print(correct/(BATCH_SIZE*(batch_idx+1)))\n",
    "            \n",
    "            \"\"\"\n",
    "            #y_predict.detach().numpy()\n",
    "            pred = y_predict\n",
    "            print(\"pred:\",pred.shape)\n",
    "            y=labels.clone().detach().requires_grad_(True)\n",
    "            print(\"y:\",y.shape)\n",
    "            #y=labels.data.cpu().numpy()\n",
    "            #y = labels.detach().numpy()\n",
    "            roc_auc_score(y, pred)\n",
    "            \"\"\"\n",
    "           \n",
    "            # print('[Training Epoch: {}] Batch: {}, Loss: {}'.format(epoch_id, batch_id, loss))\n",
    "        #print(\"Training Epoch: %d, total loss: %f\" % (epoch_id, total))\n",
    "            acturals,predictions,acc_test=evaluate_model(test_loader,model)\n",
    "        #print('acturals:',acturals)\n",
    "        #print(\"predictions:\",predictions)\n",
    "        #if epoch_id%10==0:\n",
    "            print(\"acc_test:  %d  \" %(acc_test))\n",
    "        #print(\"auc:\",roc_auc_score)\n",
    "    #功能：保存训练完的网络的各层参数（即weights和bias)\n",
    "    #path='dataset/xiaoguan/RF/RF_for_train/train_class_9/model/gene_4000_NFM.pkl'\n",
    "    \n",
    "    torch.save(model.state_dict(),model_path)"
   ]
  },
  {
   "cell_type": "code",
   "execution_count": null,
   "id": "265ddea4",
   "metadata": {},
   "outputs": [],
   "source": []
  },
  {
   "cell_type": "code",
   "execution_count": 20,
   "id": "eeb18bbe",
   "metadata": {},
   "outputs": [
    {
     "name": "stdout",
     "output_type": "stream",
     "text": [
      "FMData\n",
      "FMData\n",
      "MLP: MLP(\n",
      "  (fc1): Linear(in_features=4224, out_features=1000, bias=True)\n",
      "  (bn1): BatchNorm1d(1000, eps=1e-05, momentum=0.1, affine=True, track_running_stats=True)\n",
      "  (fc2): Linear(in_features=1000, out_features=100, bias=True)\n",
      "  (bn2): BatchNorm1d(100, eps=1e-05, momentum=0.1, affine=True, track_running_stats=True)\n",
      "  (fc3): Linear(in_features=100, out_features=9, bias=True)\n",
      "  (bn3): BatchNorm1d(9, eps=1e-05, momentum=0.1, affine=True, track_running_stats=True)\n",
      "  (drop): Dropout(p=0.5, inplace=False)\n",
      ")\n",
      "acc_test:  0  \n"
     ]
    },
    {
     "name": "stderr",
     "output_type": "stream",
     "text": [
      "/home/zhengfang/.local/lib/python3.6/site-packages/ipykernel_launcher.py:21: UserWarning: To copy construct from a tensor, it is recommended to use sourceTensor.clone().detach() or sourceTensor.clone().detach().requires_grad_(True), rather than torch.tensor(sourceTensor).\n",
      "/home/zhengfang/.local/lib/python3.6/site-packages/ipykernel_launcher.py:22: UserWarning: To copy construct from a tensor, it is recommended to use sourceTensor.clone().detach() or sourceTensor.clone().detach().requires_grad_(True), rather than torch.tensor(sourceTensor).\n"
     ]
    },
    {
     "name": "stdout",
     "output_type": "stream",
     "text": [
      "acc_test:  0  \n"
     ]
    },
    {
     "name": "stderr",
     "output_type": "stream",
     "text": [
      "/home/zhengfang/.local/lib/python3.6/site-packages/ipykernel_launcher.py:21: UserWarning: To copy construct from a tensor, it is recommended to use sourceTensor.clone().detach() or sourceTensor.clone().detach().requires_grad_(True), rather than torch.tensor(sourceTensor).\n",
      "/home/zhengfang/.local/lib/python3.6/site-packages/ipykernel_launcher.py:22: UserWarning: To copy construct from a tensor, it is recommended to use sourceTensor.clone().detach() or sourceTensor.clone().detach().requires_grad_(True), rather than torch.tensor(sourceTensor).\n"
     ]
    },
    {
     "name": "stdout",
     "output_type": "stream",
     "text": [
      "acc_test:  0  \n"
     ]
    },
    {
     "name": "stderr",
     "output_type": "stream",
     "text": [
      "/home/zhengfang/.local/lib/python3.6/site-packages/ipykernel_launcher.py:21: UserWarning: To copy construct from a tensor, it is recommended to use sourceTensor.clone().detach() or sourceTensor.clone().detach().requires_grad_(True), rather than torch.tensor(sourceTensor).\n",
      "/home/zhengfang/.local/lib/python3.6/site-packages/ipykernel_launcher.py:22: UserWarning: To copy construct from a tensor, it is recommended to use sourceTensor.clone().detach() or sourceTensor.clone().detach().requires_grad_(True), rather than torch.tensor(sourceTensor).\n"
     ]
    },
    {
     "name": "stdout",
     "output_type": "stream",
     "text": [
      "acc_test:  0  \n"
     ]
    },
    {
     "name": "stderr",
     "output_type": "stream",
     "text": [
      "/home/zhengfang/.local/lib/python3.6/site-packages/ipykernel_launcher.py:21: UserWarning: To copy construct from a tensor, it is recommended to use sourceTensor.clone().detach() or sourceTensor.clone().detach().requires_grad_(True), rather than torch.tensor(sourceTensor).\n",
      "/home/zhengfang/.local/lib/python3.6/site-packages/ipykernel_launcher.py:22: UserWarning: To copy construct from a tensor, it is recommended to use sourceTensor.clone().detach() or sourceTensor.clone().detach().requires_grad_(True), rather than torch.tensor(sourceTensor).\n"
     ]
    },
    {
     "name": "stdout",
     "output_type": "stream",
     "text": [
      "acc_test:  0  \n"
     ]
    },
    {
     "name": "stderr",
     "output_type": "stream",
     "text": [
      "/home/zhengfang/.local/lib/python3.6/site-packages/ipykernel_launcher.py:21: UserWarning: To copy construct from a tensor, it is recommended to use sourceTensor.clone().detach() or sourceTensor.clone().detach().requires_grad_(True), rather than torch.tensor(sourceTensor).\n",
      "/home/zhengfang/.local/lib/python3.6/site-packages/ipykernel_launcher.py:22: UserWarning: To copy construct from a tensor, it is recommended to use sourceTensor.clone().detach() or sourceTensor.clone().detach().requires_grad_(True), rather than torch.tensor(sourceTensor).\n"
     ]
    },
    {
     "name": "stdout",
     "output_type": "stream",
     "text": [
      "acc_test:  0  \n"
     ]
    },
    {
     "name": "stderr",
     "output_type": "stream",
     "text": [
      "/home/zhengfang/.local/lib/python3.6/site-packages/ipykernel_launcher.py:21: UserWarning: To copy construct from a tensor, it is recommended to use sourceTensor.clone().detach() or sourceTensor.clone().detach().requires_grad_(True), rather than torch.tensor(sourceTensor).\n",
      "/home/zhengfang/.local/lib/python3.6/site-packages/ipykernel_launcher.py:22: UserWarning: To copy construct from a tensor, it is recommended to use sourceTensor.clone().detach() or sourceTensor.clone().detach().requires_grad_(True), rather than torch.tensor(sourceTensor).\n"
     ]
    },
    {
     "name": "stdout",
     "output_type": "stream",
     "text": [
      "acc_test:  0  \n"
     ]
    },
    {
     "name": "stderr",
     "output_type": "stream",
     "text": [
      "/home/zhengfang/.local/lib/python3.6/site-packages/ipykernel_launcher.py:21: UserWarning: To copy construct from a tensor, it is recommended to use sourceTensor.clone().detach() or sourceTensor.clone().detach().requires_grad_(True), rather than torch.tensor(sourceTensor).\n",
      "/home/zhengfang/.local/lib/python3.6/site-packages/ipykernel_launcher.py:22: UserWarning: To copy construct from a tensor, it is recommended to use sourceTensor.clone().detach() or sourceTensor.clone().detach().requires_grad_(True), rather than torch.tensor(sourceTensor).\n"
     ]
    },
    {
     "name": "stdout",
     "output_type": "stream",
     "text": [
      "acc_test:  0  \n"
     ]
    },
    {
     "name": "stderr",
     "output_type": "stream",
     "text": [
      "/home/zhengfang/.local/lib/python3.6/site-packages/ipykernel_launcher.py:21: UserWarning: To copy construct from a tensor, it is recommended to use sourceTensor.clone().detach() or sourceTensor.clone().detach().requires_grad_(True), rather than torch.tensor(sourceTensor).\n",
      "/home/zhengfang/.local/lib/python3.6/site-packages/ipykernel_launcher.py:22: UserWarning: To copy construct from a tensor, it is recommended to use sourceTensor.clone().detach() or sourceTensor.clone().detach().requires_grad_(True), rather than torch.tensor(sourceTensor).\n"
     ]
    },
    {
     "name": "stdout",
     "output_type": "stream",
     "text": [
      "acc_test:  0  \n"
     ]
    },
    {
     "name": "stderr",
     "output_type": "stream",
     "text": [
      "/home/zhengfang/.local/lib/python3.6/site-packages/ipykernel_launcher.py:21: UserWarning: To copy construct from a tensor, it is recommended to use sourceTensor.clone().detach() or sourceTensor.clone().detach().requires_grad_(True), rather than torch.tensor(sourceTensor).\n",
      "/home/zhengfang/.local/lib/python3.6/site-packages/ipykernel_launcher.py:22: UserWarning: To copy construct from a tensor, it is recommended to use sourceTensor.clone().detach() or sourceTensor.clone().detach().requires_grad_(True), rather than torch.tensor(sourceTensor).\n"
     ]
    },
    {
     "name": "stdout",
     "output_type": "stream",
     "text": [
      "acc_test:  0  \n"
     ]
    },
    {
     "name": "stderr",
     "output_type": "stream",
     "text": [
      "/home/zhengfang/.local/lib/python3.6/site-packages/ipykernel_launcher.py:21: UserWarning: To copy construct from a tensor, it is recommended to use sourceTensor.clone().detach() or sourceTensor.clone().detach().requires_grad_(True), rather than torch.tensor(sourceTensor).\n",
      "/home/zhengfang/.local/lib/python3.6/site-packages/ipykernel_launcher.py:22: UserWarning: To copy construct from a tensor, it is recommended to use sourceTensor.clone().detach() or sourceTensor.clone().detach().requires_grad_(True), rather than torch.tensor(sourceTensor).\n"
     ]
    },
    {
     "name": "stdout",
     "output_type": "stream",
     "text": [
      "acc_test:  0  \n"
     ]
    },
    {
     "name": "stderr",
     "output_type": "stream",
     "text": [
      "/home/zhengfang/.local/lib/python3.6/site-packages/ipykernel_launcher.py:21: UserWarning: To copy construct from a tensor, it is recommended to use sourceTensor.clone().detach() or sourceTensor.clone().detach().requires_grad_(True), rather than torch.tensor(sourceTensor).\n",
      "/home/zhengfang/.local/lib/python3.6/site-packages/ipykernel_launcher.py:22: UserWarning: To copy construct from a tensor, it is recommended to use sourceTensor.clone().detach() or sourceTensor.clone().detach().requires_grad_(True), rather than torch.tensor(sourceTensor).\n"
     ]
    },
    {
     "name": "stdout",
     "output_type": "stream",
     "text": [
      "acc_test:  0  \n"
     ]
    },
    {
     "name": "stderr",
     "output_type": "stream",
     "text": [
      "/home/zhengfang/.local/lib/python3.6/site-packages/ipykernel_launcher.py:21: UserWarning: To copy construct from a tensor, it is recommended to use sourceTensor.clone().detach() or sourceTensor.clone().detach().requires_grad_(True), rather than torch.tensor(sourceTensor).\n",
      "/home/zhengfang/.local/lib/python3.6/site-packages/ipykernel_launcher.py:22: UserWarning: To copy construct from a tensor, it is recommended to use sourceTensor.clone().detach() or sourceTensor.clone().detach().requires_grad_(True), rather than torch.tensor(sourceTensor).\n"
     ]
    },
    {
     "name": "stdout",
     "output_type": "stream",
     "text": [
      "acc_test:  0  \n"
     ]
    },
    {
     "name": "stderr",
     "output_type": "stream",
     "text": [
      "/home/zhengfang/.local/lib/python3.6/site-packages/ipykernel_launcher.py:21: UserWarning: To copy construct from a tensor, it is recommended to use sourceTensor.clone().detach() or sourceTensor.clone().detach().requires_grad_(True), rather than torch.tensor(sourceTensor).\n",
      "/home/zhengfang/.local/lib/python3.6/site-packages/ipykernel_launcher.py:22: UserWarning: To copy construct from a tensor, it is recommended to use sourceTensor.clone().detach() or sourceTensor.clone().detach().requires_grad_(True), rather than torch.tensor(sourceTensor).\n"
     ]
    },
    {
     "name": "stdout",
     "output_type": "stream",
     "text": [
      "acc_test:  0  \n"
     ]
    },
    {
     "name": "stderr",
     "output_type": "stream",
     "text": [
      "/home/zhengfang/.local/lib/python3.6/site-packages/ipykernel_launcher.py:21: UserWarning: To copy construct from a tensor, it is recommended to use sourceTensor.clone().detach() or sourceTensor.clone().detach().requires_grad_(True), rather than torch.tensor(sourceTensor).\n",
      "/home/zhengfang/.local/lib/python3.6/site-packages/ipykernel_launcher.py:22: UserWarning: To copy construct from a tensor, it is recommended to use sourceTensor.clone().detach() or sourceTensor.clone().detach().requires_grad_(True), rather than torch.tensor(sourceTensor).\n"
     ]
    },
    {
     "name": "stdout",
     "output_type": "stream",
     "text": [
      "acc_test:  0  \n"
     ]
    },
    {
     "name": "stderr",
     "output_type": "stream",
     "text": [
      "/home/zhengfang/.local/lib/python3.6/site-packages/ipykernel_launcher.py:21: UserWarning: To copy construct from a tensor, it is recommended to use sourceTensor.clone().detach() or sourceTensor.clone().detach().requires_grad_(True), rather than torch.tensor(sourceTensor).\n",
      "/home/zhengfang/.local/lib/python3.6/site-packages/ipykernel_launcher.py:22: UserWarning: To copy construct from a tensor, it is recommended to use sourceTensor.clone().detach() or sourceTensor.clone().detach().requires_grad_(True), rather than torch.tensor(sourceTensor).\n"
     ]
    },
    {
     "name": "stdout",
     "output_type": "stream",
     "text": [
      "acc_test:  0  \n"
     ]
    },
    {
     "name": "stderr",
     "output_type": "stream",
     "text": [
      "/home/zhengfang/.local/lib/python3.6/site-packages/ipykernel_launcher.py:21: UserWarning: To copy construct from a tensor, it is recommended to use sourceTensor.clone().detach() or sourceTensor.clone().detach().requires_grad_(True), rather than torch.tensor(sourceTensor).\n",
      "/home/zhengfang/.local/lib/python3.6/site-packages/ipykernel_launcher.py:22: UserWarning: To copy construct from a tensor, it is recommended to use sourceTensor.clone().detach() or sourceTensor.clone().detach().requires_grad_(True), rather than torch.tensor(sourceTensor).\n"
     ]
    },
    {
     "name": "stdout",
     "output_type": "stream",
     "text": [
      "acc_test:  0  \n"
     ]
    },
    {
     "name": "stderr",
     "output_type": "stream",
     "text": [
      "/home/zhengfang/.local/lib/python3.6/site-packages/ipykernel_launcher.py:21: UserWarning: To copy construct from a tensor, it is recommended to use sourceTensor.clone().detach() or sourceTensor.clone().detach().requires_grad_(True), rather than torch.tensor(sourceTensor).\n",
      "/home/zhengfang/.local/lib/python3.6/site-packages/ipykernel_launcher.py:22: UserWarning: To copy construct from a tensor, it is recommended to use sourceTensor.clone().detach() or sourceTensor.clone().detach().requires_grad_(True), rather than torch.tensor(sourceTensor).\n"
     ]
    },
    {
     "name": "stdout",
     "output_type": "stream",
     "text": [
      "acc_test:  0  \n"
     ]
    },
    {
     "name": "stderr",
     "output_type": "stream",
     "text": [
      "/home/zhengfang/.local/lib/python3.6/site-packages/ipykernel_launcher.py:21: UserWarning: To copy construct from a tensor, it is recommended to use sourceTensor.clone().detach() or sourceTensor.clone().detach().requires_grad_(True), rather than torch.tensor(sourceTensor).\n",
      "/home/zhengfang/.local/lib/python3.6/site-packages/ipykernel_launcher.py:22: UserWarning: To copy construct from a tensor, it is recommended to use sourceTensor.clone().detach() or sourceTensor.clone().detach().requires_grad_(True), rather than torch.tensor(sourceTensor).\n"
     ]
    },
    {
     "name": "stdout",
     "output_type": "stream",
     "text": [
      "acc_test:  0  \n"
     ]
    },
    {
     "name": "stderr",
     "output_type": "stream",
     "text": [
      "/home/zhengfang/.local/lib/python3.6/site-packages/ipykernel_launcher.py:21: UserWarning: To copy construct from a tensor, it is recommended to use sourceTensor.clone().detach() or sourceTensor.clone().detach().requires_grad_(True), rather than torch.tensor(sourceTensor).\n",
      "/home/zhengfang/.local/lib/python3.6/site-packages/ipykernel_launcher.py:22: UserWarning: To copy construct from a tensor, it is recommended to use sourceTensor.clone().detach() or sourceTensor.clone().detach().requires_grad_(True), rather than torch.tensor(sourceTensor).\n"
     ]
    },
    {
     "name": "stdout",
     "output_type": "stream",
     "text": [
      "acc_test:  0  \n"
     ]
    },
    {
     "name": "stderr",
     "output_type": "stream",
     "text": [
      "/home/zhengfang/.local/lib/python3.6/site-packages/ipykernel_launcher.py:21: UserWarning: To copy construct from a tensor, it is recommended to use sourceTensor.clone().detach() or sourceTensor.clone().detach().requires_grad_(True), rather than torch.tensor(sourceTensor).\n",
      "/home/zhengfang/.local/lib/python3.6/site-packages/ipykernel_launcher.py:22: UserWarning: To copy construct from a tensor, it is recommended to use sourceTensor.clone().detach() or sourceTensor.clone().detach().requires_grad_(True), rather than torch.tensor(sourceTensor).\n"
     ]
    },
    {
     "name": "stdout",
     "output_type": "stream",
     "text": [
      "acc_test:  0  \n"
     ]
    },
    {
     "name": "stderr",
     "output_type": "stream",
     "text": [
      "/home/zhengfang/.local/lib/python3.6/site-packages/ipykernel_launcher.py:21: UserWarning: To copy construct from a tensor, it is recommended to use sourceTensor.clone().detach() or sourceTensor.clone().detach().requires_grad_(True), rather than torch.tensor(sourceTensor).\n",
      "/home/zhengfang/.local/lib/python3.6/site-packages/ipykernel_launcher.py:22: UserWarning: To copy construct from a tensor, it is recommended to use sourceTensor.clone().detach() or sourceTensor.clone().detach().requires_grad_(True), rather than torch.tensor(sourceTensor).\n"
     ]
    },
    {
     "name": "stdout",
     "output_type": "stream",
     "text": [
      "acc_test:  0  \n"
     ]
    },
    {
     "name": "stderr",
     "output_type": "stream",
     "text": [
      "/home/zhengfang/.local/lib/python3.6/site-packages/ipykernel_launcher.py:21: UserWarning: To copy construct from a tensor, it is recommended to use sourceTensor.clone().detach() or sourceTensor.clone().detach().requires_grad_(True), rather than torch.tensor(sourceTensor).\n",
      "/home/zhengfang/.local/lib/python3.6/site-packages/ipykernel_launcher.py:22: UserWarning: To copy construct from a tensor, it is recommended to use sourceTensor.clone().detach() or sourceTensor.clone().detach().requires_grad_(True), rather than torch.tensor(sourceTensor).\n"
     ]
    },
    {
     "name": "stdout",
     "output_type": "stream",
     "text": [
      "acc_test:  0  \n"
     ]
    },
    {
     "name": "stderr",
     "output_type": "stream",
     "text": [
      "/home/zhengfang/.local/lib/python3.6/site-packages/ipykernel_launcher.py:21: UserWarning: To copy construct from a tensor, it is recommended to use sourceTensor.clone().detach() or sourceTensor.clone().detach().requires_grad_(True), rather than torch.tensor(sourceTensor).\n",
      "/home/zhengfang/.local/lib/python3.6/site-packages/ipykernel_launcher.py:22: UserWarning: To copy construct from a tensor, it is recommended to use sourceTensor.clone().detach() or sourceTensor.clone().detach().requires_grad_(True), rather than torch.tensor(sourceTensor).\n"
     ]
    },
    {
     "name": "stdout",
     "output_type": "stream",
     "text": [
      "acc_test:  0  \n"
     ]
    },
    {
     "name": "stderr",
     "output_type": "stream",
     "text": [
      "/home/zhengfang/.local/lib/python3.6/site-packages/ipykernel_launcher.py:21: UserWarning: To copy construct from a tensor, it is recommended to use sourceTensor.clone().detach() or sourceTensor.clone().detach().requires_grad_(True), rather than torch.tensor(sourceTensor).\n",
      "/home/zhengfang/.local/lib/python3.6/site-packages/ipykernel_launcher.py:22: UserWarning: To copy construct from a tensor, it is recommended to use sourceTensor.clone().detach() or sourceTensor.clone().detach().requires_grad_(True), rather than torch.tensor(sourceTensor).\n"
     ]
    },
    {
     "name": "stdout",
     "output_type": "stream",
     "text": [
      "acc_test:  0  \n"
     ]
    },
    {
     "name": "stderr",
     "output_type": "stream",
     "text": [
      "/home/zhengfang/.local/lib/python3.6/site-packages/ipykernel_launcher.py:21: UserWarning: To copy construct from a tensor, it is recommended to use sourceTensor.clone().detach() or sourceTensor.clone().detach().requires_grad_(True), rather than torch.tensor(sourceTensor).\n",
      "/home/zhengfang/.local/lib/python3.6/site-packages/ipykernel_launcher.py:22: UserWarning: To copy construct from a tensor, it is recommended to use sourceTensor.clone().detach() or sourceTensor.clone().detach().requires_grad_(True), rather than torch.tensor(sourceTensor).\n"
     ]
    },
    {
     "name": "stdout",
     "output_type": "stream",
     "text": [
      "acc_test:  0  \n"
     ]
    },
    {
     "name": "stderr",
     "output_type": "stream",
     "text": [
      "/home/zhengfang/.local/lib/python3.6/site-packages/ipykernel_launcher.py:21: UserWarning: To copy construct from a tensor, it is recommended to use sourceTensor.clone().detach() or sourceTensor.clone().detach().requires_grad_(True), rather than torch.tensor(sourceTensor).\n",
      "/home/zhengfang/.local/lib/python3.6/site-packages/ipykernel_launcher.py:22: UserWarning: To copy construct from a tensor, it is recommended to use sourceTensor.clone().detach() or sourceTensor.clone().detach().requires_grad_(True), rather than torch.tensor(sourceTensor).\n"
     ]
    },
    {
     "name": "stdout",
     "output_type": "stream",
     "text": [
      "acc_test:  0  \n"
     ]
    },
    {
     "name": "stderr",
     "output_type": "stream",
     "text": [
      "/home/zhengfang/.local/lib/python3.6/site-packages/ipykernel_launcher.py:21: UserWarning: To copy construct from a tensor, it is recommended to use sourceTensor.clone().detach() or sourceTensor.clone().detach().requires_grad_(True), rather than torch.tensor(sourceTensor).\n",
      "/home/zhengfang/.local/lib/python3.6/site-packages/ipykernel_launcher.py:22: UserWarning: To copy construct from a tensor, it is recommended to use sourceTensor.clone().detach() or sourceTensor.clone().detach().requires_grad_(True), rather than torch.tensor(sourceTensor).\n"
     ]
    },
    {
     "name": "stdout",
     "output_type": "stream",
     "text": [
      "acc_test:  0  \n"
     ]
    },
    {
     "name": "stderr",
     "output_type": "stream",
     "text": [
      "/home/zhengfang/.local/lib/python3.6/site-packages/ipykernel_launcher.py:21: UserWarning: To copy construct from a tensor, it is recommended to use sourceTensor.clone().detach() or sourceTensor.clone().detach().requires_grad_(True), rather than torch.tensor(sourceTensor).\n",
      "/home/zhengfang/.local/lib/python3.6/site-packages/ipykernel_launcher.py:22: UserWarning: To copy construct from a tensor, it is recommended to use sourceTensor.clone().detach() or sourceTensor.clone().detach().requires_grad_(True), rather than torch.tensor(sourceTensor).\n"
     ]
    },
    {
     "name": "stdout",
     "output_type": "stream",
     "text": [
      "acc_test:  0  \n"
     ]
    },
    {
     "name": "stderr",
     "output_type": "stream",
     "text": [
      "/home/zhengfang/.local/lib/python3.6/site-packages/ipykernel_launcher.py:21: UserWarning: To copy construct from a tensor, it is recommended to use sourceTensor.clone().detach() or sourceTensor.clone().detach().requires_grad_(True), rather than torch.tensor(sourceTensor).\n",
      "/home/zhengfang/.local/lib/python3.6/site-packages/ipykernel_launcher.py:22: UserWarning: To copy construct from a tensor, it is recommended to use sourceTensor.clone().detach() or sourceTensor.clone().detach().requires_grad_(True), rather than torch.tensor(sourceTensor).\n"
     ]
    },
    {
     "name": "stdout",
     "output_type": "stream",
     "text": [
      "acc_test:  0  \n"
     ]
    },
    {
     "name": "stderr",
     "output_type": "stream",
     "text": [
      "/home/zhengfang/.local/lib/python3.6/site-packages/ipykernel_launcher.py:21: UserWarning: To copy construct from a tensor, it is recommended to use sourceTensor.clone().detach() or sourceTensor.clone().detach().requires_grad_(True), rather than torch.tensor(sourceTensor).\n",
      "/home/zhengfang/.local/lib/python3.6/site-packages/ipykernel_launcher.py:22: UserWarning: To copy construct from a tensor, it is recommended to use sourceTensor.clone().detach() or sourceTensor.clone().detach().requires_grad_(True), rather than torch.tensor(sourceTensor).\n"
     ]
    },
    {
     "name": "stdout",
     "output_type": "stream",
     "text": [
      "acc_test:  0  \n"
     ]
    },
    {
     "name": "stderr",
     "output_type": "stream",
     "text": [
      "/home/zhengfang/.local/lib/python3.6/site-packages/ipykernel_launcher.py:21: UserWarning: To copy construct from a tensor, it is recommended to use sourceTensor.clone().detach() or sourceTensor.clone().detach().requires_grad_(True), rather than torch.tensor(sourceTensor).\n",
      "/home/zhengfang/.local/lib/python3.6/site-packages/ipykernel_launcher.py:22: UserWarning: To copy construct from a tensor, it is recommended to use sourceTensor.clone().detach() or sourceTensor.clone().detach().requires_grad_(True), rather than torch.tensor(sourceTensor).\n"
     ]
    },
    {
     "name": "stdout",
     "output_type": "stream",
     "text": [
      "acc_test:  0  \n"
     ]
    },
    {
     "name": "stderr",
     "output_type": "stream",
     "text": [
      "/home/zhengfang/.local/lib/python3.6/site-packages/ipykernel_launcher.py:21: UserWarning: To copy construct from a tensor, it is recommended to use sourceTensor.clone().detach() or sourceTensor.clone().detach().requires_grad_(True), rather than torch.tensor(sourceTensor).\n",
      "/home/zhengfang/.local/lib/python3.6/site-packages/ipykernel_launcher.py:22: UserWarning: To copy construct from a tensor, it is recommended to use sourceTensor.clone().detach() or sourceTensor.clone().detach().requires_grad_(True), rather than torch.tensor(sourceTensor).\n"
     ]
    },
    {
     "name": "stdout",
     "output_type": "stream",
     "text": [
      "acc_test:  0  \n"
     ]
    },
    {
     "name": "stderr",
     "output_type": "stream",
     "text": [
      "/home/zhengfang/.local/lib/python3.6/site-packages/ipykernel_launcher.py:21: UserWarning: To copy construct from a tensor, it is recommended to use sourceTensor.clone().detach() or sourceTensor.clone().detach().requires_grad_(True), rather than torch.tensor(sourceTensor).\n",
      "/home/zhengfang/.local/lib/python3.6/site-packages/ipykernel_launcher.py:22: UserWarning: To copy construct from a tensor, it is recommended to use sourceTensor.clone().detach() or sourceTensor.clone().detach().requires_grad_(True), rather than torch.tensor(sourceTensor).\n"
     ]
    },
    {
     "name": "stdout",
     "output_type": "stream",
     "text": [
      "acc_test:  0  \n"
     ]
    },
    {
     "name": "stderr",
     "output_type": "stream",
     "text": [
      "/home/zhengfang/.local/lib/python3.6/site-packages/ipykernel_launcher.py:21: UserWarning: To copy construct from a tensor, it is recommended to use sourceTensor.clone().detach() or sourceTensor.clone().detach().requires_grad_(True), rather than torch.tensor(sourceTensor).\n",
      "/home/zhengfang/.local/lib/python3.6/site-packages/ipykernel_launcher.py:22: UserWarning: To copy construct from a tensor, it is recommended to use sourceTensor.clone().detach() or sourceTensor.clone().detach().requires_grad_(True), rather than torch.tensor(sourceTensor).\n"
     ]
    },
    {
     "name": "stdout",
     "output_type": "stream",
     "text": [
      "acc_test:  0  \n"
     ]
    },
    {
     "name": "stderr",
     "output_type": "stream",
     "text": [
      "/home/zhengfang/.local/lib/python3.6/site-packages/ipykernel_launcher.py:21: UserWarning: To copy construct from a tensor, it is recommended to use sourceTensor.clone().detach() or sourceTensor.clone().detach().requires_grad_(True), rather than torch.tensor(sourceTensor).\n",
      "/home/zhengfang/.local/lib/python3.6/site-packages/ipykernel_launcher.py:22: UserWarning: To copy construct from a tensor, it is recommended to use sourceTensor.clone().detach() or sourceTensor.clone().detach().requires_grad_(True), rather than torch.tensor(sourceTensor).\n"
     ]
    },
    {
     "name": "stdout",
     "output_type": "stream",
     "text": [
      "acc_test:  0  \n"
     ]
    },
    {
     "name": "stderr",
     "output_type": "stream",
     "text": [
      "/home/zhengfang/.local/lib/python3.6/site-packages/ipykernel_launcher.py:21: UserWarning: To copy construct from a tensor, it is recommended to use sourceTensor.clone().detach() or sourceTensor.clone().detach().requires_grad_(True), rather than torch.tensor(sourceTensor).\n",
      "/home/zhengfang/.local/lib/python3.6/site-packages/ipykernel_launcher.py:22: UserWarning: To copy construct from a tensor, it is recommended to use sourceTensor.clone().detach() or sourceTensor.clone().detach().requires_grad_(True), rather than torch.tensor(sourceTensor).\n"
     ]
    },
    {
     "name": "stdout",
     "output_type": "stream",
     "text": [
      "acc_test:  0  \n"
     ]
    },
    {
     "name": "stderr",
     "output_type": "stream",
     "text": [
      "/home/zhengfang/.local/lib/python3.6/site-packages/ipykernel_launcher.py:21: UserWarning: To copy construct from a tensor, it is recommended to use sourceTensor.clone().detach() or sourceTensor.clone().detach().requires_grad_(True), rather than torch.tensor(sourceTensor).\n",
      "/home/zhengfang/.local/lib/python3.6/site-packages/ipykernel_launcher.py:22: UserWarning: To copy construct from a tensor, it is recommended to use sourceTensor.clone().detach() or sourceTensor.clone().detach().requires_grad_(True), rather than torch.tensor(sourceTensor).\n"
     ]
    },
    {
     "name": "stdout",
     "output_type": "stream",
     "text": [
      "acc_test:  0  \n"
     ]
    },
    {
     "name": "stderr",
     "output_type": "stream",
     "text": [
      "/home/zhengfang/.local/lib/python3.6/site-packages/ipykernel_launcher.py:21: UserWarning: To copy construct from a tensor, it is recommended to use sourceTensor.clone().detach() or sourceTensor.clone().detach().requires_grad_(True), rather than torch.tensor(sourceTensor).\n",
      "/home/zhengfang/.local/lib/python3.6/site-packages/ipykernel_launcher.py:22: UserWarning: To copy construct from a tensor, it is recommended to use sourceTensor.clone().detach() or sourceTensor.clone().detach().requires_grad_(True), rather than torch.tensor(sourceTensor).\n"
     ]
    },
    {
     "name": "stdout",
     "output_type": "stream",
     "text": [
      "acc_test:  0  \n"
     ]
    },
    {
     "name": "stderr",
     "output_type": "stream",
     "text": [
      "/home/zhengfang/.local/lib/python3.6/site-packages/ipykernel_launcher.py:21: UserWarning: To copy construct from a tensor, it is recommended to use sourceTensor.clone().detach() or sourceTensor.clone().detach().requires_grad_(True), rather than torch.tensor(sourceTensor).\n",
      "/home/zhengfang/.local/lib/python3.6/site-packages/ipykernel_launcher.py:22: UserWarning: To copy construct from a tensor, it is recommended to use sourceTensor.clone().detach() or sourceTensor.clone().detach().requires_grad_(True), rather than torch.tensor(sourceTensor).\n"
     ]
    },
    {
     "name": "stdout",
     "output_type": "stream",
     "text": [
      "acc_test:  0  \n"
     ]
    },
    {
     "name": "stderr",
     "output_type": "stream",
     "text": [
      "/home/zhengfang/.local/lib/python3.6/site-packages/ipykernel_launcher.py:21: UserWarning: To copy construct from a tensor, it is recommended to use sourceTensor.clone().detach() or sourceTensor.clone().detach().requires_grad_(True), rather than torch.tensor(sourceTensor).\n",
      "/home/zhengfang/.local/lib/python3.6/site-packages/ipykernel_launcher.py:22: UserWarning: To copy construct from a tensor, it is recommended to use sourceTensor.clone().detach() or sourceTensor.clone().detach().requires_grad_(True), rather than torch.tensor(sourceTensor).\n"
     ]
    },
    {
     "name": "stdout",
     "output_type": "stream",
     "text": [
      "acc_test:  0  \n"
     ]
    },
    {
     "name": "stderr",
     "output_type": "stream",
     "text": [
      "/home/zhengfang/.local/lib/python3.6/site-packages/ipykernel_launcher.py:21: UserWarning: To copy construct from a tensor, it is recommended to use sourceTensor.clone().detach() or sourceTensor.clone().detach().requires_grad_(True), rather than torch.tensor(sourceTensor).\n",
      "/home/zhengfang/.local/lib/python3.6/site-packages/ipykernel_launcher.py:22: UserWarning: To copy construct from a tensor, it is recommended to use sourceTensor.clone().detach() or sourceTensor.clone().detach().requires_grad_(True), rather than torch.tensor(sourceTensor).\n"
     ]
    },
    {
     "name": "stdout",
     "output_type": "stream",
     "text": [
      "acc_test:  0  \n"
     ]
    },
    {
     "name": "stderr",
     "output_type": "stream",
     "text": [
      "/home/zhengfang/.local/lib/python3.6/site-packages/ipykernel_launcher.py:21: UserWarning: To copy construct from a tensor, it is recommended to use sourceTensor.clone().detach() or sourceTensor.clone().detach().requires_grad_(True), rather than torch.tensor(sourceTensor).\n",
      "/home/zhengfang/.local/lib/python3.6/site-packages/ipykernel_launcher.py:22: UserWarning: To copy construct from a tensor, it is recommended to use sourceTensor.clone().detach() or sourceTensor.clone().detach().requires_grad_(True), rather than torch.tensor(sourceTensor).\n"
     ]
    },
    {
     "name": "stdout",
     "output_type": "stream",
     "text": [
      "acc_test:  0  \n"
     ]
    },
    {
     "name": "stderr",
     "output_type": "stream",
     "text": [
      "/home/zhengfang/.local/lib/python3.6/site-packages/ipykernel_launcher.py:21: UserWarning: To copy construct from a tensor, it is recommended to use sourceTensor.clone().detach() or sourceTensor.clone().detach().requires_grad_(True), rather than torch.tensor(sourceTensor).\n",
      "/home/zhengfang/.local/lib/python3.6/site-packages/ipykernel_launcher.py:22: UserWarning: To copy construct from a tensor, it is recommended to use sourceTensor.clone().detach() or sourceTensor.clone().detach().requires_grad_(True), rather than torch.tensor(sourceTensor).\n"
     ]
    },
    {
     "name": "stdout",
     "output_type": "stream",
     "text": [
      "acc_test:  0  \n"
     ]
    },
    {
     "name": "stderr",
     "output_type": "stream",
     "text": [
      "/home/zhengfang/.local/lib/python3.6/site-packages/ipykernel_launcher.py:21: UserWarning: To copy construct from a tensor, it is recommended to use sourceTensor.clone().detach() or sourceTensor.clone().detach().requires_grad_(True), rather than torch.tensor(sourceTensor).\n",
      "/home/zhengfang/.local/lib/python3.6/site-packages/ipykernel_launcher.py:22: UserWarning: To copy construct from a tensor, it is recommended to use sourceTensor.clone().detach() or sourceTensor.clone().detach().requires_grad_(True), rather than torch.tensor(sourceTensor).\n"
     ]
    },
    {
     "name": "stdout",
     "output_type": "stream",
     "text": [
      "acc_test:  0  \n"
     ]
    },
    {
     "name": "stderr",
     "output_type": "stream",
     "text": [
      "/home/zhengfang/.local/lib/python3.6/site-packages/ipykernel_launcher.py:21: UserWarning: To copy construct from a tensor, it is recommended to use sourceTensor.clone().detach() or sourceTensor.clone().detach().requires_grad_(True), rather than torch.tensor(sourceTensor).\n",
      "/home/zhengfang/.local/lib/python3.6/site-packages/ipykernel_launcher.py:22: UserWarning: To copy construct from a tensor, it is recommended to use sourceTensor.clone().detach() or sourceTensor.clone().detach().requires_grad_(True), rather than torch.tensor(sourceTensor).\n"
     ]
    },
    {
     "name": "stdout",
     "output_type": "stream",
     "text": [
      "acc_test:  0  \n"
     ]
    },
    {
     "name": "stderr",
     "output_type": "stream",
     "text": [
      "/home/zhengfang/.local/lib/python3.6/site-packages/ipykernel_launcher.py:21: UserWarning: To copy construct from a tensor, it is recommended to use sourceTensor.clone().detach() or sourceTensor.clone().detach().requires_grad_(True), rather than torch.tensor(sourceTensor).\n",
      "/home/zhengfang/.local/lib/python3.6/site-packages/ipykernel_launcher.py:22: UserWarning: To copy construct from a tensor, it is recommended to use sourceTensor.clone().detach() or sourceTensor.clone().detach().requires_grad_(True), rather than torch.tensor(sourceTensor).\n"
     ]
    },
    {
     "name": "stdout",
     "output_type": "stream",
     "text": [
      "acc_test:  0  \n"
     ]
    },
    {
     "name": "stderr",
     "output_type": "stream",
     "text": [
      "/home/zhengfang/.local/lib/python3.6/site-packages/ipykernel_launcher.py:21: UserWarning: To copy construct from a tensor, it is recommended to use sourceTensor.clone().detach() or sourceTensor.clone().detach().requires_grad_(True), rather than torch.tensor(sourceTensor).\n",
      "/home/zhengfang/.local/lib/python3.6/site-packages/ipykernel_launcher.py:22: UserWarning: To copy construct from a tensor, it is recommended to use sourceTensor.clone().detach() or sourceTensor.clone().detach().requires_grad_(True), rather than torch.tensor(sourceTensor).\n"
     ]
    },
    {
     "name": "stdout",
     "output_type": "stream",
     "text": [
      "acc_test:  0  \n"
     ]
    },
    {
     "name": "stderr",
     "output_type": "stream",
     "text": [
      "/home/zhengfang/.local/lib/python3.6/site-packages/ipykernel_launcher.py:21: UserWarning: To copy construct from a tensor, it is recommended to use sourceTensor.clone().detach() or sourceTensor.clone().detach().requires_grad_(True), rather than torch.tensor(sourceTensor).\n",
      "/home/zhengfang/.local/lib/python3.6/site-packages/ipykernel_launcher.py:22: UserWarning: To copy construct from a tensor, it is recommended to use sourceTensor.clone().detach() or sourceTensor.clone().detach().requires_grad_(True), rather than torch.tensor(sourceTensor).\n"
     ]
    },
    {
     "name": "stdout",
     "output_type": "stream",
     "text": [
      "acc_test:  0  \n"
     ]
    },
    {
     "name": "stderr",
     "output_type": "stream",
     "text": [
      "/home/zhengfang/.local/lib/python3.6/site-packages/ipykernel_launcher.py:21: UserWarning: To copy construct from a tensor, it is recommended to use sourceTensor.clone().detach() or sourceTensor.clone().detach().requires_grad_(True), rather than torch.tensor(sourceTensor).\n",
      "/home/zhengfang/.local/lib/python3.6/site-packages/ipykernel_launcher.py:22: UserWarning: To copy construct from a tensor, it is recommended to use sourceTensor.clone().detach() or sourceTensor.clone().detach().requires_grad_(True), rather than torch.tensor(sourceTensor).\n"
     ]
    },
    {
     "name": "stdout",
     "output_type": "stream",
     "text": [
      "acc_test:  0  \n"
     ]
    },
    {
     "name": "stderr",
     "output_type": "stream",
     "text": [
      "/home/zhengfang/.local/lib/python3.6/site-packages/ipykernel_launcher.py:21: UserWarning: To copy construct from a tensor, it is recommended to use sourceTensor.clone().detach() or sourceTensor.clone().detach().requires_grad_(True), rather than torch.tensor(sourceTensor).\n",
      "/home/zhengfang/.local/lib/python3.6/site-packages/ipykernel_launcher.py:22: UserWarning: To copy construct from a tensor, it is recommended to use sourceTensor.clone().detach() or sourceTensor.clone().detach().requires_grad_(True), rather than torch.tensor(sourceTensor).\n"
     ]
    },
    {
     "name": "stdout",
     "output_type": "stream",
     "text": [
      "acc_test:  0  \n"
     ]
    },
    {
     "name": "stderr",
     "output_type": "stream",
     "text": [
      "/home/zhengfang/.local/lib/python3.6/site-packages/ipykernel_launcher.py:21: UserWarning: To copy construct from a tensor, it is recommended to use sourceTensor.clone().detach() or sourceTensor.clone().detach().requires_grad_(True), rather than torch.tensor(sourceTensor).\n",
      "/home/zhengfang/.local/lib/python3.6/site-packages/ipykernel_launcher.py:22: UserWarning: To copy construct from a tensor, it is recommended to use sourceTensor.clone().detach() or sourceTensor.clone().detach().requires_grad_(True), rather than torch.tensor(sourceTensor).\n"
     ]
    },
    {
     "name": "stdout",
     "output_type": "stream",
     "text": [
      "acc_test:  0  \n"
     ]
    },
    {
     "name": "stderr",
     "output_type": "stream",
     "text": [
      "/home/zhengfang/.local/lib/python3.6/site-packages/ipykernel_launcher.py:21: UserWarning: To copy construct from a tensor, it is recommended to use sourceTensor.clone().detach() or sourceTensor.clone().detach().requires_grad_(True), rather than torch.tensor(sourceTensor).\n",
      "/home/zhengfang/.local/lib/python3.6/site-packages/ipykernel_launcher.py:22: UserWarning: To copy construct from a tensor, it is recommended to use sourceTensor.clone().detach() or sourceTensor.clone().detach().requires_grad_(True), rather than torch.tensor(sourceTensor).\n"
     ]
    },
    {
     "name": "stdout",
     "output_type": "stream",
     "text": [
      "acc_test:  0  \n"
     ]
    },
    {
     "name": "stderr",
     "output_type": "stream",
     "text": [
      "/home/zhengfang/.local/lib/python3.6/site-packages/ipykernel_launcher.py:21: UserWarning: To copy construct from a tensor, it is recommended to use sourceTensor.clone().detach() or sourceTensor.clone().detach().requires_grad_(True), rather than torch.tensor(sourceTensor).\n",
      "/home/zhengfang/.local/lib/python3.6/site-packages/ipykernel_launcher.py:22: UserWarning: To copy construct from a tensor, it is recommended to use sourceTensor.clone().detach() or sourceTensor.clone().detach().requires_grad_(True), rather than torch.tensor(sourceTensor).\n"
     ]
    },
    {
     "name": "stdout",
     "output_type": "stream",
     "text": [
      "acc_test:  0  \n"
     ]
    },
    {
     "name": "stderr",
     "output_type": "stream",
     "text": [
      "/home/zhengfang/.local/lib/python3.6/site-packages/ipykernel_launcher.py:21: UserWarning: To copy construct from a tensor, it is recommended to use sourceTensor.clone().detach() or sourceTensor.clone().detach().requires_grad_(True), rather than torch.tensor(sourceTensor).\n",
      "/home/zhengfang/.local/lib/python3.6/site-packages/ipykernel_launcher.py:22: UserWarning: To copy construct from a tensor, it is recommended to use sourceTensor.clone().detach() or sourceTensor.clone().detach().requires_grad_(True), rather than torch.tensor(sourceTensor).\n"
     ]
    },
    {
     "name": "stdout",
     "output_type": "stream",
     "text": [
      "acc_test:  0  \n"
     ]
    },
    {
     "name": "stderr",
     "output_type": "stream",
     "text": [
      "/home/zhengfang/.local/lib/python3.6/site-packages/ipykernel_launcher.py:21: UserWarning: To copy construct from a tensor, it is recommended to use sourceTensor.clone().detach() or sourceTensor.clone().detach().requires_grad_(True), rather than torch.tensor(sourceTensor).\n",
      "/home/zhengfang/.local/lib/python3.6/site-packages/ipykernel_launcher.py:22: UserWarning: To copy construct from a tensor, it is recommended to use sourceTensor.clone().detach() or sourceTensor.clone().detach().requires_grad_(True), rather than torch.tensor(sourceTensor).\n"
     ]
    },
    {
     "name": "stdout",
     "output_type": "stream",
     "text": [
      "acc_test:  0  \n"
     ]
    },
    {
     "name": "stderr",
     "output_type": "stream",
     "text": [
      "/home/zhengfang/.local/lib/python3.6/site-packages/ipykernel_launcher.py:21: UserWarning: To copy construct from a tensor, it is recommended to use sourceTensor.clone().detach() or sourceTensor.clone().detach().requires_grad_(True), rather than torch.tensor(sourceTensor).\n",
      "/home/zhengfang/.local/lib/python3.6/site-packages/ipykernel_launcher.py:22: UserWarning: To copy construct from a tensor, it is recommended to use sourceTensor.clone().detach() or sourceTensor.clone().detach().requires_grad_(True), rather than torch.tensor(sourceTensor).\n"
     ]
    },
    {
     "name": "stdout",
     "output_type": "stream",
     "text": [
      "acc_test:  0  \n"
     ]
    },
    {
     "name": "stderr",
     "output_type": "stream",
     "text": [
      "/home/zhengfang/.local/lib/python3.6/site-packages/ipykernel_launcher.py:21: UserWarning: To copy construct from a tensor, it is recommended to use sourceTensor.clone().detach() or sourceTensor.clone().detach().requires_grad_(True), rather than torch.tensor(sourceTensor).\n",
      "/home/zhengfang/.local/lib/python3.6/site-packages/ipykernel_launcher.py:22: UserWarning: To copy construct from a tensor, it is recommended to use sourceTensor.clone().detach() or sourceTensor.clone().detach().requires_grad_(True), rather than torch.tensor(sourceTensor).\n"
     ]
    },
    {
     "name": "stdout",
     "output_type": "stream",
     "text": [
      "acc_test:  0  \n"
     ]
    },
    {
     "name": "stderr",
     "output_type": "stream",
     "text": [
      "/home/zhengfang/.local/lib/python3.6/site-packages/ipykernel_launcher.py:21: UserWarning: To copy construct from a tensor, it is recommended to use sourceTensor.clone().detach() or sourceTensor.clone().detach().requires_grad_(True), rather than torch.tensor(sourceTensor).\n",
      "/home/zhengfang/.local/lib/python3.6/site-packages/ipykernel_launcher.py:22: UserWarning: To copy construct from a tensor, it is recommended to use sourceTensor.clone().detach() or sourceTensor.clone().detach().requires_grad_(True), rather than torch.tensor(sourceTensor).\n"
     ]
    },
    {
     "name": "stdout",
     "output_type": "stream",
     "text": [
      "acc_test:  0  \n"
     ]
    },
    {
     "name": "stderr",
     "output_type": "stream",
     "text": [
      "/home/zhengfang/.local/lib/python3.6/site-packages/ipykernel_launcher.py:21: UserWarning: To copy construct from a tensor, it is recommended to use sourceTensor.clone().detach() or sourceTensor.clone().detach().requires_grad_(True), rather than torch.tensor(sourceTensor).\n",
      "/home/zhengfang/.local/lib/python3.6/site-packages/ipykernel_launcher.py:22: UserWarning: To copy construct from a tensor, it is recommended to use sourceTensor.clone().detach() or sourceTensor.clone().detach().requires_grad_(True), rather than torch.tensor(sourceTensor).\n"
     ]
    },
    {
     "name": "stdout",
     "output_type": "stream",
     "text": [
      "acc_test:  0  \n"
     ]
    },
    {
     "name": "stderr",
     "output_type": "stream",
     "text": [
      "/home/zhengfang/.local/lib/python3.6/site-packages/ipykernel_launcher.py:21: UserWarning: To copy construct from a tensor, it is recommended to use sourceTensor.clone().detach() or sourceTensor.clone().detach().requires_grad_(True), rather than torch.tensor(sourceTensor).\n",
      "/home/zhengfang/.local/lib/python3.6/site-packages/ipykernel_launcher.py:22: UserWarning: To copy construct from a tensor, it is recommended to use sourceTensor.clone().detach() or sourceTensor.clone().detach().requires_grad_(True), rather than torch.tensor(sourceTensor).\n"
     ]
    },
    {
     "name": "stdout",
     "output_type": "stream",
     "text": [
      "acc_test:  0  \n"
     ]
    },
    {
     "name": "stderr",
     "output_type": "stream",
     "text": [
      "/home/zhengfang/.local/lib/python3.6/site-packages/ipykernel_launcher.py:21: UserWarning: To copy construct from a tensor, it is recommended to use sourceTensor.clone().detach() or sourceTensor.clone().detach().requires_grad_(True), rather than torch.tensor(sourceTensor).\n",
      "/home/zhengfang/.local/lib/python3.6/site-packages/ipykernel_launcher.py:22: UserWarning: To copy construct from a tensor, it is recommended to use sourceTensor.clone().detach() or sourceTensor.clone().detach().requires_grad_(True), rather than torch.tensor(sourceTensor).\n"
     ]
    },
    {
     "name": "stdout",
     "output_type": "stream",
     "text": [
      "acc_test:  0  \n"
     ]
    },
    {
     "name": "stderr",
     "output_type": "stream",
     "text": [
      "/home/zhengfang/.local/lib/python3.6/site-packages/ipykernel_launcher.py:21: UserWarning: To copy construct from a tensor, it is recommended to use sourceTensor.clone().detach() or sourceTensor.clone().detach().requires_grad_(True), rather than torch.tensor(sourceTensor).\n",
      "/home/zhengfang/.local/lib/python3.6/site-packages/ipykernel_launcher.py:22: UserWarning: To copy construct from a tensor, it is recommended to use sourceTensor.clone().detach() or sourceTensor.clone().detach().requires_grad_(True), rather than torch.tensor(sourceTensor).\n"
     ]
    },
    {
     "name": "stdout",
     "output_type": "stream",
     "text": [
      "acc_test:  0  \n"
     ]
    },
    {
     "name": "stderr",
     "output_type": "stream",
     "text": [
      "/home/zhengfang/.local/lib/python3.6/site-packages/ipykernel_launcher.py:21: UserWarning: To copy construct from a tensor, it is recommended to use sourceTensor.clone().detach() or sourceTensor.clone().detach().requires_grad_(True), rather than torch.tensor(sourceTensor).\n",
      "/home/zhengfang/.local/lib/python3.6/site-packages/ipykernel_launcher.py:22: UserWarning: To copy construct from a tensor, it is recommended to use sourceTensor.clone().detach() or sourceTensor.clone().detach().requires_grad_(True), rather than torch.tensor(sourceTensor).\n"
     ]
    },
    {
     "name": "stdout",
     "output_type": "stream",
     "text": [
      "acc_test:  0  \n"
     ]
    },
    {
     "name": "stderr",
     "output_type": "stream",
     "text": [
      "/home/zhengfang/.local/lib/python3.6/site-packages/ipykernel_launcher.py:21: UserWarning: To copy construct from a tensor, it is recommended to use sourceTensor.clone().detach() or sourceTensor.clone().detach().requires_grad_(True), rather than torch.tensor(sourceTensor).\n",
      "/home/zhengfang/.local/lib/python3.6/site-packages/ipykernel_launcher.py:22: UserWarning: To copy construct from a tensor, it is recommended to use sourceTensor.clone().detach() or sourceTensor.clone().detach().requires_grad_(True), rather than torch.tensor(sourceTensor).\n"
     ]
    },
    {
     "name": "stdout",
     "output_type": "stream",
     "text": [
      "acc_test:  0  \n"
     ]
    },
    {
     "name": "stderr",
     "output_type": "stream",
     "text": [
      "/home/zhengfang/.local/lib/python3.6/site-packages/ipykernel_launcher.py:21: UserWarning: To copy construct from a tensor, it is recommended to use sourceTensor.clone().detach() or sourceTensor.clone().detach().requires_grad_(True), rather than torch.tensor(sourceTensor).\n",
      "/home/zhengfang/.local/lib/python3.6/site-packages/ipykernel_launcher.py:22: UserWarning: To copy construct from a tensor, it is recommended to use sourceTensor.clone().detach() or sourceTensor.clone().detach().requires_grad_(True), rather than torch.tensor(sourceTensor).\n"
     ]
    },
    {
     "name": "stdout",
     "output_type": "stream",
     "text": [
      "acc_test:  0  \n"
     ]
    },
    {
     "name": "stderr",
     "output_type": "stream",
     "text": [
      "/home/zhengfang/.local/lib/python3.6/site-packages/ipykernel_launcher.py:21: UserWarning: To copy construct from a tensor, it is recommended to use sourceTensor.clone().detach() or sourceTensor.clone().detach().requires_grad_(True), rather than torch.tensor(sourceTensor).\n",
      "/home/zhengfang/.local/lib/python3.6/site-packages/ipykernel_launcher.py:22: UserWarning: To copy construct from a tensor, it is recommended to use sourceTensor.clone().detach() or sourceTensor.clone().detach().requires_grad_(True), rather than torch.tensor(sourceTensor).\n"
     ]
    },
    {
     "name": "stdout",
     "output_type": "stream",
     "text": [
      "acc_test:  0  \n"
     ]
    },
    {
     "name": "stderr",
     "output_type": "stream",
     "text": [
      "/home/zhengfang/.local/lib/python3.6/site-packages/ipykernel_launcher.py:21: UserWarning: To copy construct from a tensor, it is recommended to use sourceTensor.clone().detach() or sourceTensor.clone().detach().requires_grad_(True), rather than torch.tensor(sourceTensor).\n",
      "/home/zhengfang/.local/lib/python3.6/site-packages/ipykernel_launcher.py:22: UserWarning: To copy construct from a tensor, it is recommended to use sourceTensor.clone().detach() or sourceTensor.clone().detach().requires_grad_(True), rather than torch.tensor(sourceTensor).\n"
     ]
    },
    {
     "name": "stdout",
     "output_type": "stream",
     "text": [
      "acc_test:  0  \n"
     ]
    },
    {
     "name": "stderr",
     "output_type": "stream",
     "text": [
      "/home/zhengfang/.local/lib/python3.6/site-packages/ipykernel_launcher.py:21: UserWarning: To copy construct from a tensor, it is recommended to use sourceTensor.clone().detach() or sourceTensor.clone().detach().requires_grad_(True), rather than torch.tensor(sourceTensor).\n",
      "/home/zhengfang/.local/lib/python3.6/site-packages/ipykernel_launcher.py:22: UserWarning: To copy construct from a tensor, it is recommended to use sourceTensor.clone().detach() or sourceTensor.clone().detach().requires_grad_(True), rather than torch.tensor(sourceTensor).\n"
     ]
    },
    {
     "name": "stdout",
     "output_type": "stream",
     "text": [
      "acc_test:  0  \n"
     ]
    },
    {
     "name": "stderr",
     "output_type": "stream",
     "text": [
      "/home/zhengfang/.local/lib/python3.6/site-packages/ipykernel_launcher.py:21: UserWarning: To copy construct from a tensor, it is recommended to use sourceTensor.clone().detach() or sourceTensor.clone().detach().requires_grad_(True), rather than torch.tensor(sourceTensor).\n",
      "/home/zhengfang/.local/lib/python3.6/site-packages/ipykernel_launcher.py:22: UserWarning: To copy construct from a tensor, it is recommended to use sourceTensor.clone().detach() or sourceTensor.clone().detach().requires_grad_(True), rather than torch.tensor(sourceTensor).\n"
     ]
    },
    {
     "name": "stdout",
     "output_type": "stream",
     "text": [
      "acc_test:  0  \n"
     ]
    },
    {
     "name": "stderr",
     "output_type": "stream",
     "text": [
      "/home/zhengfang/.local/lib/python3.6/site-packages/ipykernel_launcher.py:21: UserWarning: To copy construct from a tensor, it is recommended to use sourceTensor.clone().detach() or sourceTensor.clone().detach().requires_grad_(True), rather than torch.tensor(sourceTensor).\n",
      "/home/zhengfang/.local/lib/python3.6/site-packages/ipykernel_launcher.py:22: UserWarning: To copy construct from a tensor, it is recommended to use sourceTensor.clone().detach() or sourceTensor.clone().detach().requires_grad_(True), rather than torch.tensor(sourceTensor).\n"
     ]
    },
    {
     "name": "stdout",
     "output_type": "stream",
     "text": [
      "acc_test:  0  \n"
     ]
    },
    {
     "name": "stderr",
     "output_type": "stream",
     "text": [
      "/home/zhengfang/.local/lib/python3.6/site-packages/ipykernel_launcher.py:21: UserWarning: To copy construct from a tensor, it is recommended to use sourceTensor.clone().detach() or sourceTensor.clone().detach().requires_grad_(True), rather than torch.tensor(sourceTensor).\n",
      "/home/zhengfang/.local/lib/python3.6/site-packages/ipykernel_launcher.py:22: UserWarning: To copy construct from a tensor, it is recommended to use sourceTensor.clone().detach() or sourceTensor.clone().detach().requires_grad_(True), rather than torch.tensor(sourceTensor).\n"
     ]
    },
    {
     "name": "stdout",
     "output_type": "stream",
     "text": [
      "acc_test:  0  \n"
     ]
    },
    {
     "name": "stderr",
     "output_type": "stream",
     "text": [
      "/home/zhengfang/.local/lib/python3.6/site-packages/ipykernel_launcher.py:21: UserWarning: To copy construct from a tensor, it is recommended to use sourceTensor.clone().detach() or sourceTensor.clone().detach().requires_grad_(True), rather than torch.tensor(sourceTensor).\n",
      "/home/zhengfang/.local/lib/python3.6/site-packages/ipykernel_launcher.py:22: UserWarning: To copy construct from a tensor, it is recommended to use sourceTensor.clone().detach() or sourceTensor.clone().detach().requires_grad_(True), rather than torch.tensor(sourceTensor).\n"
     ]
    },
    {
     "name": "stdout",
     "output_type": "stream",
     "text": [
      "acc_test:  0  \n"
     ]
    },
    {
     "name": "stderr",
     "output_type": "stream",
     "text": [
      "/home/zhengfang/.local/lib/python3.6/site-packages/ipykernel_launcher.py:21: UserWarning: To copy construct from a tensor, it is recommended to use sourceTensor.clone().detach() or sourceTensor.clone().detach().requires_grad_(True), rather than torch.tensor(sourceTensor).\n",
      "/home/zhengfang/.local/lib/python3.6/site-packages/ipykernel_launcher.py:22: UserWarning: To copy construct from a tensor, it is recommended to use sourceTensor.clone().detach() or sourceTensor.clone().detach().requires_grad_(True), rather than torch.tensor(sourceTensor).\n"
     ]
    },
    {
     "name": "stdout",
     "output_type": "stream",
     "text": [
      "acc_test:  0  \n"
     ]
    },
    {
     "name": "stderr",
     "output_type": "stream",
     "text": [
      "/home/zhengfang/.local/lib/python3.6/site-packages/ipykernel_launcher.py:21: UserWarning: To copy construct from a tensor, it is recommended to use sourceTensor.clone().detach() or sourceTensor.clone().detach().requires_grad_(True), rather than torch.tensor(sourceTensor).\n",
      "/home/zhengfang/.local/lib/python3.6/site-packages/ipykernel_launcher.py:22: UserWarning: To copy construct from a tensor, it is recommended to use sourceTensor.clone().detach() or sourceTensor.clone().detach().requires_grad_(True), rather than torch.tensor(sourceTensor).\n"
     ]
    },
    {
     "name": "stdout",
     "output_type": "stream",
     "text": [
      "acc_test:  0  \n"
     ]
    },
    {
     "name": "stderr",
     "output_type": "stream",
     "text": [
      "/home/zhengfang/.local/lib/python3.6/site-packages/ipykernel_launcher.py:21: UserWarning: To copy construct from a tensor, it is recommended to use sourceTensor.clone().detach() or sourceTensor.clone().detach().requires_grad_(True), rather than torch.tensor(sourceTensor).\n",
      "/home/zhengfang/.local/lib/python3.6/site-packages/ipykernel_launcher.py:22: UserWarning: To copy construct from a tensor, it is recommended to use sourceTensor.clone().detach() or sourceTensor.clone().detach().requires_grad_(True), rather than torch.tensor(sourceTensor).\n"
     ]
    },
    {
     "name": "stdout",
     "output_type": "stream",
     "text": [
      "acc_test:  0  \n"
     ]
    },
    {
     "name": "stderr",
     "output_type": "stream",
     "text": [
      "/home/zhengfang/.local/lib/python3.6/site-packages/ipykernel_launcher.py:21: UserWarning: To copy construct from a tensor, it is recommended to use sourceTensor.clone().detach() or sourceTensor.clone().detach().requires_grad_(True), rather than torch.tensor(sourceTensor).\n",
      "/home/zhengfang/.local/lib/python3.6/site-packages/ipykernel_launcher.py:22: UserWarning: To copy construct from a tensor, it is recommended to use sourceTensor.clone().detach() or sourceTensor.clone().detach().requires_grad_(True), rather than torch.tensor(sourceTensor).\n"
     ]
    },
    {
     "name": "stdout",
     "output_type": "stream",
     "text": [
      "acc_test:  0  \n"
     ]
    },
    {
     "name": "stderr",
     "output_type": "stream",
     "text": [
      "/home/zhengfang/.local/lib/python3.6/site-packages/ipykernel_launcher.py:21: UserWarning: To copy construct from a tensor, it is recommended to use sourceTensor.clone().detach() or sourceTensor.clone().detach().requires_grad_(True), rather than torch.tensor(sourceTensor).\n",
      "/home/zhengfang/.local/lib/python3.6/site-packages/ipykernel_launcher.py:22: UserWarning: To copy construct from a tensor, it is recommended to use sourceTensor.clone().detach() or sourceTensor.clone().detach().requires_grad_(True), rather than torch.tensor(sourceTensor).\n"
     ]
    },
    {
     "name": "stdout",
     "output_type": "stream",
     "text": [
      "acc_test:  0  \n"
     ]
    },
    {
     "name": "stderr",
     "output_type": "stream",
     "text": [
      "/home/zhengfang/.local/lib/python3.6/site-packages/ipykernel_launcher.py:21: UserWarning: To copy construct from a tensor, it is recommended to use sourceTensor.clone().detach() or sourceTensor.clone().detach().requires_grad_(True), rather than torch.tensor(sourceTensor).\n",
      "/home/zhengfang/.local/lib/python3.6/site-packages/ipykernel_launcher.py:22: UserWarning: To copy construct from a tensor, it is recommended to use sourceTensor.clone().detach() or sourceTensor.clone().detach().requires_grad_(True), rather than torch.tensor(sourceTensor).\n"
     ]
    },
    {
     "name": "stdout",
     "output_type": "stream",
     "text": [
      "acc_test:  0  \n"
     ]
    },
    {
     "name": "stderr",
     "output_type": "stream",
     "text": [
      "/home/zhengfang/.local/lib/python3.6/site-packages/ipykernel_launcher.py:21: UserWarning: To copy construct from a tensor, it is recommended to use sourceTensor.clone().detach() or sourceTensor.clone().detach().requires_grad_(True), rather than torch.tensor(sourceTensor).\n",
      "/home/zhengfang/.local/lib/python3.6/site-packages/ipykernel_launcher.py:22: UserWarning: To copy construct from a tensor, it is recommended to use sourceTensor.clone().detach() or sourceTensor.clone().detach().requires_grad_(True), rather than torch.tensor(sourceTensor).\n"
     ]
    },
    {
     "name": "stdout",
     "output_type": "stream",
     "text": [
      "acc_test:  0  \n"
     ]
    },
    {
     "name": "stderr",
     "output_type": "stream",
     "text": [
      "/home/zhengfang/.local/lib/python3.6/site-packages/ipykernel_launcher.py:21: UserWarning: To copy construct from a tensor, it is recommended to use sourceTensor.clone().detach() or sourceTensor.clone().detach().requires_grad_(True), rather than torch.tensor(sourceTensor).\n",
      "/home/zhengfang/.local/lib/python3.6/site-packages/ipykernel_launcher.py:22: UserWarning: To copy construct from a tensor, it is recommended to use sourceTensor.clone().detach() or sourceTensor.clone().detach().requires_grad_(True), rather than torch.tensor(sourceTensor).\n"
     ]
    },
    {
     "name": "stdout",
     "output_type": "stream",
     "text": [
      "acc_test:  0  \n"
     ]
    },
    {
     "name": "stderr",
     "output_type": "stream",
     "text": [
      "/home/zhengfang/.local/lib/python3.6/site-packages/ipykernel_launcher.py:21: UserWarning: To copy construct from a tensor, it is recommended to use sourceTensor.clone().detach() or sourceTensor.clone().detach().requires_grad_(True), rather than torch.tensor(sourceTensor).\n",
      "/home/zhengfang/.local/lib/python3.6/site-packages/ipykernel_launcher.py:22: UserWarning: To copy construct from a tensor, it is recommended to use sourceTensor.clone().detach() or sourceTensor.clone().detach().requires_grad_(True), rather than torch.tensor(sourceTensor).\n"
     ]
    },
    {
     "name": "stdout",
     "output_type": "stream",
     "text": [
      "acc_test:  0  \n"
     ]
    },
    {
     "name": "stderr",
     "output_type": "stream",
     "text": [
      "/home/zhengfang/.local/lib/python3.6/site-packages/ipykernel_launcher.py:21: UserWarning: To copy construct from a tensor, it is recommended to use sourceTensor.clone().detach() or sourceTensor.clone().detach().requires_grad_(True), rather than torch.tensor(sourceTensor).\n",
      "/home/zhengfang/.local/lib/python3.6/site-packages/ipykernel_launcher.py:22: UserWarning: To copy construct from a tensor, it is recommended to use sourceTensor.clone().detach() or sourceTensor.clone().detach().requires_grad_(True), rather than torch.tensor(sourceTensor).\n"
     ]
    },
    {
     "name": "stdout",
     "output_type": "stream",
     "text": [
      "acc_test:  0  \n"
     ]
    },
    {
     "name": "stderr",
     "output_type": "stream",
     "text": [
      "/home/zhengfang/.local/lib/python3.6/site-packages/ipykernel_launcher.py:21: UserWarning: To copy construct from a tensor, it is recommended to use sourceTensor.clone().detach() or sourceTensor.clone().detach().requires_grad_(True), rather than torch.tensor(sourceTensor).\n",
      "/home/zhengfang/.local/lib/python3.6/site-packages/ipykernel_launcher.py:22: UserWarning: To copy construct from a tensor, it is recommended to use sourceTensor.clone().detach() or sourceTensor.clone().detach().requires_grad_(True), rather than torch.tensor(sourceTensor).\n"
     ]
    },
    {
     "name": "stdout",
     "output_type": "stream",
     "text": [
      "acc_test:  0  \n"
     ]
    },
    {
     "name": "stderr",
     "output_type": "stream",
     "text": [
      "/home/zhengfang/.local/lib/python3.6/site-packages/ipykernel_launcher.py:21: UserWarning: To copy construct from a tensor, it is recommended to use sourceTensor.clone().detach() or sourceTensor.clone().detach().requires_grad_(True), rather than torch.tensor(sourceTensor).\n",
      "/home/zhengfang/.local/lib/python3.6/site-packages/ipykernel_launcher.py:22: UserWarning: To copy construct from a tensor, it is recommended to use sourceTensor.clone().detach() or sourceTensor.clone().detach().requires_grad_(True), rather than torch.tensor(sourceTensor).\n"
     ]
    },
    {
     "name": "stdout",
     "output_type": "stream",
     "text": [
      "acc_test:  0  \n"
     ]
    },
    {
     "name": "stderr",
     "output_type": "stream",
     "text": [
      "/home/zhengfang/.local/lib/python3.6/site-packages/ipykernel_launcher.py:21: UserWarning: To copy construct from a tensor, it is recommended to use sourceTensor.clone().detach() or sourceTensor.clone().detach().requires_grad_(True), rather than torch.tensor(sourceTensor).\n",
      "/home/zhengfang/.local/lib/python3.6/site-packages/ipykernel_launcher.py:22: UserWarning: To copy construct from a tensor, it is recommended to use sourceTensor.clone().detach() or sourceTensor.clone().detach().requires_grad_(True), rather than torch.tensor(sourceTensor).\n"
     ]
    },
    {
     "name": "stdout",
     "output_type": "stream",
     "text": [
      "acc_test:  0  \n"
     ]
    },
    {
     "name": "stderr",
     "output_type": "stream",
     "text": [
      "/home/zhengfang/.local/lib/python3.6/site-packages/ipykernel_launcher.py:21: UserWarning: To copy construct from a tensor, it is recommended to use sourceTensor.clone().detach() or sourceTensor.clone().detach().requires_grad_(True), rather than torch.tensor(sourceTensor).\n",
      "/home/zhengfang/.local/lib/python3.6/site-packages/ipykernel_launcher.py:22: UserWarning: To copy construct from a tensor, it is recommended to use sourceTensor.clone().detach() or sourceTensor.clone().detach().requires_grad_(True), rather than torch.tensor(sourceTensor).\n"
     ]
    },
    {
     "name": "stdout",
     "output_type": "stream",
     "text": [
      "acc_test:  0  \n"
     ]
    },
    {
     "name": "stderr",
     "output_type": "stream",
     "text": [
      "/home/zhengfang/.local/lib/python3.6/site-packages/ipykernel_launcher.py:21: UserWarning: To copy construct from a tensor, it is recommended to use sourceTensor.clone().detach() or sourceTensor.clone().detach().requires_grad_(True), rather than torch.tensor(sourceTensor).\n",
      "/home/zhengfang/.local/lib/python3.6/site-packages/ipykernel_launcher.py:22: UserWarning: To copy construct from a tensor, it is recommended to use sourceTensor.clone().detach() or sourceTensor.clone().detach().requires_grad_(True), rather than torch.tensor(sourceTensor).\n"
     ]
    },
    {
     "name": "stdout",
     "output_type": "stream",
     "text": [
      "acc_test:  0  \n"
     ]
    },
    {
     "name": "stderr",
     "output_type": "stream",
     "text": [
      "/home/zhengfang/.local/lib/python3.6/site-packages/ipykernel_launcher.py:21: UserWarning: To copy construct from a tensor, it is recommended to use sourceTensor.clone().detach() or sourceTensor.clone().detach().requires_grad_(True), rather than torch.tensor(sourceTensor).\n",
      "/home/zhengfang/.local/lib/python3.6/site-packages/ipykernel_launcher.py:22: UserWarning: To copy construct from a tensor, it is recommended to use sourceTensor.clone().detach() or sourceTensor.clone().detach().requires_grad_(True), rather than torch.tensor(sourceTensor).\n"
     ]
    },
    {
     "name": "stdout",
     "output_type": "stream",
     "text": [
      "acc_test:  0  \n"
     ]
    },
    {
     "name": "stderr",
     "output_type": "stream",
     "text": [
      "/home/zhengfang/.local/lib/python3.6/site-packages/ipykernel_launcher.py:21: UserWarning: To copy construct from a tensor, it is recommended to use sourceTensor.clone().detach() or sourceTensor.clone().detach().requires_grad_(True), rather than torch.tensor(sourceTensor).\n",
      "/home/zhengfang/.local/lib/python3.6/site-packages/ipykernel_launcher.py:22: UserWarning: To copy construct from a tensor, it is recommended to use sourceTensor.clone().detach() or sourceTensor.clone().detach().requires_grad_(True), rather than torch.tensor(sourceTensor).\n"
     ]
    },
    {
     "name": "stdout",
     "output_type": "stream",
     "text": [
      "acc_test:  0  \n"
     ]
    },
    {
     "name": "stderr",
     "output_type": "stream",
     "text": [
      "/home/zhengfang/.local/lib/python3.6/site-packages/ipykernel_launcher.py:21: UserWarning: To copy construct from a tensor, it is recommended to use sourceTensor.clone().detach() or sourceTensor.clone().detach().requires_grad_(True), rather than torch.tensor(sourceTensor).\n",
      "/home/zhengfang/.local/lib/python3.6/site-packages/ipykernel_launcher.py:22: UserWarning: To copy construct from a tensor, it is recommended to use sourceTensor.clone().detach() or sourceTensor.clone().detach().requires_grad_(True), rather than torch.tensor(sourceTensor).\n"
     ]
    },
    {
     "name": "stdout",
     "output_type": "stream",
     "text": [
      "acc_test:  0  \n"
     ]
    },
    {
     "name": "stderr",
     "output_type": "stream",
     "text": [
      "/home/zhengfang/.local/lib/python3.6/site-packages/ipykernel_launcher.py:21: UserWarning: To copy construct from a tensor, it is recommended to use sourceTensor.clone().detach() or sourceTensor.clone().detach().requires_grad_(True), rather than torch.tensor(sourceTensor).\n",
      "/home/zhengfang/.local/lib/python3.6/site-packages/ipykernel_launcher.py:22: UserWarning: To copy construct from a tensor, it is recommended to use sourceTensor.clone().detach() or sourceTensor.clone().detach().requires_grad_(True), rather than torch.tensor(sourceTensor).\n"
     ]
    },
    {
     "name": "stdout",
     "output_type": "stream",
     "text": [
      "acc_test:  0  \n"
     ]
    },
    {
     "name": "stderr",
     "output_type": "stream",
     "text": [
      "/home/zhengfang/.local/lib/python3.6/site-packages/ipykernel_launcher.py:21: UserWarning: To copy construct from a tensor, it is recommended to use sourceTensor.clone().detach() or sourceTensor.clone().detach().requires_grad_(True), rather than torch.tensor(sourceTensor).\n",
      "/home/zhengfang/.local/lib/python3.6/site-packages/ipykernel_launcher.py:22: UserWarning: To copy construct from a tensor, it is recommended to use sourceTensor.clone().detach() or sourceTensor.clone().detach().requires_grad_(True), rather than torch.tensor(sourceTensor).\n"
     ]
    },
    {
     "name": "stdout",
     "output_type": "stream",
     "text": [
      "acc_test:  0  \n"
     ]
    },
    {
     "name": "stderr",
     "output_type": "stream",
     "text": [
      "/home/zhengfang/.local/lib/python3.6/site-packages/ipykernel_launcher.py:21: UserWarning: To copy construct from a tensor, it is recommended to use sourceTensor.clone().detach() or sourceTensor.clone().detach().requires_grad_(True), rather than torch.tensor(sourceTensor).\n",
      "/home/zhengfang/.local/lib/python3.6/site-packages/ipykernel_launcher.py:22: UserWarning: To copy construct from a tensor, it is recommended to use sourceTensor.clone().detach() or sourceTensor.clone().detach().requires_grad_(True), rather than torch.tensor(sourceTensor).\n"
     ]
    },
    {
     "name": "stdout",
     "output_type": "stream",
     "text": [
      "acc_test:  0  \n"
     ]
    },
    {
     "name": "stderr",
     "output_type": "stream",
     "text": [
      "/home/zhengfang/.local/lib/python3.6/site-packages/ipykernel_launcher.py:21: UserWarning: To copy construct from a tensor, it is recommended to use sourceTensor.clone().detach() or sourceTensor.clone().detach().requires_grad_(True), rather than torch.tensor(sourceTensor).\n",
      "/home/zhengfang/.local/lib/python3.6/site-packages/ipykernel_launcher.py:22: UserWarning: To copy construct from a tensor, it is recommended to use sourceTensor.clone().detach() or sourceTensor.clone().detach().requires_grad_(True), rather than torch.tensor(sourceTensor).\n"
     ]
    },
    {
     "name": "stdout",
     "output_type": "stream",
     "text": [
      "acc_test:  0  \n"
     ]
    },
    {
     "name": "stderr",
     "output_type": "stream",
     "text": [
      "/home/zhengfang/.local/lib/python3.6/site-packages/ipykernel_launcher.py:21: UserWarning: To copy construct from a tensor, it is recommended to use sourceTensor.clone().detach() or sourceTensor.clone().detach().requires_grad_(True), rather than torch.tensor(sourceTensor).\n",
      "/home/zhengfang/.local/lib/python3.6/site-packages/ipykernel_launcher.py:22: UserWarning: To copy construct from a tensor, it is recommended to use sourceTensor.clone().detach() or sourceTensor.clone().detach().requires_grad_(True), rather than torch.tensor(sourceTensor).\n"
     ]
    },
    {
     "name": "stdout",
     "output_type": "stream",
     "text": [
      "acc_test:  0  \n"
     ]
    },
    {
     "name": "stderr",
     "output_type": "stream",
     "text": [
      "/home/zhengfang/.local/lib/python3.6/site-packages/ipykernel_launcher.py:21: UserWarning: To copy construct from a tensor, it is recommended to use sourceTensor.clone().detach() or sourceTensor.clone().detach().requires_grad_(True), rather than torch.tensor(sourceTensor).\n",
      "/home/zhengfang/.local/lib/python3.6/site-packages/ipykernel_launcher.py:22: UserWarning: To copy construct from a tensor, it is recommended to use sourceTensor.clone().detach() or sourceTensor.clone().detach().requires_grad_(True), rather than torch.tensor(sourceTensor).\n"
     ]
    },
    {
     "name": "stdout",
     "output_type": "stream",
     "text": [
      "acc_test:  0  \n"
     ]
    },
    {
     "name": "stderr",
     "output_type": "stream",
     "text": [
      "/home/zhengfang/.local/lib/python3.6/site-packages/ipykernel_launcher.py:21: UserWarning: To copy construct from a tensor, it is recommended to use sourceTensor.clone().detach() or sourceTensor.clone().detach().requires_grad_(True), rather than torch.tensor(sourceTensor).\n",
      "/home/zhengfang/.local/lib/python3.6/site-packages/ipykernel_launcher.py:22: UserWarning: To copy construct from a tensor, it is recommended to use sourceTensor.clone().detach() or sourceTensor.clone().detach().requires_grad_(True), rather than torch.tensor(sourceTensor).\n"
     ]
    },
    {
     "name": "stdout",
     "output_type": "stream",
     "text": [
      "acc_test:  0  \n"
     ]
    },
    {
     "name": "stderr",
     "output_type": "stream",
     "text": [
      "/home/zhengfang/.local/lib/python3.6/site-packages/ipykernel_launcher.py:21: UserWarning: To copy construct from a tensor, it is recommended to use sourceTensor.clone().detach() or sourceTensor.clone().detach().requires_grad_(True), rather than torch.tensor(sourceTensor).\n",
      "/home/zhengfang/.local/lib/python3.6/site-packages/ipykernel_launcher.py:22: UserWarning: To copy construct from a tensor, it is recommended to use sourceTensor.clone().detach() or sourceTensor.clone().detach().requires_grad_(True), rather than torch.tensor(sourceTensor).\n"
     ]
    },
    {
     "name": "stdout",
     "output_type": "stream",
     "text": [
      "acc_test:  0  \n"
     ]
    },
    {
     "name": "stderr",
     "output_type": "stream",
     "text": [
      "/home/zhengfang/.local/lib/python3.6/site-packages/ipykernel_launcher.py:21: UserWarning: To copy construct from a tensor, it is recommended to use sourceTensor.clone().detach() or sourceTensor.clone().detach().requires_grad_(True), rather than torch.tensor(sourceTensor).\n",
      "/home/zhengfang/.local/lib/python3.6/site-packages/ipykernel_launcher.py:22: UserWarning: To copy construct from a tensor, it is recommended to use sourceTensor.clone().detach() or sourceTensor.clone().detach().requires_grad_(True), rather than torch.tensor(sourceTensor).\n"
     ]
    },
    {
     "name": "stdout",
     "output_type": "stream",
     "text": [
      "acc_test:  0  \n"
     ]
    },
    {
     "name": "stderr",
     "output_type": "stream",
     "text": [
      "/home/zhengfang/.local/lib/python3.6/site-packages/ipykernel_launcher.py:21: UserWarning: To copy construct from a tensor, it is recommended to use sourceTensor.clone().detach() or sourceTensor.clone().detach().requires_grad_(True), rather than torch.tensor(sourceTensor).\n",
      "/home/zhengfang/.local/lib/python3.6/site-packages/ipykernel_launcher.py:22: UserWarning: To copy construct from a tensor, it is recommended to use sourceTensor.clone().detach() or sourceTensor.clone().detach().requires_grad_(True), rather than torch.tensor(sourceTensor).\n"
     ]
    },
    {
     "name": "stdout",
     "output_type": "stream",
     "text": [
      "acc_test:  0  \n"
     ]
    },
    {
     "name": "stderr",
     "output_type": "stream",
     "text": [
      "/home/zhengfang/.local/lib/python3.6/site-packages/ipykernel_launcher.py:21: UserWarning: To copy construct from a tensor, it is recommended to use sourceTensor.clone().detach() or sourceTensor.clone().detach().requires_grad_(True), rather than torch.tensor(sourceTensor).\n",
      "/home/zhengfang/.local/lib/python3.6/site-packages/ipykernel_launcher.py:22: UserWarning: To copy construct from a tensor, it is recommended to use sourceTensor.clone().detach() or sourceTensor.clone().detach().requires_grad_(True), rather than torch.tensor(sourceTensor).\n"
     ]
    },
    {
     "name": "stdout",
     "output_type": "stream",
     "text": [
      "acc_test:  0  \n"
     ]
    },
    {
     "name": "stderr",
     "output_type": "stream",
     "text": [
      "/home/zhengfang/.local/lib/python3.6/site-packages/ipykernel_launcher.py:21: UserWarning: To copy construct from a tensor, it is recommended to use sourceTensor.clone().detach() or sourceTensor.clone().detach().requires_grad_(True), rather than torch.tensor(sourceTensor).\n",
      "/home/zhengfang/.local/lib/python3.6/site-packages/ipykernel_launcher.py:22: UserWarning: To copy construct from a tensor, it is recommended to use sourceTensor.clone().detach() or sourceTensor.clone().detach().requires_grad_(True), rather than torch.tensor(sourceTensor).\n"
     ]
    },
    {
     "name": "stdout",
     "output_type": "stream",
     "text": [
      "acc_test:  0  \n"
     ]
    },
    {
     "name": "stderr",
     "output_type": "stream",
     "text": [
      "/home/zhengfang/.local/lib/python3.6/site-packages/ipykernel_launcher.py:21: UserWarning: To copy construct from a tensor, it is recommended to use sourceTensor.clone().detach() or sourceTensor.clone().detach().requires_grad_(True), rather than torch.tensor(sourceTensor).\n",
      "/home/zhengfang/.local/lib/python3.6/site-packages/ipykernel_launcher.py:22: UserWarning: To copy construct from a tensor, it is recommended to use sourceTensor.clone().detach() or sourceTensor.clone().detach().requires_grad_(True), rather than torch.tensor(sourceTensor).\n"
     ]
    },
    {
     "name": "stdout",
     "output_type": "stream",
     "text": [
      "acc_test:  0  \n"
     ]
    },
    {
     "name": "stderr",
     "output_type": "stream",
     "text": [
      "/home/zhengfang/.local/lib/python3.6/site-packages/ipykernel_launcher.py:21: UserWarning: To copy construct from a tensor, it is recommended to use sourceTensor.clone().detach() or sourceTensor.clone().detach().requires_grad_(True), rather than torch.tensor(sourceTensor).\n",
      "/home/zhengfang/.local/lib/python3.6/site-packages/ipykernel_launcher.py:22: UserWarning: To copy construct from a tensor, it is recommended to use sourceTensor.clone().detach() or sourceTensor.clone().detach().requires_grad_(True), rather than torch.tensor(sourceTensor).\n"
     ]
    },
    {
     "name": "stdout",
     "output_type": "stream",
     "text": [
      "acc_test:  0  \n"
     ]
    },
    {
     "name": "stderr",
     "output_type": "stream",
     "text": [
      "/home/zhengfang/.local/lib/python3.6/site-packages/ipykernel_launcher.py:21: UserWarning: To copy construct from a tensor, it is recommended to use sourceTensor.clone().detach() or sourceTensor.clone().detach().requires_grad_(True), rather than torch.tensor(sourceTensor).\n",
      "/home/zhengfang/.local/lib/python3.6/site-packages/ipykernel_launcher.py:22: UserWarning: To copy construct from a tensor, it is recommended to use sourceTensor.clone().detach() or sourceTensor.clone().detach().requires_grad_(True), rather than torch.tensor(sourceTensor).\n"
     ]
    },
    {
     "name": "stdout",
     "output_type": "stream",
     "text": [
      "acc_test:  0  \n"
     ]
    },
    {
     "name": "stderr",
     "output_type": "stream",
     "text": [
      "/home/zhengfang/.local/lib/python3.6/site-packages/ipykernel_launcher.py:21: UserWarning: To copy construct from a tensor, it is recommended to use sourceTensor.clone().detach() or sourceTensor.clone().detach().requires_grad_(True), rather than torch.tensor(sourceTensor).\n",
      "/home/zhengfang/.local/lib/python3.6/site-packages/ipykernel_launcher.py:22: UserWarning: To copy construct from a tensor, it is recommended to use sourceTensor.clone().detach() or sourceTensor.clone().detach().requires_grad_(True), rather than torch.tensor(sourceTensor).\n"
     ]
    },
    {
     "name": "stdout",
     "output_type": "stream",
     "text": [
      "acc_test:  0  \n"
     ]
    },
    {
     "name": "stderr",
     "output_type": "stream",
     "text": [
      "/home/zhengfang/.local/lib/python3.6/site-packages/ipykernel_launcher.py:21: UserWarning: To copy construct from a tensor, it is recommended to use sourceTensor.clone().detach() or sourceTensor.clone().detach().requires_grad_(True), rather than torch.tensor(sourceTensor).\n",
      "/home/zhengfang/.local/lib/python3.6/site-packages/ipykernel_launcher.py:22: UserWarning: To copy construct from a tensor, it is recommended to use sourceTensor.clone().detach() or sourceTensor.clone().detach().requires_grad_(True), rather than torch.tensor(sourceTensor).\n"
     ]
    },
    {
     "name": "stdout",
     "output_type": "stream",
     "text": [
      "acc_test:  0  \n"
     ]
    },
    {
     "name": "stderr",
     "output_type": "stream",
     "text": [
      "/home/zhengfang/.local/lib/python3.6/site-packages/ipykernel_launcher.py:21: UserWarning: To copy construct from a tensor, it is recommended to use sourceTensor.clone().detach() or sourceTensor.clone().detach().requires_grad_(True), rather than torch.tensor(sourceTensor).\n",
      "/home/zhengfang/.local/lib/python3.6/site-packages/ipykernel_launcher.py:22: UserWarning: To copy construct from a tensor, it is recommended to use sourceTensor.clone().detach() or sourceTensor.clone().detach().requires_grad_(True), rather than torch.tensor(sourceTensor).\n"
     ]
    },
    {
     "name": "stdout",
     "output_type": "stream",
     "text": [
      "acc_test:  0  \n"
     ]
    },
    {
     "name": "stderr",
     "output_type": "stream",
     "text": [
      "/home/zhengfang/.local/lib/python3.6/site-packages/ipykernel_launcher.py:21: UserWarning: To copy construct from a tensor, it is recommended to use sourceTensor.clone().detach() or sourceTensor.clone().detach().requires_grad_(True), rather than torch.tensor(sourceTensor).\n",
      "/home/zhengfang/.local/lib/python3.6/site-packages/ipykernel_launcher.py:22: UserWarning: To copy construct from a tensor, it is recommended to use sourceTensor.clone().detach() or sourceTensor.clone().detach().requires_grad_(True), rather than torch.tensor(sourceTensor).\n"
     ]
    },
    {
     "name": "stdout",
     "output_type": "stream",
     "text": [
      "acc_test:  0  \n"
     ]
    },
    {
     "name": "stderr",
     "output_type": "stream",
     "text": [
      "/home/zhengfang/.local/lib/python3.6/site-packages/ipykernel_launcher.py:21: UserWarning: To copy construct from a tensor, it is recommended to use sourceTensor.clone().detach() or sourceTensor.clone().detach().requires_grad_(True), rather than torch.tensor(sourceTensor).\n",
      "/home/zhengfang/.local/lib/python3.6/site-packages/ipykernel_launcher.py:22: UserWarning: To copy construct from a tensor, it is recommended to use sourceTensor.clone().detach() or sourceTensor.clone().detach().requires_grad_(True), rather than torch.tensor(sourceTensor).\n"
     ]
    },
    {
     "name": "stdout",
     "output_type": "stream",
     "text": [
      "acc_test:  0  \n"
     ]
    },
    {
     "name": "stderr",
     "output_type": "stream",
     "text": [
      "/home/zhengfang/.local/lib/python3.6/site-packages/ipykernel_launcher.py:21: UserWarning: To copy construct from a tensor, it is recommended to use sourceTensor.clone().detach() or sourceTensor.clone().detach().requires_grad_(True), rather than torch.tensor(sourceTensor).\n",
      "/home/zhengfang/.local/lib/python3.6/site-packages/ipykernel_launcher.py:22: UserWarning: To copy construct from a tensor, it is recommended to use sourceTensor.clone().detach() or sourceTensor.clone().detach().requires_grad_(True), rather than torch.tensor(sourceTensor).\n"
     ]
    },
    {
     "name": "stdout",
     "output_type": "stream",
     "text": [
      "acc_test:  0  \n"
     ]
    },
    {
     "name": "stderr",
     "output_type": "stream",
     "text": [
      "/home/zhengfang/.local/lib/python3.6/site-packages/ipykernel_launcher.py:21: UserWarning: To copy construct from a tensor, it is recommended to use sourceTensor.clone().detach() or sourceTensor.clone().detach().requires_grad_(True), rather than torch.tensor(sourceTensor).\n",
      "/home/zhengfang/.local/lib/python3.6/site-packages/ipykernel_launcher.py:22: UserWarning: To copy construct from a tensor, it is recommended to use sourceTensor.clone().detach() or sourceTensor.clone().detach().requires_grad_(True), rather than torch.tensor(sourceTensor).\n"
     ]
    },
    {
     "name": "stdout",
     "output_type": "stream",
     "text": [
      "acc_test:  0  \n"
     ]
    },
    {
     "name": "stderr",
     "output_type": "stream",
     "text": [
      "/home/zhengfang/.local/lib/python3.6/site-packages/ipykernel_launcher.py:21: UserWarning: To copy construct from a tensor, it is recommended to use sourceTensor.clone().detach() or sourceTensor.clone().detach().requires_grad_(True), rather than torch.tensor(sourceTensor).\n",
      "/home/zhengfang/.local/lib/python3.6/site-packages/ipykernel_launcher.py:22: UserWarning: To copy construct from a tensor, it is recommended to use sourceTensor.clone().detach() or sourceTensor.clone().detach().requires_grad_(True), rather than torch.tensor(sourceTensor).\n"
     ]
    },
    {
     "name": "stdout",
     "output_type": "stream",
     "text": [
      "acc_test:  0  \n"
     ]
    },
    {
     "name": "stderr",
     "output_type": "stream",
     "text": [
      "/home/zhengfang/.local/lib/python3.6/site-packages/ipykernel_launcher.py:21: UserWarning: To copy construct from a tensor, it is recommended to use sourceTensor.clone().detach() or sourceTensor.clone().detach().requires_grad_(True), rather than torch.tensor(sourceTensor).\n",
      "/home/zhengfang/.local/lib/python3.6/site-packages/ipykernel_launcher.py:22: UserWarning: To copy construct from a tensor, it is recommended to use sourceTensor.clone().detach() or sourceTensor.clone().detach().requires_grad_(True), rather than torch.tensor(sourceTensor).\n"
     ]
    },
    {
     "name": "stdout",
     "output_type": "stream",
     "text": [
      "acc_test:  0  \n"
     ]
    },
    {
     "name": "stderr",
     "output_type": "stream",
     "text": [
      "/home/zhengfang/.local/lib/python3.6/site-packages/ipykernel_launcher.py:21: UserWarning: To copy construct from a tensor, it is recommended to use sourceTensor.clone().detach() or sourceTensor.clone().detach().requires_grad_(True), rather than torch.tensor(sourceTensor).\n",
      "/home/zhengfang/.local/lib/python3.6/site-packages/ipykernel_launcher.py:22: UserWarning: To copy construct from a tensor, it is recommended to use sourceTensor.clone().detach() or sourceTensor.clone().detach().requires_grad_(True), rather than torch.tensor(sourceTensor).\n"
     ]
    },
    {
     "name": "stdout",
     "output_type": "stream",
     "text": [
      "acc_test:  0  \n"
     ]
    },
    {
     "name": "stderr",
     "output_type": "stream",
     "text": [
      "/home/zhengfang/.local/lib/python3.6/site-packages/ipykernel_launcher.py:21: UserWarning: To copy construct from a tensor, it is recommended to use sourceTensor.clone().detach() or sourceTensor.clone().detach().requires_grad_(True), rather than torch.tensor(sourceTensor).\n",
      "/home/zhengfang/.local/lib/python3.6/site-packages/ipykernel_launcher.py:22: UserWarning: To copy construct from a tensor, it is recommended to use sourceTensor.clone().detach() or sourceTensor.clone().detach().requires_grad_(True), rather than torch.tensor(sourceTensor).\n"
     ]
    },
    {
     "name": "stdout",
     "output_type": "stream",
     "text": [
      "acc_test:  0  \n"
     ]
    },
    {
     "name": "stderr",
     "output_type": "stream",
     "text": [
      "/home/zhengfang/.local/lib/python3.6/site-packages/ipykernel_launcher.py:21: UserWarning: To copy construct from a tensor, it is recommended to use sourceTensor.clone().detach() or sourceTensor.clone().detach().requires_grad_(True), rather than torch.tensor(sourceTensor).\n",
      "/home/zhengfang/.local/lib/python3.6/site-packages/ipykernel_launcher.py:22: UserWarning: To copy construct from a tensor, it is recommended to use sourceTensor.clone().detach() or sourceTensor.clone().detach().requires_grad_(True), rather than torch.tensor(sourceTensor).\n"
     ]
    },
    {
     "name": "stdout",
     "output_type": "stream",
     "text": [
      "acc_test:  0  \n"
     ]
    },
    {
     "name": "stderr",
     "output_type": "stream",
     "text": [
      "/home/zhengfang/.local/lib/python3.6/site-packages/ipykernel_launcher.py:21: UserWarning: To copy construct from a tensor, it is recommended to use sourceTensor.clone().detach() or sourceTensor.clone().detach().requires_grad_(True), rather than torch.tensor(sourceTensor).\n",
      "/home/zhengfang/.local/lib/python3.6/site-packages/ipykernel_launcher.py:22: UserWarning: To copy construct from a tensor, it is recommended to use sourceTensor.clone().detach() or sourceTensor.clone().detach().requires_grad_(True), rather than torch.tensor(sourceTensor).\n"
     ]
    },
    {
     "name": "stdout",
     "output_type": "stream",
     "text": [
      "acc_test:  0  \n"
     ]
    },
    {
     "name": "stderr",
     "output_type": "stream",
     "text": [
      "/home/zhengfang/.local/lib/python3.6/site-packages/ipykernel_launcher.py:21: UserWarning: To copy construct from a tensor, it is recommended to use sourceTensor.clone().detach() or sourceTensor.clone().detach().requires_grad_(True), rather than torch.tensor(sourceTensor).\n",
      "/home/zhengfang/.local/lib/python3.6/site-packages/ipykernel_launcher.py:22: UserWarning: To copy construct from a tensor, it is recommended to use sourceTensor.clone().detach() or sourceTensor.clone().detach().requires_grad_(True), rather than torch.tensor(sourceTensor).\n"
     ]
    },
    {
     "name": "stdout",
     "output_type": "stream",
     "text": [
      "acc_test:  0  \n"
     ]
    },
    {
     "name": "stderr",
     "output_type": "stream",
     "text": [
      "/home/zhengfang/.local/lib/python3.6/site-packages/ipykernel_launcher.py:21: UserWarning: To copy construct from a tensor, it is recommended to use sourceTensor.clone().detach() or sourceTensor.clone().detach().requires_grad_(True), rather than torch.tensor(sourceTensor).\n",
      "/home/zhengfang/.local/lib/python3.6/site-packages/ipykernel_launcher.py:22: UserWarning: To copy construct from a tensor, it is recommended to use sourceTensor.clone().detach() or sourceTensor.clone().detach().requires_grad_(True), rather than torch.tensor(sourceTensor).\n"
     ]
    },
    {
     "name": "stdout",
     "output_type": "stream",
     "text": [
      "acc_test:  0  \n"
     ]
    },
    {
     "name": "stderr",
     "output_type": "stream",
     "text": [
      "/home/zhengfang/.local/lib/python3.6/site-packages/ipykernel_launcher.py:21: UserWarning: To copy construct from a tensor, it is recommended to use sourceTensor.clone().detach() or sourceTensor.clone().detach().requires_grad_(True), rather than torch.tensor(sourceTensor).\n",
      "/home/zhengfang/.local/lib/python3.6/site-packages/ipykernel_launcher.py:22: UserWarning: To copy construct from a tensor, it is recommended to use sourceTensor.clone().detach() or sourceTensor.clone().detach().requires_grad_(True), rather than torch.tensor(sourceTensor).\n"
     ]
    },
    {
     "name": "stdout",
     "output_type": "stream",
     "text": [
      "acc_test:  0  \n"
     ]
    },
    {
     "name": "stderr",
     "output_type": "stream",
     "text": [
      "/home/zhengfang/.local/lib/python3.6/site-packages/ipykernel_launcher.py:21: UserWarning: To copy construct from a tensor, it is recommended to use sourceTensor.clone().detach() or sourceTensor.clone().detach().requires_grad_(True), rather than torch.tensor(sourceTensor).\n",
      "/home/zhengfang/.local/lib/python3.6/site-packages/ipykernel_launcher.py:22: UserWarning: To copy construct from a tensor, it is recommended to use sourceTensor.clone().detach() or sourceTensor.clone().detach().requires_grad_(True), rather than torch.tensor(sourceTensor).\n"
     ]
    },
    {
     "name": "stdout",
     "output_type": "stream",
     "text": [
      "acc_test:  0  \n"
     ]
    },
    {
     "name": "stderr",
     "output_type": "stream",
     "text": [
      "/home/zhengfang/.local/lib/python3.6/site-packages/ipykernel_launcher.py:21: UserWarning: To copy construct from a tensor, it is recommended to use sourceTensor.clone().detach() or sourceTensor.clone().detach().requires_grad_(True), rather than torch.tensor(sourceTensor).\n",
      "/home/zhengfang/.local/lib/python3.6/site-packages/ipykernel_launcher.py:22: UserWarning: To copy construct from a tensor, it is recommended to use sourceTensor.clone().detach() or sourceTensor.clone().detach().requires_grad_(True), rather than torch.tensor(sourceTensor).\n"
     ]
    },
    {
     "name": "stdout",
     "output_type": "stream",
     "text": [
      "acc_test:  0  \n"
     ]
    },
    {
     "name": "stderr",
     "output_type": "stream",
     "text": [
      "/home/zhengfang/.local/lib/python3.6/site-packages/ipykernel_launcher.py:21: UserWarning: To copy construct from a tensor, it is recommended to use sourceTensor.clone().detach() or sourceTensor.clone().detach().requires_grad_(True), rather than torch.tensor(sourceTensor).\n",
      "/home/zhengfang/.local/lib/python3.6/site-packages/ipykernel_launcher.py:22: UserWarning: To copy construct from a tensor, it is recommended to use sourceTensor.clone().detach() or sourceTensor.clone().detach().requires_grad_(True), rather than torch.tensor(sourceTensor).\n"
     ]
    },
    {
     "name": "stdout",
     "output_type": "stream",
     "text": [
      "acc_test:  0  \n"
     ]
    },
    {
     "name": "stderr",
     "output_type": "stream",
     "text": [
      "/home/zhengfang/.local/lib/python3.6/site-packages/ipykernel_launcher.py:21: UserWarning: To copy construct from a tensor, it is recommended to use sourceTensor.clone().detach() or sourceTensor.clone().detach().requires_grad_(True), rather than torch.tensor(sourceTensor).\n",
      "/home/zhengfang/.local/lib/python3.6/site-packages/ipykernel_launcher.py:22: UserWarning: To copy construct from a tensor, it is recommended to use sourceTensor.clone().detach() or sourceTensor.clone().detach().requires_grad_(True), rather than torch.tensor(sourceTensor).\n"
     ]
    },
    {
     "name": "stdout",
     "output_type": "stream",
     "text": [
      "acc_test:  0  \n"
     ]
    },
    {
     "name": "stderr",
     "output_type": "stream",
     "text": [
      "/home/zhengfang/.local/lib/python3.6/site-packages/ipykernel_launcher.py:21: UserWarning: To copy construct from a tensor, it is recommended to use sourceTensor.clone().detach() or sourceTensor.clone().detach().requires_grad_(True), rather than torch.tensor(sourceTensor).\n",
      "/home/zhengfang/.local/lib/python3.6/site-packages/ipykernel_launcher.py:22: UserWarning: To copy construct from a tensor, it is recommended to use sourceTensor.clone().detach() or sourceTensor.clone().detach().requires_grad_(True), rather than torch.tensor(sourceTensor).\n"
     ]
    },
    {
     "name": "stdout",
     "output_type": "stream",
     "text": [
      "acc_test:  0  \n"
     ]
    },
    {
     "name": "stderr",
     "output_type": "stream",
     "text": [
      "/home/zhengfang/.local/lib/python3.6/site-packages/ipykernel_launcher.py:21: UserWarning: To copy construct from a tensor, it is recommended to use sourceTensor.clone().detach() or sourceTensor.clone().detach().requires_grad_(True), rather than torch.tensor(sourceTensor).\n",
      "/home/zhengfang/.local/lib/python3.6/site-packages/ipykernel_launcher.py:22: UserWarning: To copy construct from a tensor, it is recommended to use sourceTensor.clone().detach() or sourceTensor.clone().detach().requires_grad_(True), rather than torch.tensor(sourceTensor).\n"
     ]
    },
    {
     "name": "stdout",
     "output_type": "stream",
     "text": [
      "acc_test:  0  \n"
     ]
    },
    {
     "name": "stderr",
     "output_type": "stream",
     "text": [
      "/home/zhengfang/.local/lib/python3.6/site-packages/ipykernel_launcher.py:21: UserWarning: To copy construct from a tensor, it is recommended to use sourceTensor.clone().detach() or sourceTensor.clone().detach().requires_grad_(True), rather than torch.tensor(sourceTensor).\n",
      "/home/zhengfang/.local/lib/python3.6/site-packages/ipykernel_launcher.py:22: UserWarning: To copy construct from a tensor, it is recommended to use sourceTensor.clone().detach() or sourceTensor.clone().detach().requires_grad_(True), rather than torch.tensor(sourceTensor).\n"
     ]
    },
    {
     "name": "stdout",
     "output_type": "stream",
     "text": [
      "acc_test:  0  \n"
     ]
    },
    {
     "name": "stderr",
     "output_type": "stream",
     "text": [
      "/home/zhengfang/.local/lib/python3.6/site-packages/ipykernel_launcher.py:21: UserWarning: To copy construct from a tensor, it is recommended to use sourceTensor.clone().detach() or sourceTensor.clone().detach().requires_grad_(True), rather than torch.tensor(sourceTensor).\n",
      "/home/zhengfang/.local/lib/python3.6/site-packages/ipykernel_launcher.py:22: UserWarning: To copy construct from a tensor, it is recommended to use sourceTensor.clone().detach() or sourceTensor.clone().detach().requires_grad_(True), rather than torch.tensor(sourceTensor).\n"
     ]
    },
    {
     "name": "stdout",
     "output_type": "stream",
     "text": [
      "acc_test:  0  \n"
     ]
    },
    {
     "name": "stderr",
     "output_type": "stream",
     "text": [
      "/home/zhengfang/.local/lib/python3.6/site-packages/ipykernel_launcher.py:21: UserWarning: To copy construct from a tensor, it is recommended to use sourceTensor.clone().detach() or sourceTensor.clone().detach().requires_grad_(True), rather than torch.tensor(sourceTensor).\n",
      "/home/zhengfang/.local/lib/python3.6/site-packages/ipykernel_launcher.py:22: UserWarning: To copy construct from a tensor, it is recommended to use sourceTensor.clone().detach() or sourceTensor.clone().detach().requires_grad_(True), rather than torch.tensor(sourceTensor).\n"
     ]
    },
    {
     "name": "stdout",
     "output_type": "stream",
     "text": [
      "acc_test:  0  \n"
     ]
    },
    {
     "name": "stderr",
     "output_type": "stream",
     "text": [
      "/home/zhengfang/.local/lib/python3.6/site-packages/ipykernel_launcher.py:21: UserWarning: To copy construct from a tensor, it is recommended to use sourceTensor.clone().detach() or sourceTensor.clone().detach().requires_grad_(True), rather than torch.tensor(sourceTensor).\n",
      "/home/zhengfang/.local/lib/python3.6/site-packages/ipykernel_launcher.py:22: UserWarning: To copy construct from a tensor, it is recommended to use sourceTensor.clone().detach() or sourceTensor.clone().detach().requires_grad_(True), rather than torch.tensor(sourceTensor).\n"
     ]
    },
    {
     "name": "stdout",
     "output_type": "stream",
     "text": [
      "acc_test:  0  \n"
     ]
    },
    {
     "name": "stderr",
     "output_type": "stream",
     "text": [
      "/home/zhengfang/.local/lib/python3.6/site-packages/ipykernel_launcher.py:21: UserWarning: To copy construct from a tensor, it is recommended to use sourceTensor.clone().detach() or sourceTensor.clone().detach().requires_grad_(True), rather than torch.tensor(sourceTensor).\n",
      "/home/zhengfang/.local/lib/python3.6/site-packages/ipykernel_launcher.py:22: UserWarning: To copy construct from a tensor, it is recommended to use sourceTensor.clone().detach() or sourceTensor.clone().detach().requires_grad_(True), rather than torch.tensor(sourceTensor).\n"
     ]
    },
    {
     "name": "stdout",
     "output_type": "stream",
     "text": [
      "acc_test:  0  \n"
     ]
    },
    {
     "name": "stderr",
     "output_type": "stream",
     "text": [
      "/home/zhengfang/.local/lib/python3.6/site-packages/ipykernel_launcher.py:21: UserWarning: To copy construct from a tensor, it is recommended to use sourceTensor.clone().detach() or sourceTensor.clone().detach().requires_grad_(True), rather than torch.tensor(sourceTensor).\n",
      "/home/zhengfang/.local/lib/python3.6/site-packages/ipykernel_launcher.py:22: UserWarning: To copy construct from a tensor, it is recommended to use sourceTensor.clone().detach() or sourceTensor.clone().detach().requires_grad_(True), rather than torch.tensor(sourceTensor).\n"
     ]
    },
    {
     "name": "stdout",
     "output_type": "stream",
     "text": [
      "acc_test:  0  \n"
     ]
    },
    {
     "name": "stderr",
     "output_type": "stream",
     "text": [
      "/home/zhengfang/.local/lib/python3.6/site-packages/ipykernel_launcher.py:21: UserWarning: To copy construct from a tensor, it is recommended to use sourceTensor.clone().detach() or sourceTensor.clone().detach().requires_grad_(True), rather than torch.tensor(sourceTensor).\n",
      "/home/zhengfang/.local/lib/python3.6/site-packages/ipykernel_launcher.py:22: UserWarning: To copy construct from a tensor, it is recommended to use sourceTensor.clone().detach() or sourceTensor.clone().detach().requires_grad_(True), rather than torch.tensor(sourceTensor).\n"
     ]
    },
    {
     "name": "stdout",
     "output_type": "stream",
     "text": [
      "acc_test:  0  \n"
     ]
    },
    {
     "name": "stderr",
     "output_type": "stream",
     "text": [
      "/home/zhengfang/.local/lib/python3.6/site-packages/ipykernel_launcher.py:21: UserWarning: To copy construct from a tensor, it is recommended to use sourceTensor.clone().detach() or sourceTensor.clone().detach().requires_grad_(True), rather than torch.tensor(sourceTensor).\n",
      "/home/zhengfang/.local/lib/python3.6/site-packages/ipykernel_launcher.py:22: UserWarning: To copy construct from a tensor, it is recommended to use sourceTensor.clone().detach() or sourceTensor.clone().detach().requires_grad_(True), rather than torch.tensor(sourceTensor).\n"
     ]
    },
    {
     "name": "stdout",
     "output_type": "stream",
     "text": [
      "acc_test:  0  \n"
     ]
    },
    {
     "name": "stderr",
     "output_type": "stream",
     "text": [
      "/home/zhengfang/.local/lib/python3.6/site-packages/ipykernel_launcher.py:21: UserWarning: To copy construct from a tensor, it is recommended to use sourceTensor.clone().detach() or sourceTensor.clone().detach().requires_grad_(True), rather than torch.tensor(sourceTensor).\n",
      "/home/zhengfang/.local/lib/python3.6/site-packages/ipykernel_launcher.py:22: UserWarning: To copy construct from a tensor, it is recommended to use sourceTensor.clone().detach() or sourceTensor.clone().detach().requires_grad_(True), rather than torch.tensor(sourceTensor).\n"
     ]
    },
    {
     "name": "stdout",
     "output_type": "stream",
     "text": [
      "acc_test:  0  \n"
     ]
    },
    {
     "name": "stderr",
     "output_type": "stream",
     "text": [
      "/home/zhengfang/.local/lib/python3.6/site-packages/ipykernel_launcher.py:21: UserWarning: To copy construct from a tensor, it is recommended to use sourceTensor.clone().detach() or sourceTensor.clone().detach().requires_grad_(True), rather than torch.tensor(sourceTensor).\n",
      "/home/zhengfang/.local/lib/python3.6/site-packages/ipykernel_launcher.py:22: UserWarning: To copy construct from a tensor, it is recommended to use sourceTensor.clone().detach() or sourceTensor.clone().detach().requires_grad_(True), rather than torch.tensor(sourceTensor).\n"
     ]
    },
    {
     "name": "stdout",
     "output_type": "stream",
     "text": [
      "acc_test:  0  \n"
     ]
    },
    {
     "name": "stderr",
     "output_type": "stream",
     "text": [
      "/home/zhengfang/.local/lib/python3.6/site-packages/ipykernel_launcher.py:21: UserWarning: To copy construct from a tensor, it is recommended to use sourceTensor.clone().detach() or sourceTensor.clone().detach().requires_grad_(True), rather than torch.tensor(sourceTensor).\n",
      "/home/zhengfang/.local/lib/python3.6/site-packages/ipykernel_launcher.py:22: UserWarning: To copy construct from a tensor, it is recommended to use sourceTensor.clone().detach() or sourceTensor.clone().detach().requires_grad_(True), rather than torch.tensor(sourceTensor).\n"
     ]
    },
    {
     "name": "stdout",
     "output_type": "stream",
     "text": [
      "acc_test:  0  \n"
     ]
    },
    {
     "name": "stderr",
     "output_type": "stream",
     "text": [
      "/home/zhengfang/.local/lib/python3.6/site-packages/ipykernel_launcher.py:21: UserWarning: To copy construct from a tensor, it is recommended to use sourceTensor.clone().detach() or sourceTensor.clone().detach().requires_grad_(True), rather than torch.tensor(sourceTensor).\n",
      "/home/zhengfang/.local/lib/python3.6/site-packages/ipykernel_launcher.py:22: UserWarning: To copy construct from a tensor, it is recommended to use sourceTensor.clone().detach() or sourceTensor.clone().detach().requires_grad_(True), rather than torch.tensor(sourceTensor).\n"
     ]
    },
    {
     "name": "stdout",
     "output_type": "stream",
     "text": [
      "acc_test:  0  \n"
     ]
    },
    {
     "name": "stderr",
     "output_type": "stream",
     "text": [
      "/home/zhengfang/.local/lib/python3.6/site-packages/ipykernel_launcher.py:21: UserWarning: To copy construct from a tensor, it is recommended to use sourceTensor.clone().detach() or sourceTensor.clone().detach().requires_grad_(True), rather than torch.tensor(sourceTensor).\n",
      "/home/zhengfang/.local/lib/python3.6/site-packages/ipykernel_launcher.py:22: UserWarning: To copy construct from a tensor, it is recommended to use sourceTensor.clone().detach() or sourceTensor.clone().detach().requires_grad_(True), rather than torch.tensor(sourceTensor).\n"
     ]
    },
    {
     "name": "stdout",
     "output_type": "stream",
     "text": [
      "acc_test:  0  \n"
     ]
    },
    {
     "name": "stderr",
     "output_type": "stream",
     "text": [
      "/home/zhengfang/.local/lib/python3.6/site-packages/ipykernel_launcher.py:21: UserWarning: To copy construct from a tensor, it is recommended to use sourceTensor.clone().detach() or sourceTensor.clone().detach().requires_grad_(True), rather than torch.tensor(sourceTensor).\n",
      "/home/zhengfang/.local/lib/python3.6/site-packages/ipykernel_launcher.py:22: UserWarning: To copy construct from a tensor, it is recommended to use sourceTensor.clone().detach() or sourceTensor.clone().detach().requires_grad_(True), rather than torch.tensor(sourceTensor).\n"
     ]
    },
    {
     "name": "stdout",
     "output_type": "stream",
     "text": [
      "acc_test:  0  \n"
     ]
    },
    {
     "name": "stderr",
     "output_type": "stream",
     "text": [
      "/home/zhengfang/.local/lib/python3.6/site-packages/ipykernel_launcher.py:21: UserWarning: To copy construct from a tensor, it is recommended to use sourceTensor.clone().detach() or sourceTensor.clone().detach().requires_grad_(True), rather than torch.tensor(sourceTensor).\n",
      "/home/zhengfang/.local/lib/python3.6/site-packages/ipykernel_launcher.py:22: UserWarning: To copy construct from a tensor, it is recommended to use sourceTensor.clone().detach() or sourceTensor.clone().detach().requires_grad_(True), rather than torch.tensor(sourceTensor).\n"
     ]
    },
    {
     "name": "stdout",
     "output_type": "stream",
     "text": [
      "acc_test:  0  \n"
     ]
    },
    {
     "name": "stderr",
     "output_type": "stream",
     "text": [
      "/home/zhengfang/.local/lib/python3.6/site-packages/ipykernel_launcher.py:21: UserWarning: To copy construct from a tensor, it is recommended to use sourceTensor.clone().detach() or sourceTensor.clone().detach().requires_grad_(True), rather than torch.tensor(sourceTensor).\n",
      "/home/zhengfang/.local/lib/python3.6/site-packages/ipykernel_launcher.py:22: UserWarning: To copy construct from a tensor, it is recommended to use sourceTensor.clone().detach() or sourceTensor.clone().detach().requires_grad_(True), rather than torch.tensor(sourceTensor).\n"
     ]
    },
    {
     "name": "stdout",
     "output_type": "stream",
     "text": [
      "acc_test:  0  \n"
     ]
    },
    {
     "name": "stderr",
     "output_type": "stream",
     "text": [
      "/home/zhengfang/.local/lib/python3.6/site-packages/ipykernel_launcher.py:21: UserWarning: To copy construct from a tensor, it is recommended to use sourceTensor.clone().detach() or sourceTensor.clone().detach().requires_grad_(True), rather than torch.tensor(sourceTensor).\n",
      "/home/zhengfang/.local/lib/python3.6/site-packages/ipykernel_launcher.py:22: UserWarning: To copy construct from a tensor, it is recommended to use sourceTensor.clone().detach() or sourceTensor.clone().detach().requires_grad_(True), rather than torch.tensor(sourceTensor).\n"
     ]
    },
    {
     "name": "stdout",
     "output_type": "stream",
     "text": [
      "acc_test:  0  \n"
     ]
    },
    {
     "name": "stderr",
     "output_type": "stream",
     "text": [
      "/home/zhengfang/.local/lib/python3.6/site-packages/ipykernel_launcher.py:21: UserWarning: To copy construct from a tensor, it is recommended to use sourceTensor.clone().detach() or sourceTensor.clone().detach().requires_grad_(True), rather than torch.tensor(sourceTensor).\n",
      "/home/zhengfang/.local/lib/python3.6/site-packages/ipykernel_launcher.py:22: UserWarning: To copy construct from a tensor, it is recommended to use sourceTensor.clone().detach() or sourceTensor.clone().detach().requires_grad_(True), rather than torch.tensor(sourceTensor).\n"
     ]
    },
    {
     "name": "stdout",
     "output_type": "stream",
     "text": [
      "acc_test:  0  \n"
     ]
    },
    {
     "name": "stderr",
     "output_type": "stream",
     "text": [
      "/home/zhengfang/.local/lib/python3.6/site-packages/ipykernel_launcher.py:21: UserWarning: To copy construct from a tensor, it is recommended to use sourceTensor.clone().detach() or sourceTensor.clone().detach().requires_grad_(True), rather than torch.tensor(sourceTensor).\n",
      "/home/zhengfang/.local/lib/python3.6/site-packages/ipykernel_launcher.py:22: UserWarning: To copy construct from a tensor, it is recommended to use sourceTensor.clone().detach() or sourceTensor.clone().detach().requires_grad_(True), rather than torch.tensor(sourceTensor).\n"
     ]
    },
    {
     "name": "stdout",
     "output_type": "stream",
     "text": [
      "acc_test:  0  \n"
     ]
    },
    {
     "name": "stderr",
     "output_type": "stream",
     "text": [
      "/home/zhengfang/.local/lib/python3.6/site-packages/ipykernel_launcher.py:21: UserWarning: To copy construct from a tensor, it is recommended to use sourceTensor.clone().detach() or sourceTensor.clone().detach().requires_grad_(True), rather than torch.tensor(sourceTensor).\n",
      "/home/zhengfang/.local/lib/python3.6/site-packages/ipykernel_launcher.py:22: UserWarning: To copy construct from a tensor, it is recommended to use sourceTensor.clone().detach() or sourceTensor.clone().detach().requires_grad_(True), rather than torch.tensor(sourceTensor).\n"
     ]
    },
    {
     "name": "stdout",
     "output_type": "stream",
     "text": [
      "acc_test:  0  \n"
     ]
    },
    {
     "name": "stderr",
     "output_type": "stream",
     "text": [
      "/home/zhengfang/.local/lib/python3.6/site-packages/ipykernel_launcher.py:21: UserWarning: To copy construct from a tensor, it is recommended to use sourceTensor.clone().detach() or sourceTensor.clone().detach().requires_grad_(True), rather than torch.tensor(sourceTensor).\n",
      "/home/zhengfang/.local/lib/python3.6/site-packages/ipykernel_launcher.py:22: UserWarning: To copy construct from a tensor, it is recommended to use sourceTensor.clone().detach() or sourceTensor.clone().detach().requires_grad_(True), rather than torch.tensor(sourceTensor).\n"
     ]
    },
    {
     "name": "stdout",
     "output_type": "stream",
     "text": [
      "acc_test:  0  \n"
     ]
    },
    {
     "name": "stderr",
     "output_type": "stream",
     "text": [
      "/home/zhengfang/.local/lib/python3.6/site-packages/ipykernel_launcher.py:21: UserWarning: To copy construct from a tensor, it is recommended to use sourceTensor.clone().detach() or sourceTensor.clone().detach().requires_grad_(True), rather than torch.tensor(sourceTensor).\n",
      "/home/zhengfang/.local/lib/python3.6/site-packages/ipykernel_launcher.py:22: UserWarning: To copy construct from a tensor, it is recommended to use sourceTensor.clone().detach() or sourceTensor.clone().detach().requires_grad_(True), rather than torch.tensor(sourceTensor).\n"
     ]
    },
    {
     "name": "stdout",
     "output_type": "stream",
     "text": [
      "acc_test:  0  \n"
     ]
    },
    {
     "name": "stderr",
     "output_type": "stream",
     "text": [
      "/home/zhengfang/.local/lib/python3.6/site-packages/ipykernel_launcher.py:21: UserWarning: To copy construct from a tensor, it is recommended to use sourceTensor.clone().detach() or sourceTensor.clone().detach().requires_grad_(True), rather than torch.tensor(sourceTensor).\n",
      "/home/zhengfang/.local/lib/python3.6/site-packages/ipykernel_launcher.py:22: UserWarning: To copy construct from a tensor, it is recommended to use sourceTensor.clone().detach() or sourceTensor.clone().detach().requires_grad_(True), rather than torch.tensor(sourceTensor).\n"
     ]
    },
    {
     "name": "stdout",
     "output_type": "stream",
     "text": [
      "acc_test:  0  \n"
     ]
    },
    {
     "name": "stderr",
     "output_type": "stream",
     "text": [
      "/home/zhengfang/.local/lib/python3.6/site-packages/ipykernel_launcher.py:21: UserWarning: To copy construct from a tensor, it is recommended to use sourceTensor.clone().detach() or sourceTensor.clone().detach().requires_grad_(True), rather than torch.tensor(sourceTensor).\n",
      "/home/zhengfang/.local/lib/python3.6/site-packages/ipykernel_launcher.py:22: UserWarning: To copy construct from a tensor, it is recommended to use sourceTensor.clone().detach() or sourceTensor.clone().detach().requires_grad_(True), rather than torch.tensor(sourceTensor).\n"
     ]
    },
    {
     "name": "stdout",
     "output_type": "stream",
     "text": [
      "acc_test:  0  \n"
     ]
    },
    {
     "name": "stderr",
     "output_type": "stream",
     "text": [
      "/home/zhengfang/.local/lib/python3.6/site-packages/ipykernel_launcher.py:21: UserWarning: To copy construct from a tensor, it is recommended to use sourceTensor.clone().detach() or sourceTensor.clone().detach().requires_grad_(True), rather than torch.tensor(sourceTensor).\n",
      "/home/zhengfang/.local/lib/python3.6/site-packages/ipykernel_launcher.py:22: UserWarning: To copy construct from a tensor, it is recommended to use sourceTensor.clone().detach() or sourceTensor.clone().detach().requires_grad_(True), rather than torch.tensor(sourceTensor).\n"
     ]
    },
    {
     "name": "stdout",
     "output_type": "stream",
     "text": [
      "acc_test:  0  \n"
     ]
    },
    {
     "name": "stderr",
     "output_type": "stream",
     "text": [
      "/home/zhengfang/.local/lib/python3.6/site-packages/ipykernel_launcher.py:21: UserWarning: To copy construct from a tensor, it is recommended to use sourceTensor.clone().detach() or sourceTensor.clone().detach().requires_grad_(True), rather than torch.tensor(sourceTensor).\n",
      "/home/zhengfang/.local/lib/python3.6/site-packages/ipykernel_launcher.py:22: UserWarning: To copy construct from a tensor, it is recommended to use sourceTensor.clone().detach() or sourceTensor.clone().detach().requires_grad_(True), rather than torch.tensor(sourceTensor).\n"
     ]
    },
    {
     "name": "stdout",
     "output_type": "stream",
     "text": [
      "acc_test:  0  \n"
     ]
    },
    {
     "name": "stderr",
     "output_type": "stream",
     "text": [
      "/home/zhengfang/.local/lib/python3.6/site-packages/ipykernel_launcher.py:21: UserWarning: To copy construct from a tensor, it is recommended to use sourceTensor.clone().detach() or sourceTensor.clone().detach().requires_grad_(True), rather than torch.tensor(sourceTensor).\n",
      "/home/zhengfang/.local/lib/python3.6/site-packages/ipykernel_launcher.py:22: UserWarning: To copy construct from a tensor, it is recommended to use sourceTensor.clone().detach() or sourceTensor.clone().detach().requires_grad_(True), rather than torch.tensor(sourceTensor).\n"
     ]
    },
    {
     "name": "stdout",
     "output_type": "stream",
     "text": [
      "acc_test:  0  \n"
     ]
    },
    {
     "name": "stderr",
     "output_type": "stream",
     "text": [
      "/home/zhengfang/.local/lib/python3.6/site-packages/ipykernel_launcher.py:21: UserWarning: To copy construct from a tensor, it is recommended to use sourceTensor.clone().detach() or sourceTensor.clone().detach().requires_grad_(True), rather than torch.tensor(sourceTensor).\n",
      "/home/zhengfang/.local/lib/python3.6/site-packages/ipykernel_launcher.py:22: UserWarning: To copy construct from a tensor, it is recommended to use sourceTensor.clone().detach() or sourceTensor.clone().detach().requires_grad_(True), rather than torch.tensor(sourceTensor).\n"
     ]
    },
    {
     "name": "stdout",
     "output_type": "stream",
     "text": [
      "acc_test:  0  \n"
     ]
    },
    {
     "name": "stderr",
     "output_type": "stream",
     "text": [
      "/home/zhengfang/.local/lib/python3.6/site-packages/ipykernel_launcher.py:21: UserWarning: To copy construct from a tensor, it is recommended to use sourceTensor.clone().detach() or sourceTensor.clone().detach().requires_grad_(True), rather than torch.tensor(sourceTensor).\n",
      "/home/zhengfang/.local/lib/python3.6/site-packages/ipykernel_launcher.py:22: UserWarning: To copy construct from a tensor, it is recommended to use sourceTensor.clone().detach() or sourceTensor.clone().detach().requires_grad_(True), rather than torch.tensor(sourceTensor).\n"
     ]
    },
    {
     "name": "stdout",
     "output_type": "stream",
     "text": [
      "acc_test:  0  \n"
     ]
    },
    {
     "name": "stderr",
     "output_type": "stream",
     "text": [
      "/home/zhengfang/.local/lib/python3.6/site-packages/ipykernel_launcher.py:21: UserWarning: To copy construct from a tensor, it is recommended to use sourceTensor.clone().detach() or sourceTensor.clone().detach().requires_grad_(True), rather than torch.tensor(sourceTensor).\n",
      "/home/zhengfang/.local/lib/python3.6/site-packages/ipykernel_launcher.py:22: UserWarning: To copy construct from a tensor, it is recommended to use sourceTensor.clone().detach() or sourceTensor.clone().detach().requires_grad_(True), rather than torch.tensor(sourceTensor).\n"
     ]
    },
    {
     "name": "stdout",
     "output_type": "stream",
     "text": [
      "acc_test:  0  \n"
     ]
    },
    {
     "name": "stderr",
     "output_type": "stream",
     "text": [
      "/home/zhengfang/.local/lib/python3.6/site-packages/ipykernel_launcher.py:21: UserWarning: To copy construct from a tensor, it is recommended to use sourceTensor.clone().detach() or sourceTensor.clone().detach().requires_grad_(True), rather than torch.tensor(sourceTensor).\n",
      "/home/zhengfang/.local/lib/python3.6/site-packages/ipykernel_launcher.py:22: UserWarning: To copy construct from a tensor, it is recommended to use sourceTensor.clone().detach() or sourceTensor.clone().detach().requires_grad_(True), rather than torch.tensor(sourceTensor).\n"
     ]
    },
    {
     "name": "stdout",
     "output_type": "stream",
     "text": [
      "acc_test:  0  \n"
     ]
    },
    {
     "name": "stderr",
     "output_type": "stream",
     "text": [
      "/home/zhengfang/.local/lib/python3.6/site-packages/ipykernel_launcher.py:21: UserWarning: To copy construct from a tensor, it is recommended to use sourceTensor.clone().detach() or sourceTensor.clone().detach().requires_grad_(True), rather than torch.tensor(sourceTensor).\n",
      "/home/zhengfang/.local/lib/python3.6/site-packages/ipykernel_launcher.py:22: UserWarning: To copy construct from a tensor, it is recommended to use sourceTensor.clone().detach() or sourceTensor.clone().detach().requires_grad_(True), rather than torch.tensor(sourceTensor).\n"
     ]
    },
    {
     "name": "stdout",
     "output_type": "stream",
     "text": [
      "acc_test:  0  \n"
     ]
    },
    {
     "name": "stderr",
     "output_type": "stream",
     "text": [
      "/home/zhengfang/.local/lib/python3.6/site-packages/ipykernel_launcher.py:21: UserWarning: To copy construct from a tensor, it is recommended to use sourceTensor.clone().detach() or sourceTensor.clone().detach().requires_grad_(True), rather than torch.tensor(sourceTensor).\n",
      "/home/zhengfang/.local/lib/python3.6/site-packages/ipykernel_launcher.py:22: UserWarning: To copy construct from a tensor, it is recommended to use sourceTensor.clone().detach() or sourceTensor.clone().detach().requires_grad_(True), rather than torch.tensor(sourceTensor).\n"
     ]
    },
    {
     "name": "stdout",
     "output_type": "stream",
     "text": [
      "acc_test:  0  \n"
     ]
    },
    {
     "name": "stderr",
     "output_type": "stream",
     "text": [
      "/home/zhengfang/.local/lib/python3.6/site-packages/ipykernel_launcher.py:21: UserWarning: To copy construct from a tensor, it is recommended to use sourceTensor.clone().detach() or sourceTensor.clone().detach().requires_grad_(True), rather than torch.tensor(sourceTensor).\n",
      "/home/zhengfang/.local/lib/python3.6/site-packages/ipykernel_launcher.py:22: UserWarning: To copy construct from a tensor, it is recommended to use sourceTensor.clone().detach() or sourceTensor.clone().detach().requires_grad_(True), rather than torch.tensor(sourceTensor).\n"
     ]
    },
    {
     "name": "stdout",
     "output_type": "stream",
     "text": [
      "acc_test:  0  \n"
     ]
    },
    {
     "name": "stderr",
     "output_type": "stream",
     "text": [
      "/home/zhengfang/.local/lib/python3.6/site-packages/ipykernel_launcher.py:21: UserWarning: To copy construct from a tensor, it is recommended to use sourceTensor.clone().detach() or sourceTensor.clone().detach().requires_grad_(True), rather than torch.tensor(sourceTensor).\n",
      "/home/zhengfang/.local/lib/python3.6/site-packages/ipykernel_launcher.py:22: UserWarning: To copy construct from a tensor, it is recommended to use sourceTensor.clone().detach() or sourceTensor.clone().detach().requires_grad_(True), rather than torch.tensor(sourceTensor).\n"
     ]
    },
    {
     "name": "stdout",
     "output_type": "stream",
     "text": [
      "acc_test:  0  \n"
     ]
    },
    {
     "name": "stderr",
     "output_type": "stream",
     "text": [
      "/home/zhengfang/.local/lib/python3.6/site-packages/ipykernel_launcher.py:21: UserWarning: To copy construct from a tensor, it is recommended to use sourceTensor.clone().detach() or sourceTensor.clone().detach().requires_grad_(True), rather than torch.tensor(sourceTensor).\n",
      "/home/zhengfang/.local/lib/python3.6/site-packages/ipykernel_launcher.py:22: UserWarning: To copy construct from a tensor, it is recommended to use sourceTensor.clone().detach() or sourceTensor.clone().detach().requires_grad_(True), rather than torch.tensor(sourceTensor).\n"
     ]
    },
    {
     "name": "stdout",
     "output_type": "stream",
     "text": [
      "acc_test:  0  \n"
     ]
    },
    {
     "name": "stderr",
     "output_type": "stream",
     "text": [
      "/home/zhengfang/.local/lib/python3.6/site-packages/ipykernel_launcher.py:21: UserWarning: To copy construct from a tensor, it is recommended to use sourceTensor.clone().detach() or sourceTensor.clone().detach().requires_grad_(True), rather than torch.tensor(sourceTensor).\n",
      "/home/zhengfang/.local/lib/python3.6/site-packages/ipykernel_launcher.py:22: UserWarning: To copy construct from a tensor, it is recommended to use sourceTensor.clone().detach() or sourceTensor.clone().detach().requires_grad_(True), rather than torch.tensor(sourceTensor).\n"
     ]
    },
    {
     "name": "stdout",
     "output_type": "stream",
     "text": [
      "acc_test:  0  \n"
     ]
    },
    {
     "name": "stderr",
     "output_type": "stream",
     "text": [
      "/home/zhengfang/.local/lib/python3.6/site-packages/ipykernel_launcher.py:21: UserWarning: To copy construct from a tensor, it is recommended to use sourceTensor.clone().detach() or sourceTensor.clone().detach().requires_grad_(True), rather than torch.tensor(sourceTensor).\n",
      "/home/zhengfang/.local/lib/python3.6/site-packages/ipykernel_launcher.py:22: UserWarning: To copy construct from a tensor, it is recommended to use sourceTensor.clone().detach() or sourceTensor.clone().detach().requires_grad_(True), rather than torch.tensor(sourceTensor).\n"
     ]
    },
    {
     "name": "stdout",
     "output_type": "stream",
     "text": [
      "acc_test:  0  \n"
     ]
    },
    {
     "name": "stderr",
     "output_type": "stream",
     "text": [
      "/home/zhengfang/.local/lib/python3.6/site-packages/ipykernel_launcher.py:21: UserWarning: To copy construct from a tensor, it is recommended to use sourceTensor.clone().detach() or sourceTensor.clone().detach().requires_grad_(True), rather than torch.tensor(sourceTensor).\n",
      "/home/zhengfang/.local/lib/python3.6/site-packages/ipykernel_launcher.py:22: UserWarning: To copy construct from a tensor, it is recommended to use sourceTensor.clone().detach() or sourceTensor.clone().detach().requires_grad_(True), rather than torch.tensor(sourceTensor).\n"
     ]
    },
    {
     "name": "stdout",
     "output_type": "stream",
     "text": [
      "acc_test:  0  \n"
     ]
    },
    {
     "name": "stderr",
     "output_type": "stream",
     "text": [
      "/home/zhengfang/.local/lib/python3.6/site-packages/ipykernel_launcher.py:21: UserWarning: To copy construct from a tensor, it is recommended to use sourceTensor.clone().detach() or sourceTensor.clone().detach().requires_grad_(True), rather than torch.tensor(sourceTensor).\n",
      "/home/zhengfang/.local/lib/python3.6/site-packages/ipykernel_launcher.py:22: UserWarning: To copy construct from a tensor, it is recommended to use sourceTensor.clone().detach() or sourceTensor.clone().detach().requires_grad_(True), rather than torch.tensor(sourceTensor).\n"
     ]
    },
    {
     "name": "stdout",
     "output_type": "stream",
     "text": [
      "acc_test:  0  \n"
     ]
    },
    {
     "name": "stderr",
     "output_type": "stream",
     "text": [
      "/home/zhengfang/.local/lib/python3.6/site-packages/ipykernel_launcher.py:21: UserWarning: To copy construct from a tensor, it is recommended to use sourceTensor.clone().detach() or sourceTensor.clone().detach().requires_grad_(True), rather than torch.tensor(sourceTensor).\n",
      "/home/zhengfang/.local/lib/python3.6/site-packages/ipykernel_launcher.py:22: UserWarning: To copy construct from a tensor, it is recommended to use sourceTensor.clone().detach() or sourceTensor.clone().detach().requires_grad_(True), rather than torch.tensor(sourceTensor).\n"
     ]
    },
    {
     "name": "stdout",
     "output_type": "stream",
     "text": [
      "acc_test:  0  \n"
     ]
    },
    {
     "name": "stderr",
     "output_type": "stream",
     "text": [
      "/home/zhengfang/.local/lib/python3.6/site-packages/ipykernel_launcher.py:21: UserWarning: To copy construct from a tensor, it is recommended to use sourceTensor.clone().detach() or sourceTensor.clone().detach().requires_grad_(True), rather than torch.tensor(sourceTensor).\n",
      "/home/zhengfang/.local/lib/python3.6/site-packages/ipykernel_launcher.py:22: UserWarning: To copy construct from a tensor, it is recommended to use sourceTensor.clone().detach() or sourceTensor.clone().detach().requires_grad_(True), rather than torch.tensor(sourceTensor).\n"
     ]
    },
    {
     "name": "stdout",
     "output_type": "stream",
     "text": [
      "acc_test:  0  \n"
     ]
    },
    {
     "name": "stderr",
     "output_type": "stream",
     "text": [
      "/home/zhengfang/.local/lib/python3.6/site-packages/ipykernel_launcher.py:21: UserWarning: To copy construct from a tensor, it is recommended to use sourceTensor.clone().detach() or sourceTensor.clone().detach().requires_grad_(True), rather than torch.tensor(sourceTensor).\n",
      "/home/zhengfang/.local/lib/python3.6/site-packages/ipykernel_launcher.py:22: UserWarning: To copy construct from a tensor, it is recommended to use sourceTensor.clone().detach() or sourceTensor.clone().detach().requires_grad_(True), rather than torch.tensor(sourceTensor).\n"
     ]
    },
    {
     "name": "stdout",
     "output_type": "stream",
     "text": [
      "acc_test:  0  \n"
     ]
    },
    {
     "name": "stderr",
     "output_type": "stream",
     "text": [
      "/home/zhengfang/.local/lib/python3.6/site-packages/ipykernel_launcher.py:21: UserWarning: To copy construct from a tensor, it is recommended to use sourceTensor.clone().detach() or sourceTensor.clone().detach().requires_grad_(True), rather than torch.tensor(sourceTensor).\n",
      "/home/zhengfang/.local/lib/python3.6/site-packages/ipykernel_launcher.py:22: UserWarning: To copy construct from a tensor, it is recommended to use sourceTensor.clone().detach() or sourceTensor.clone().detach().requires_grad_(True), rather than torch.tensor(sourceTensor).\n"
     ]
    },
    {
     "name": "stdout",
     "output_type": "stream",
     "text": [
      "acc_test:  0  \n"
     ]
    },
    {
     "name": "stderr",
     "output_type": "stream",
     "text": [
      "/home/zhengfang/.local/lib/python3.6/site-packages/ipykernel_launcher.py:21: UserWarning: To copy construct from a tensor, it is recommended to use sourceTensor.clone().detach() or sourceTensor.clone().detach().requires_grad_(True), rather than torch.tensor(sourceTensor).\n",
      "/home/zhengfang/.local/lib/python3.6/site-packages/ipykernel_launcher.py:22: UserWarning: To copy construct from a tensor, it is recommended to use sourceTensor.clone().detach() or sourceTensor.clone().detach().requires_grad_(True), rather than torch.tensor(sourceTensor).\n"
     ]
    },
    {
     "name": "stdout",
     "output_type": "stream",
     "text": [
      "acc_test:  0  \n"
     ]
    },
    {
     "name": "stderr",
     "output_type": "stream",
     "text": [
      "/home/zhengfang/.local/lib/python3.6/site-packages/ipykernel_launcher.py:21: UserWarning: To copy construct from a tensor, it is recommended to use sourceTensor.clone().detach() or sourceTensor.clone().detach().requires_grad_(True), rather than torch.tensor(sourceTensor).\n",
      "/home/zhengfang/.local/lib/python3.6/site-packages/ipykernel_launcher.py:22: UserWarning: To copy construct from a tensor, it is recommended to use sourceTensor.clone().detach() or sourceTensor.clone().detach().requires_grad_(True), rather than torch.tensor(sourceTensor).\n"
     ]
    },
    {
     "name": "stdout",
     "output_type": "stream",
     "text": [
      "acc_test:  0  \n"
     ]
    },
    {
     "name": "stderr",
     "output_type": "stream",
     "text": [
      "/home/zhengfang/.local/lib/python3.6/site-packages/ipykernel_launcher.py:21: UserWarning: To copy construct from a tensor, it is recommended to use sourceTensor.clone().detach() or sourceTensor.clone().detach().requires_grad_(True), rather than torch.tensor(sourceTensor).\n",
      "/home/zhengfang/.local/lib/python3.6/site-packages/ipykernel_launcher.py:22: UserWarning: To copy construct from a tensor, it is recommended to use sourceTensor.clone().detach() or sourceTensor.clone().detach().requires_grad_(True), rather than torch.tensor(sourceTensor).\n"
     ]
    },
    {
     "name": "stdout",
     "output_type": "stream",
     "text": [
      "acc_test:  0  \n"
     ]
    },
    {
     "name": "stderr",
     "output_type": "stream",
     "text": [
      "/home/zhengfang/.local/lib/python3.6/site-packages/ipykernel_launcher.py:21: UserWarning: To copy construct from a tensor, it is recommended to use sourceTensor.clone().detach() or sourceTensor.clone().detach().requires_grad_(True), rather than torch.tensor(sourceTensor).\n",
      "/home/zhengfang/.local/lib/python3.6/site-packages/ipykernel_launcher.py:22: UserWarning: To copy construct from a tensor, it is recommended to use sourceTensor.clone().detach() or sourceTensor.clone().detach().requires_grad_(True), rather than torch.tensor(sourceTensor).\n"
     ]
    },
    {
     "name": "stdout",
     "output_type": "stream",
     "text": [
      "acc_test:  0  \n"
     ]
    },
    {
     "name": "stderr",
     "output_type": "stream",
     "text": [
      "/home/zhengfang/.local/lib/python3.6/site-packages/ipykernel_launcher.py:21: UserWarning: To copy construct from a tensor, it is recommended to use sourceTensor.clone().detach() or sourceTensor.clone().detach().requires_grad_(True), rather than torch.tensor(sourceTensor).\n",
      "/home/zhengfang/.local/lib/python3.6/site-packages/ipykernel_launcher.py:22: UserWarning: To copy construct from a tensor, it is recommended to use sourceTensor.clone().detach() or sourceTensor.clone().detach().requires_grad_(True), rather than torch.tensor(sourceTensor).\n"
     ]
    },
    {
     "name": "stdout",
     "output_type": "stream",
     "text": [
      "acc_test:  0  \n"
     ]
    },
    {
     "name": "stderr",
     "output_type": "stream",
     "text": [
      "/home/zhengfang/.local/lib/python3.6/site-packages/ipykernel_launcher.py:21: UserWarning: To copy construct from a tensor, it is recommended to use sourceTensor.clone().detach() or sourceTensor.clone().detach().requires_grad_(True), rather than torch.tensor(sourceTensor).\n",
      "/home/zhengfang/.local/lib/python3.6/site-packages/ipykernel_launcher.py:22: UserWarning: To copy construct from a tensor, it is recommended to use sourceTensor.clone().detach() or sourceTensor.clone().detach().requires_grad_(True), rather than torch.tensor(sourceTensor).\n"
     ]
    },
    {
     "name": "stdout",
     "output_type": "stream",
     "text": [
      "acc_test:  0  \n"
     ]
    },
    {
     "name": "stderr",
     "output_type": "stream",
     "text": [
      "/home/zhengfang/.local/lib/python3.6/site-packages/ipykernel_launcher.py:21: UserWarning: To copy construct from a tensor, it is recommended to use sourceTensor.clone().detach() or sourceTensor.clone().detach().requires_grad_(True), rather than torch.tensor(sourceTensor).\n",
      "/home/zhengfang/.local/lib/python3.6/site-packages/ipykernel_launcher.py:22: UserWarning: To copy construct from a tensor, it is recommended to use sourceTensor.clone().detach() or sourceTensor.clone().detach().requires_grad_(True), rather than torch.tensor(sourceTensor).\n"
     ]
    },
    {
     "name": "stdout",
     "output_type": "stream",
     "text": [
      "acc_test:  0  \n"
     ]
    },
    {
     "name": "stderr",
     "output_type": "stream",
     "text": [
      "/home/zhengfang/.local/lib/python3.6/site-packages/ipykernel_launcher.py:21: UserWarning: To copy construct from a tensor, it is recommended to use sourceTensor.clone().detach() or sourceTensor.clone().detach().requires_grad_(True), rather than torch.tensor(sourceTensor).\n",
      "/home/zhengfang/.local/lib/python3.6/site-packages/ipykernel_launcher.py:22: UserWarning: To copy construct from a tensor, it is recommended to use sourceTensor.clone().detach() or sourceTensor.clone().detach().requires_grad_(True), rather than torch.tensor(sourceTensor).\n"
     ]
    },
    {
     "name": "stdout",
     "output_type": "stream",
     "text": [
      "acc_test:  0  \n"
     ]
    },
    {
     "name": "stderr",
     "output_type": "stream",
     "text": [
      "/home/zhengfang/.local/lib/python3.6/site-packages/ipykernel_launcher.py:21: UserWarning: To copy construct from a tensor, it is recommended to use sourceTensor.clone().detach() or sourceTensor.clone().detach().requires_grad_(True), rather than torch.tensor(sourceTensor).\n",
      "/home/zhengfang/.local/lib/python3.6/site-packages/ipykernel_launcher.py:22: UserWarning: To copy construct from a tensor, it is recommended to use sourceTensor.clone().detach() or sourceTensor.clone().detach().requires_grad_(True), rather than torch.tensor(sourceTensor).\n"
     ]
    },
    {
     "name": "stdout",
     "output_type": "stream",
     "text": [
      "acc_test:  0  \n"
     ]
    },
    {
     "name": "stderr",
     "output_type": "stream",
     "text": [
      "/home/zhengfang/.local/lib/python3.6/site-packages/ipykernel_launcher.py:21: UserWarning: To copy construct from a tensor, it is recommended to use sourceTensor.clone().detach() or sourceTensor.clone().detach().requires_grad_(True), rather than torch.tensor(sourceTensor).\n",
      "/home/zhengfang/.local/lib/python3.6/site-packages/ipykernel_launcher.py:22: UserWarning: To copy construct from a tensor, it is recommended to use sourceTensor.clone().detach() or sourceTensor.clone().detach().requires_grad_(True), rather than torch.tensor(sourceTensor).\n"
     ]
    },
    {
     "name": "stdout",
     "output_type": "stream",
     "text": [
      "acc_test:  0  \n"
     ]
    },
    {
     "name": "stderr",
     "output_type": "stream",
     "text": [
      "/home/zhengfang/.local/lib/python3.6/site-packages/ipykernel_launcher.py:21: UserWarning: To copy construct from a tensor, it is recommended to use sourceTensor.clone().detach() or sourceTensor.clone().detach().requires_grad_(True), rather than torch.tensor(sourceTensor).\n",
      "/home/zhengfang/.local/lib/python3.6/site-packages/ipykernel_launcher.py:22: UserWarning: To copy construct from a tensor, it is recommended to use sourceTensor.clone().detach() or sourceTensor.clone().detach().requires_grad_(True), rather than torch.tensor(sourceTensor).\n"
     ]
    },
    {
     "name": "stdout",
     "output_type": "stream",
     "text": [
      "acc_test:  0  \n"
     ]
    },
    {
     "name": "stderr",
     "output_type": "stream",
     "text": [
      "/home/zhengfang/.local/lib/python3.6/site-packages/ipykernel_launcher.py:21: UserWarning: To copy construct from a tensor, it is recommended to use sourceTensor.clone().detach() or sourceTensor.clone().detach().requires_grad_(True), rather than torch.tensor(sourceTensor).\n",
      "/home/zhengfang/.local/lib/python3.6/site-packages/ipykernel_launcher.py:22: UserWarning: To copy construct from a tensor, it is recommended to use sourceTensor.clone().detach() or sourceTensor.clone().detach().requires_grad_(True), rather than torch.tensor(sourceTensor).\n"
     ]
    },
    {
     "name": "stdout",
     "output_type": "stream",
     "text": [
      "acc_test:  0  \n"
     ]
    },
    {
     "name": "stderr",
     "output_type": "stream",
     "text": [
      "/home/zhengfang/.local/lib/python3.6/site-packages/ipykernel_launcher.py:21: UserWarning: To copy construct from a tensor, it is recommended to use sourceTensor.clone().detach() or sourceTensor.clone().detach().requires_grad_(True), rather than torch.tensor(sourceTensor).\n",
      "/home/zhengfang/.local/lib/python3.6/site-packages/ipykernel_launcher.py:22: UserWarning: To copy construct from a tensor, it is recommended to use sourceTensor.clone().detach() or sourceTensor.clone().detach().requires_grad_(True), rather than torch.tensor(sourceTensor).\n"
     ]
    },
    {
     "name": "stdout",
     "output_type": "stream",
     "text": [
      "acc_test:  0  \n"
     ]
    },
    {
     "name": "stderr",
     "output_type": "stream",
     "text": [
      "/home/zhengfang/.local/lib/python3.6/site-packages/ipykernel_launcher.py:21: UserWarning: To copy construct from a tensor, it is recommended to use sourceTensor.clone().detach() or sourceTensor.clone().detach().requires_grad_(True), rather than torch.tensor(sourceTensor).\n",
      "/home/zhengfang/.local/lib/python3.6/site-packages/ipykernel_launcher.py:22: UserWarning: To copy construct from a tensor, it is recommended to use sourceTensor.clone().detach() or sourceTensor.clone().detach().requires_grad_(True), rather than torch.tensor(sourceTensor).\n"
     ]
    },
    {
     "name": "stdout",
     "output_type": "stream",
     "text": [
      "acc_test:  0  \n"
     ]
    },
    {
     "name": "stderr",
     "output_type": "stream",
     "text": [
      "/home/zhengfang/.local/lib/python3.6/site-packages/ipykernel_launcher.py:21: UserWarning: To copy construct from a tensor, it is recommended to use sourceTensor.clone().detach() or sourceTensor.clone().detach().requires_grad_(True), rather than torch.tensor(sourceTensor).\n",
      "/home/zhengfang/.local/lib/python3.6/site-packages/ipykernel_launcher.py:22: UserWarning: To copy construct from a tensor, it is recommended to use sourceTensor.clone().detach() or sourceTensor.clone().detach().requires_grad_(True), rather than torch.tensor(sourceTensor).\n"
     ]
    },
    {
     "name": "stdout",
     "output_type": "stream",
     "text": [
      "acc_test:  0  \n"
     ]
    },
    {
     "name": "stderr",
     "output_type": "stream",
     "text": [
      "/home/zhengfang/.local/lib/python3.6/site-packages/ipykernel_launcher.py:21: UserWarning: To copy construct from a tensor, it is recommended to use sourceTensor.clone().detach() or sourceTensor.clone().detach().requires_grad_(True), rather than torch.tensor(sourceTensor).\n",
      "/home/zhengfang/.local/lib/python3.6/site-packages/ipykernel_launcher.py:22: UserWarning: To copy construct from a tensor, it is recommended to use sourceTensor.clone().detach() or sourceTensor.clone().detach().requires_grad_(True), rather than torch.tensor(sourceTensor).\n"
     ]
    },
    {
     "name": "stdout",
     "output_type": "stream",
     "text": [
      "acc_test:  0  \n"
     ]
    },
    {
     "name": "stderr",
     "output_type": "stream",
     "text": [
      "/home/zhengfang/.local/lib/python3.6/site-packages/ipykernel_launcher.py:21: UserWarning: To copy construct from a tensor, it is recommended to use sourceTensor.clone().detach() or sourceTensor.clone().detach().requires_grad_(True), rather than torch.tensor(sourceTensor).\n",
      "/home/zhengfang/.local/lib/python3.6/site-packages/ipykernel_launcher.py:22: UserWarning: To copy construct from a tensor, it is recommended to use sourceTensor.clone().detach() or sourceTensor.clone().detach().requires_grad_(True), rather than torch.tensor(sourceTensor).\n"
     ]
    },
    {
     "name": "stdout",
     "output_type": "stream",
     "text": [
      "acc_test:  0  \n"
     ]
    },
    {
     "name": "stderr",
     "output_type": "stream",
     "text": [
      "/home/zhengfang/.local/lib/python3.6/site-packages/ipykernel_launcher.py:21: UserWarning: To copy construct from a tensor, it is recommended to use sourceTensor.clone().detach() or sourceTensor.clone().detach().requires_grad_(True), rather than torch.tensor(sourceTensor).\n",
      "/home/zhengfang/.local/lib/python3.6/site-packages/ipykernel_launcher.py:22: UserWarning: To copy construct from a tensor, it is recommended to use sourceTensor.clone().detach() or sourceTensor.clone().detach().requires_grad_(True), rather than torch.tensor(sourceTensor).\n"
     ]
    },
    {
     "name": "stdout",
     "output_type": "stream",
     "text": [
      "acc_test:  0  \n"
     ]
    },
    {
     "name": "stderr",
     "output_type": "stream",
     "text": [
      "/home/zhengfang/.local/lib/python3.6/site-packages/ipykernel_launcher.py:21: UserWarning: To copy construct from a tensor, it is recommended to use sourceTensor.clone().detach() or sourceTensor.clone().detach().requires_grad_(True), rather than torch.tensor(sourceTensor).\n",
      "/home/zhengfang/.local/lib/python3.6/site-packages/ipykernel_launcher.py:22: UserWarning: To copy construct from a tensor, it is recommended to use sourceTensor.clone().detach() or sourceTensor.clone().detach().requires_grad_(True), rather than torch.tensor(sourceTensor).\n"
     ]
    },
    {
     "name": "stdout",
     "output_type": "stream",
     "text": [
      "acc_test:  0  \n"
     ]
    },
    {
     "name": "stderr",
     "output_type": "stream",
     "text": [
      "/home/zhengfang/.local/lib/python3.6/site-packages/ipykernel_launcher.py:21: UserWarning: To copy construct from a tensor, it is recommended to use sourceTensor.clone().detach() or sourceTensor.clone().detach().requires_grad_(True), rather than torch.tensor(sourceTensor).\n",
      "/home/zhengfang/.local/lib/python3.6/site-packages/ipykernel_launcher.py:22: UserWarning: To copy construct from a tensor, it is recommended to use sourceTensor.clone().detach() or sourceTensor.clone().detach().requires_grad_(True), rather than torch.tensor(sourceTensor).\n"
     ]
    },
    {
     "name": "stdout",
     "output_type": "stream",
     "text": [
      "acc_test:  0  \n"
     ]
    },
    {
     "name": "stderr",
     "output_type": "stream",
     "text": [
      "/home/zhengfang/.local/lib/python3.6/site-packages/ipykernel_launcher.py:21: UserWarning: To copy construct from a tensor, it is recommended to use sourceTensor.clone().detach() or sourceTensor.clone().detach().requires_grad_(True), rather than torch.tensor(sourceTensor).\n",
      "/home/zhengfang/.local/lib/python3.6/site-packages/ipykernel_launcher.py:22: UserWarning: To copy construct from a tensor, it is recommended to use sourceTensor.clone().detach() or sourceTensor.clone().detach().requires_grad_(True), rather than torch.tensor(sourceTensor).\n"
     ]
    },
    {
     "name": "stdout",
     "output_type": "stream",
     "text": [
      "acc_test:  0  \n"
     ]
    },
    {
     "name": "stderr",
     "output_type": "stream",
     "text": [
      "/home/zhengfang/.local/lib/python3.6/site-packages/ipykernel_launcher.py:21: UserWarning: To copy construct from a tensor, it is recommended to use sourceTensor.clone().detach() or sourceTensor.clone().detach().requires_grad_(True), rather than torch.tensor(sourceTensor).\n",
      "/home/zhengfang/.local/lib/python3.6/site-packages/ipykernel_launcher.py:22: UserWarning: To copy construct from a tensor, it is recommended to use sourceTensor.clone().detach() or sourceTensor.clone().detach().requires_grad_(True), rather than torch.tensor(sourceTensor).\n"
     ]
    },
    {
     "name": "stdout",
     "output_type": "stream",
     "text": [
      "acc_test:  0  \n"
     ]
    },
    {
     "name": "stderr",
     "output_type": "stream",
     "text": [
      "/home/zhengfang/.local/lib/python3.6/site-packages/ipykernel_launcher.py:21: UserWarning: To copy construct from a tensor, it is recommended to use sourceTensor.clone().detach() or sourceTensor.clone().detach().requires_grad_(True), rather than torch.tensor(sourceTensor).\n",
      "/home/zhengfang/.local/lib/python3.6/site-packages/ipykernel_launcher.py:22: UserWarning: To copy construct from a tensor, it is recommended to use sourceTensor.clone().detach() or sourceTensor.clone().detach().requires_grad_(True), rather than torch.tensor(sourceTensor).\n"
     ]
    },
    {
     "name": "stdout",
     "output_type": "stream",
     "text": [
      "acc_test:  0  \n"
     ]
    },
    {
     "name": "stderr",
     "output_type": "stream",
     "text": [
      "/home/zhengfang/.local/lib/python3.6/site-packages/ipykernel_launcher.py:21: UserWarning: To copy construct from a tensor, it is recommended to use sourceTensor.clone().detach() or sourceTensor.clone().detach().requires_grad_(True), rather than torch.tensor(sourceTensor).\n",
      "/home/zhengfang/.local/lib/python3.6/site-packages/ipykernel_launcher.py:22: UserWarning: To copy construct from a tensor, it is recommended to use sourceTensor.clone().detach() or sourceTensor.clone().detach().requires_grad_(True), rather than torch.tensor(sourceTensor).\n"
     ]
    },
    {
     "name": "stdout",
     "output_type": "stream",
     "text": [
      "acc_test:  0  \n"
     ]
    },
    {
     "name": "stderr",
     "output_type": "stream",
     "text": [
      "/home/zhengfang/.local/lib/python3.6/site-packages/ipykernel_launcher.py:21: UserWarning: To copy construct from a tensor, it is recommended to use sourceTensor.clone().detach() or sourceTensor.clone().detach().requires_grad_(True), rather than torch.tensor(sourceTensor).\n",
      "/home/zhengfang/.local/lib/python3.6/site-packages/ipykernel_launcher.py:22: UserWarning: To copy construct from a tensor, it is recommended to use sourceTensor.clone().detach() or sourceTensor.clone().detach().requires_grad_(True), rather than torch.tensor(sourceTensor).\n"
     ]
    },
    {
     "name": "stdout",
     "output_type": "stream",
     "text": [
      "acc_test:  0  \n"
     ]
    },
    {
     "name": "stderr",
     "output_type": "stream",
     "text": [
      "/home/zhengfang/.local/lib/python3.6/site-packages/ipykernel_launcher.py:21: UserWarning: To copy construct from a tensor, it is recommended to use sourceTensor.clone().detach() or sourceTensor.clone().detach().requires_grad_(True), rather than torch.tensor(sourceTensor).\n",
      "/home/zhengfang/.local/lib/python3.6/site-packages/ipykernel_launcher.py:22: UserWarning: To copy construct from a tensor, it is recommended to use sourceTensor.clone().detach() or sourceTensor.clone().detach().requires_grad_(True), rather than torch.tensor(sourceTensor).\n"
     ]
    },
    {
     "name": "stdout",
     "output_type": "stream",
     "text": [
      "acc_test:  0  \n"
     ]
    },
    {
     "name": "stderr",
     "output_type": "stream",
     "text": [
      "/home/zhengfang/.local/lib/python3.6/site-packages/ipykernel_launcher.py:21: UserWarning: To copy construct from a tensor, it is recommended to use sourceTensor.clone().detach() or sourceTensor.clone().detach().requires_grad_(True), rather than torch.tensor(sourceTensor).\n",
      "/home/zhengfang/.local/lib/python3.6/site-packages/ipykernel_launcher.py:22: UserWarning: To copy construct from a tensor, it is recommended to use sourceTensor.clone().detach() or sourceTensor.clone().detach().requires_grad_(True), rather than torch.tensor(sourceTensor).\n"
     ]
    },
    {
     "name": "stdout",
     "output_type": "stream",
     "text": [
      "acc_test:  0  \n"
     ]
    },
    {
     "name": "stderr",
     "output_type": "stream",
     "text": [
      "/home/zhengfang/.local/lib/python3.6/site-packages/ipykernel_launcher.py:21: UserWarning: To copy construct from a tensor, it is recommended to use sourceTensor.clone().detach() or sourceTensor.clone().detach().requires_grad_(True), rather than torch.tensor(sourceTensor).\n",
      "/home/zhengfang/.local/lib/python3.6/site-packages/ipykernel_launcher.py:22: UserWarning: To copy construct from a tensor, it is recommended to use sourceTensor.clone().detach() or sourceTensor.clone().detach().requires_grad_(True), rather than torch.tensor(sourceTensor).\n"
     ]
    },
    {
     "name": "stdout",
     "output_type": "stream",
     "text": [
      "acc_test:  0  \n"
     ]
    },
    {
     "name": "stderr",
     "output_type": "stream",
     "text": [
      "/home/zhengfang/.local/lib/python3.6/site-packages/ipykernel_launcher.py:21: UserWarning: To copy construct from a tensor, it is recommended to use sourceTensor.clone().detach() or sourceTensor.clone().detach().requires_grad_(True), rather than torch.tensor(sourceTensor).\n",
      "/home/zhengfang/.local/lib/python3.6/site-packages/ipykernel_launcher.py:22: UserWarning: To copy construct from a tensor, it is recommended to use sourceTensor.clone().detach() or sourceTensor.clone().detach().requires_grad_(True), rather than torch.tensor(sourceTensor).\n"
     ]
    },
    {
     "name": "stdout",
     "output_type": "stream",
     "text": [
      "acc_test:  0  \n"
     ]
    },
    {
     "name": "stderr",
     "output_type": "stream",
     "text": [
      "/home/zhengfang/.local/lib/python3.6/site-packages/ipykernel_launcher.py:21: UserWarning: To copy construct from a tensor, it is recommended to use sourceTensor.clone().detach() or sourceTensor.clone().detach().requires_grad_(True), rather than torch.tensor(sourceTensor).\n",
      "/home/zhengfang/.local/lib/python3.6/site-packages/ipykernel_launcher.py:22: UserWarning: To copy construct from a tensor, it is recommended to use sourceTensor.clone().detach() or sourceTensor.clone().detach().requires_grad_(True), rather than torch.tensor(sourceTensor).\n"
     ]
    },
    {
     "name": "stdout",
     "output_type": "stream",
     "text": [
      "acc_test:  0  \n"
     ]
    },
    {
     "name": "stderr",
     "output_type": "stream",
     "text": [
      "/home/zhengfang/.local/lib/python3.6/site-packages/ipykernel_launcher.py:21: UserWarning: To copy construct from a tensor, it is recommended to use sourceTensor.clone().detach() or sourceTensor.clone().detach().requires_grad_(True), rather than torch.tensor(sourceTensor).\n",
      "/home/zhengfang/.local/lib/python3.6/site-packages/ipykernel_launcher.py:22: UserWarning: To copy construct from a tensor, it is recommended to use sourceTensor.clone().detach() or sourceTensor.clone().detach().requires_grad_(True), rather than torch.tensor(sourceTensor).\n",
      "/home/zhengfang/.local/lib/python3.6/site-packages/ipykernel_launcher.py:21: UserWarning: To copy construct from a tensor, it is recommended to use sourceTensor.clone().detach() or sourceTensor.clone().detach().requires_grad_(True), rather than torch.tensor(sourceTensor).\n",
      "/home/zhengfang/.local/lib/python3.6/site-packages/ipykernel_launcher.py:22: UserWarning: To copy construct from a tensor, it is recommended to use sourceTensor.clone().detach() or sourceTensor.clone().detach().requires_grad_(True), rather than torch.tensor(sourceTensor).\n"
     ]
    },
    {
     "name": "stdout",
     "output_type": "stream",
     "text": [
      "acc_test:  0  \n"
     ]
    },
    {
     "ename": "KeyboardInterrupt",
     "evalue": "",
     "output_type": "error",
     "traceback": [
      "\u001b[0;31m---------------------------------------------------------------------------\u001b[0m",
      "\u001b[0;31mKeyboardInterrupt\u001b[0m                         Traceback (most recent call last)",
      "\u001b[0;32m<ipython-input-20-0b023007b2a1>\u001b[0m in \u001b[0;36m<module>\u001b[0;34m\u001b[0m\n\u001b[1;32m      8\u001b[0m \u001b[0mprint\u001b[0m\u001b[0;34m(\u001b[0m\u001b[0;34m\"MLP:\"\u001b[0m\u001b[0;34m,\u001b[0m\u001b[0mmodel\u001b[0m\u001b[0;34m)\u001b[0m\u001b[0;34m\u001b[0m\u001b[0;34m\u001b[0m\u001b[0m\n\u001b[1;32m      9\u001b[0m \u001b[0;31m#train_data(model,train_loader,nfm_config['batch_size'],'dataset/xiaoguan/RF/RF_for_train/train_class_9/model/encode_gene_4000_MLP.pkl')\u001b[0m\u001b[0;34m\u001b[0m\u001b[0;34m\u001b[0m\u001b[0;34m\u001b[0m\u001b[0m\n\u001b[0;32m---> 10\u001b[0;31m \u001b[0mtrain_data\u001b[0m\u001b[0;34m(\u001b[0m\u001b[0mmodel\u001b[0m\u001b[0;34m,\u001b[0m\u001b[0mtrain_loader\u001b[0m\u001b[0;34m,\u001b[0m\u001b[0mtest_loader\u001b[0m\u001b[0;34m,\u001b[0m\u001b[0mnfm_config\u001b[0m\u001b[0;34m[\u001b[0m\u001b[0;34m'batch_size'\u001b[0m\u001b[0;34m]\u001b[0m\u001b[0;34m,\u001b[0m\u001b[0;34m'dataset/xiaoguan/RF/RF_for_train/train_class_9/model/encode_gene_with_norm_4000_MLP.pkl'\u001b[0m\u001b[0;34m)\u001b[0m\u001b[0;34m\u001b[0m\u001b[0;34m\u001b[0m\u001b[0m\n\u001b[0m",
      "\u001b[0;32m<ipython-input-19-d0e640cd2f6c>\u001b[0m in \u001b[0;36mtrain_data\u001b[0;34m(model, train_loader, test_loader, batch_size, model_path)\u001b[0m\n\u001b[1;32m     92\u001b[0m             \u001b[0;31m#correct=correct[0]\u001b[0m\u001b[0;34m\u001b[0m\u001b[0;34m\u001b[0m\u001b[0;34m\u001b[0m\u001b[0m\n\u001b[1;32m     93\u001b[0m             \u001b[0;31m#print(\"new_correct:\",float(correct))\u001b[0m\u001b[0;34m\u001b[0m\u001b[0;34m\u001b[0m\u001b[0;34m\u001b[0m\u001b[0m\n\u001b[0;32m---> 94\u001b[0;31m             \u001b[0mcorrect\u001b[0m\u001b[0;34m=\u001b[0m\u001b[0mfloat\u001b[0m\u001b[0;34m(\u001b[0m\u001b[0mcorrect\u001b[0m\u001b[0;34m)\u001b[0m\u001b[0;34m\u001b[0m\u001b[0;34m\u001b[0m\u001b[0m\n\u001b[0m\u001b[1;32m     95\u001b[0m             \u001b[0;31m#if batch_idx % 10 == 0:\u001b[0m\u001b[0;34m\u001b[0m\u001b[0;34m\u001b[0m\u001b[0;34m\u001b[0m\u001b[0m\n\u001b[1;32m     96\u001b[0m             \u001b[0;31m#print(\"batch_idx:\",batch_idx)\u001b[0m\u001b[0;34m\u001b[0m\u001b[0;34m\u001b[0m\u001b[0;34m\u001b[0m\u001b[0m\n",
      "\u001b[0;31mKeyboardInterrupt\u001b[0m: "
     ]
    }
   ],
   "source": [
    "train_dataset,train_loader=prepare_dataset(nfm_config['train_data'],nfm_config['train_label'],nfm_config['batch_size'],nfm_config['n_class'])\n",
    "test_dataset,test_loader=prepare_dataset(nfm_config['test_data'],nfm_config['test_label'],nfm_config['batch_size'],nfm_config['n_class'])\n",
    "\n",
    "\n",
    "from MLP import MLP\n",
    "model=MLP(4224,1000,100,9)\n",
    "model.cuda()\n",
    "print(\"MLP:\",model)\n",
    "#train_data(model,train_loader,nfm_config['batch_size'],'dataset/xiaoguan/RF/RF_for_train/train_class_9/model/encode_gene_4000_MLP.pkl')\n",
    "train_data(model,train_loader,test_loader,nfm_config['batch_size'],'dataset/xiaoguan/RF/RF_for_train/train_class_9/model/encode_gene_with_norm_4000_MLP.pkl')"
   ]
  },
  {
   "cell_type": "code",
   "execution_count": 6,
   "id": "f44763ea",
   "metadata": {},
   "outputs": [],
   "source": [
    "torch.save(model.state_dict(),'dataset/xiaoguan/RF/RF_for_train/train_class_9/model/encode_gene_with_norm_4000_MLP.pkl')"
   ]
  },
  {
   "cell_type": "code",
   "execution_count": null,
   "id": "096db9db",
   "metadata": {},
   "outputs": [],
   "source": []
  },
  {
   "cell_type": "code",
   "execution_count": 46,
   "id": "a8ac1647",
   "metadata": {},
   "outputs": [
    {
     "name": "stdout",
     "output_type": "stream",
     "text": [
      "MLP(\n",
      "  (fc1): Linear(in_features=4224, out_features=1000, bias=True)\n",
      "  (bn1): BatchNorm1d(1000, eps=1e-05, momentum=0.1, affine=True, track_running_stats=True)\n",
      "  (fc2): Linear(in_features=1000, out_features=100, bias=True)\n",
      "  (bn2): BatchNorm1d(100, eps=1e-05, momentum=0.1, affine=True, track_running_stats=True)\n",
      "  (fc3): Linear(in_features=100, out_features=9, bias=True)\n",
      "  (bn3): BatchNorm1d(9, eps=1e-05, momentum=0.1, affine=True, track_running_stats=True)\n",
      "  (drop): Dropout(p=0.5, inplace=False)\n",
      ")\n"
     ]
    }
   ],
   "source": [
    "##测试集\n",
    "#from new_nfm_network import NFM\n",
    "#加载模型\n",
    "from MLP import MLP\n",
    "model=MLP(4224,1000,100,9)\n",
    "#model.cuda()\n",
    "path='dataset/xiaoguan/RF/RF_for_train/train_class_9/model/encode_gene_with_norm_4000_MLP.pkl'\n",
    "#nfm = NFM(nfm_config).cuda()\n",
    "net=model.cuda()\n",
    "#net=nfm\n",
    "print(net)\n",
    "#net = nn.DataParallel(net)\n",
    "#net = net.to(device)\n",
    "net.load_state_dict(torch.load(path),strict=False)\n",
    "net.cuda()\n",
    "\n",
    "optimizer = torch.optim.Adam(net.parameters(), lr=nfm_config['lr'], weight_decay=nfm_config['l2_regularization'])\n",
    "total = 0\n",
    "#loss_func = torch.nn.BCELoss()\n",
    "loss_func=torch.nn.CrossEntropyLoss()"
   ]
  },
  {
   "cell_type": "code",
   "execution_count": 40,
   "id": "da3a175a",
   "metadata": {},
   "outputs": [
    {
     "name": "stdout",
     "output_type": "stream",
     "text": [
      "row: 0 label: [0]\n",
      "row: 1 label: [0]\n",
      "row: 2 label: [0]\n",
      "row: 3 label: [0]\n",
      "row: 4 label: [0]\n",
      "row: 5 label: [0]\n",
      "row: 6 label: [0]\n",
      "row: 7 label: [0]\n",
      "row: 8 label: [0]\n",
      "row: 9 label: [0]\n",
      "row: 10 label: [0]\n",
      "row: 11 label: [0]\n",
      "row: 12 label: [1]\n",
      "row: 13 label: [1]\n",
      "row: 14 label: [1]\n",
      "row: 15 label: [1]\n",
      "row: 16 label: [1]\n",
      "row: 17 label: [1]\n",
      "row: 18 label: [1]\n",
      "row: 19 label: [1]\n",
      "row: 20 label: [1]\n",
      "row: 21 label: [1]\n",
      "row: 22 label: [1]\n",
      "row: 23 label: [1]\n",
      "row: 24 label: [1]\n",
      "row: 25 label: [2]\n",
      "row: 26 label: [2]\n",
      "row: 27 label: [2]\n",
      "row: 28 label: [3]\n",
      "row: 29 label: [3]\n",
      "row: 30 label: [3]\n",
      "row: 31 label: [4]\n",
      "row: 32 label: [4]\n",
      "row: 33 label: [5]\n",
      "row: 34 label: [5]\n",
      "row: 35 label: [6]\n",
      "row: 36 label: [6]\n",
      "row: 37 label: [6]\n",
      "row: 38 label: [6]\n",
      "row: 39 label: [6]\n",
      "row: 40 label: [6]\n",
      "row: 41 label: [6]\n",
      "row: 42 label: [6]\n",
      "row: 43 label: [6]\n",
      "row: 44 label: [6]\n",
      "row: 45 label: [6]\n",
      "row: 46 label: [6]\n",
      "row: 47 label: [6]\n",
      "row: 48 label: [6]\n",
      "row: 49 label: [6]\n",
      "row: 50 label: [6]\n",
      "row: 51 label: [6]\n",
      "row: 52 label: [6]\n",
      "row: 53 label: [6]\n",
      "row: 54 label: [6]\n",
      "row: 55 label: [6]\n",
      "row: 56 label: [6]\n",
      "row: 57 label: [6]\n",
      "row: 58 label: [6]\n",
      "row: 59 label: [6]\n",
      "row: 60 label: [7]\n",
      "row: 61 label: [7]\n",
      "row: 62 label: [7]\n",
      "row: 63 label: [7]\n",
      "row: 64 label: [8]\n",
      "row: 65 label: [8]\n",
      "row: 66 label: [8]\n",
      "row: 67 label: [8]\n",
      "row: 68 label: [8]\n",
      "row: 69 label: [8]\n",
      "row: 70 label: [8]\n",
      "row: 71 label: [8]\n",
      "row: 72 label: [8]\n",
      "row: 73 label: [8]\n",
      "row: 74 label: [8]\n",
      "row: 75 label: [8]\n",
      "row: 76 label: [8]\n",
      "label: [[0.82222223 0.02222222 0.02222222 0.02222222 0.02222222 0.02222222\n",
      "  0.02222222 0.02222222 0.02222222]\n",
      " [0.82222223 0.02222222 0.02222222 0.02222222 0.02222222 0.02222222\n",
      "  0.02222222 0.02222222 0.02222222]\n",
      " [0.82222223 0.02222222 0.02222222 0.02222222 0.02222222 0.02222222\n",
      "  0.02222222 0.02222222 0.02222222]\n",
      " [0.82222223 0.02222222 0.02222222 0.02222222 0.02222222 0.02222222\n",
      "  0.02222222 0.02222222 0.02222222]\n",
      " [0.82222223 0.02222222 0.02222222 0.02222222 0.02222222 0.02222222\n",
      "  0.02222222 0.02222222 0.02222222]\n",
      " [0.82222223 0.02222222 0.02222222 0.02222222 0.02222222 0.02222222\n",
      "  0.02222222 0.02222222 0.02222222]\n",
      " [0.82222223 0.02222222 0.02222222 0.02222222 0.02222222 0.02222222\n",
      "  0.02222222 0.02222222 0.02222222]\n",
      " [0.82222223 0.02222222 0.02222222 0.02222222 0.02222222 0.02222222\n",
      "  0.02222222 0.02222222 0.02222222]\n",
      " [0.82222223 0.02222222 0.02222222 0.02222222 0.02222222 0.02222222\n",
      "  0.02222222 0.02222222 0.02222222]\n",
      " [0.82222223 0.02222222 0.02222222 0.02222222 0.02222222 0.02222222\n",
      "  0.02222222 0.02222222 0.02222222]\n",
      " [0.82222223 0.02222222 0.02222222 0.02222222 0.02222222 0.02222222\n",
      "  0.02222222 0.02222222 0.02222222]\n",
      " [0.82222223 0.02222222 0.02222222 0.02222222 0.02222222 0.02222222\n",
      "  0.02222222 0.02222222 0.02222222]\n",
      " [0.02222222 0.82222223 0.02222222 0.02222222 0.02222222 0.02222222\n",
      "  0.02222222 0.02222222 0.02222222]\n",
      " [0.02222222 0.82222223 0.02222222 0.02222222 0.02222222 0.02222222\n",
      "  0.02222222 0.02222222 0.02222222]\n",
      " [0.02222222 0.82222223 0.02222222 0.02222222 0.02222222 0.02222222\n",
      "  0.02222222 0.02222222 0.02222222]\n",
      " [0.02222222 0.82222223 0.02222222 0.02222222 0.02222222 0.02222222\n",
      "  0.02222222 0.02222222 0.02222222]\n",
      " [0.02222222 0.82222223 0.02222222 0.02222222 0.02222222 0.02222222\n",
      "  0.02222222 0.02222222 0.02222222]\n",
      " [0.02222222 0.82222223 0.02222222 0.02222222 0.02222222 0.02222222\n",
      "  0.02222222 0.02222222 0.02222222]\n",
      " [0.02222222 0.82222223 0.02222222 0.02222222 0.02222222 0.02222222\n",
      "  0.02222222 0.02222222 0.02222222]\n",
      " [0.02222222 0.82222223 0.02222222 0.02222222 0.02222222 0.02222222\n",
      "  0.02222222 0.02222222 0.02222222]\n",
      " [0.02222222 0.82222223 0.02222222 0.02222222 0.02222222 0.02222222\n",
      "  0.02222222 0.02222222 0.02222222]\n",
      " [0.02222222 0.82222223 0.02222222 0.02222222 0.02222222 0.02222222\n",
      "  0.02222222 0.02222222 0.02222222]\n",
      " [0.02222222 0.82222223 0.02222222 0.02222222 0.02222222 0.02222222\n",
      "  0.02222222 0.02222222 0.02222222]\n",
      " [0.02222222 0.82222223 0.02222222 0.02222222 0.02222222 0.02222222\n",
      "  0.02222222 0.02222222 0.02222222]\n",
      " [0.02222222 0.82222223 0.02222222 0.02222222 0.02222222 0.02222222\n",
      "  0.02222222 0.02222222 0.02222222]\n",
      " [0.02222222 0.02222222 0.82222223 0.02222222 0.02222222 0.02222222\n",
      "  0.02222222 0.02222222 0.02222222]\n",
      " [0.02222222 0.02222222 0.82222223 0.02222222 0.02222222 0.02222222\n",
      "  0.02222222 0.02222222 0.02222222]\n",
      " [0.02222222 0.02222222 0.82222223 0.02222222 0.02222222 0.02222222\n",
      "  0.02222222 0.02222222 0.02222222]\n",
      " [0.02222222 0.02222222 0.02222222 0.82222223 0.02222222 0.02222222\n",
      "  0.02222222 0.02222222 0.02222222]\n",
      " [0.02222222 0.02222222 0.02222222 0.82222223 0.02222222 0.02222222\n",
      "  0.02222222 0.02222222 0.02222222]\n",
      " [0.02222222 0.02222222 0.02222222 0.82222223 0.02222222 0.02222222\n",
      "  0.02222222 0.02222222 0.02222222]\n",
      " [0.02222222 0.02222222 0.02222222 0.02222222 0.82222223 0.02222222\n",
      "  0.02222222 0.02222222 0.02222222]\n",
      " [0.02222222 0.02222222 0.02222222 0.02222222 0.82222223 0.02222222\n",
      "  0.02222222 0.02222222 0.02222222]\n",
      " [0.02222222 0.02222222 0.02222222 0.02222222 0.02222222 0.82222223\n",
      "  0.02222222 0.02222222 0.02222222]\n",
      " [0.02222222 0.02222222 0.02222222 0.02222222 0.02222222 0.82222223\n",
      "  0.02222222 0.02222222 0.02222222]\n",
      " [0.02222222 0.02222222 0.02222222 0.02222222 0.02222222 0.02222222\n",
      "  0.82222223 0.02222222 0.02222222]\n",
      " [0.02222222 0.02222222 0.02222222 0.02222222 0.02222222 0.02222222\n",
      "  0.82222223 0.02222222 0.02222222]\n",
      " [0.02222222 0.02222222 0.02222222 0.02222222 0.02222222 0.02222222\n",
      "  0.82222223 0.02222222 0.02222222]\n",
      " [0.02222222 0.02222222 0.02222222 0.02222222 0.02222222 0.02222222\n",
      "  0.82222223 0.02222222 0.02222222]\n",
      " [0.02222222 0.02222222 0.02222222 0.02222222 0.02222222 0.02222222\n",
      "  0.82222223 0.02222222 0.02222222]\n",
      " [0.02222222 0.02222222 0.02222222 0.02222222 0.02222222 0.02222222\n",
      "  0.82222223 0.02222222 0.02222222]\n",
      " [0.02222222 0.02222222 0.02222222 0.02222222 0.02222222 0.02222222\n",
      "  0.82222223 0.02222222 0.02222222]\n",
      " [0.02222222 0.02222222 0.02222222 0.02222222 0.02222222 0.02222222\n",
      "  0.82222223 0.02222222 0.02222222]\n",
      " [0.02222222 0.02222222 0.02222222 0.02222222 0.02222222 0.02222222\n",
      "  0.82222223 0.02222222 0.02222222]\n",
      " [0.02222222 0.02222222 0.02222222 0.02222222 0.02222222 0.02222222\n",
      "  0.82222223 0.02222222 0.02222222]\n",
      " [0.02222222 0.02222222 0.02222222 0.02222222 0.02222222 0.02222222\n",
      "  0.82222223 0.02222222 0.02222222]\n",
      " [0.02222222 0.02222222 0.02222222 0.02222222 0.02222222 0.02222222\n",
      "  0.82222223 0.02222222 0.02222222]\n",
      " [0.02222222 0.02222222 0.02222222 0.02222222 0.02222222 0.02222222\n",
      "  0.82222223 0.02222222 0.02222222]\n",
      " [0.02222222 0.02222222 0.02222222 0.02222222 0.02222222 0.02222222\n",
      "  0.82222223 0.02222222 0.02222222]\n",
      " [0.02222222 0.02222222 0.02222222 0.02222222 0.02222222 0.02222222\n",
      "  0.82222223 0.02222222 0.02222222]\n",
      " [0.02222222 0.02222222 0.02222222 0.02222222 0.02222222 0.02222222\n",
      "  0.82222223 0.02222222 0.02222222]\n",
      " [0.02222222 0.02222222 0.02222222 0.02222222 0.02222222 0.02222222\n",
      "  0.82222223 0.02222222 0.02222222]\n",
      " [0.02222222 0.02222222 0.02222222 0.02222222 0.02222222 0.02222222\n",
      "  0.82222223 0.02222222 0.02222222]\n",
      " [0.02222222 0.02222222 0.02222222 0.02222222 0.02222222 0.02222222\n",
      "  0.82222223 0.02222222 0.02222222]\n",
      " [0.02222222 0.02222222 0.02222222 0.02222222 0.02222222 0.02222222\n",
      "  0.82222223 0.02222222 0.02222222]\n",
      " [0.02222222 0.02222222 0.02222222 0.02222222 0.02222222 0.02222222\n",
      "  0.82222223 0.02222222 0.02222222]\n",
      " [0.02222222 0.02222222 0.02222222 0.02222222 0.02222222 0.02222222\n",
      "  0.82222223 0.02222222 0.02222222]\n",
      " [0.02222222 0.02222222 0.02222222 0.02222222 0.02222222 0.02222222\n",
      "  0.82222223 0.02222222 0.02222222]\n",
      " [0.02222222 0.02222222 0.02222222 0.02222222 0.02222222 0.02222222\n",
      "  0.82222223 0.02222222 0.02222222]\n",
      " [0.02222222 0.02222222 0.02222222 0.02222222 0.02222222 0.02222222\n",
      "  0.82222223 0.02222222 0.02222222]\n",
      " [0.02222222 0.02222222 0.02222222 0.02222222 0.02222222 0.02222222\n",
      "  0.02222222 0.82222223 0.02222222]\n",
      " [0.02222222 0.02222222 0.02222222 0.02222222 0.02222222 0.02222222\n",
      "  0.02222222 0.82222223 0.02222222]\n",
      " [0.02222222 0.02222222 0.02222222 0.02222222 0.02222222 0.02222222\n",
      "  0.02222222 0.82222223 0.02222222]\n",
      " [0.02222222 0.02222222 0.02222222 0.02222222 0.02222222 0.02222222\n",
      "  0.02222222 0.82222223 0.02222222]\n",
      " [0.02222222 0.02222222 0.02222222 0.02222222 0.02222222 0.02222222\n",
      "  0.02222222 0.02222222 0.82222223]\n",
      " [0.02222222 0.02222222 0.02222222 0.02222222 0.02222222 0.02222222\n",
      "  0.02222222 0.02222222 0.82222223]\n",
      " [0.02222222 0.02222222 0.02222222 0.02222222 0.02222222 0.02222222\n",
      "  0.02222222 0.02222222 0.82222223]\n",
      " [0.02222222 0.02222222 0.02222222 0.02222222 0.02222222 0.02222222\n",
      "  0.02222222 0.02222222 0.82222223]\n",
      " [0.02222222 0.02222222 0.02222222 0.02222222 0.02222222 0.02222222\n",
      "  0.02222222 0.02222222 0.82222223]\n",
      " [0.02222222 0.02222222 0.02222222 0.02222222 0.02222222 0.02222222\n",
      "  0.02222222 0.02222222 0.82222223]\n",
      " [0.02222222 0.02222222 0.02222222 0.02222222 0.02222222 0.02222222\n",
      "  0.02222222 0.02222222 0.82222223]\n",
      " [0.02222222 0.02222222 0.02222222 0.02222222 0.02222222 0.02222222\n",
      "  0.02222222 0.02222222 0.82222223]\n",
      " [0.02222222 0.02222222 0.02222222 0.02222222 0.02222222 0.02222222\n",
      "  0.02222222 0.02222222 0.82222223]\n",
      " [0.02222222 0.02222222 0.02222222 0.02222222 0.02222222 0.02222222\n",
      "  0.02222222 0.02222222 0.82222223]\n",
      " [0.02222222 0.02222222 0.02222222 0.02222222 0.02222222 0.02222222\n",
      "  0.02222222 0.02222222 0.82222223]\n",
      " [0.02222222 0.02222222 0.02222222 0.02222222 0.02222222 0.02222222\n",
      "  0.02222222 0.02222222 0.82222223]\n",
      " [0.02222222 0.02222222 0.02222222 0.02222222 0.02222222 0.02222222\n",
      "  0.02222222 0.02222222 0.82222223]]\n",
      "features: [[34 42 25 ... 26 25 27]\n",
      " [34 42 28 ... 30 25 26]\n",
      " [35 41 25 ... 26 24 28]\n",
      " ...\n",
      " [49 43 20 ...  8 29 30]\n",
      " [45 39 13 ... 13 28 34]\n",
      " [45 47  9 ...  9 29 37]]\n"
     ]
    }
   ],
   "source": [
    "#数据集准备测试\n",
    "import os\n",
    "import time\n",
    "import argparse\n",
    "import numpy as np\n",
    "import pandas as pd \n",
    "\n",
    "import torch\n",
    "import torch.nn as nn\n",
    "import torch.optim as optim\n",
    "import torch.utils.data as data\n",
    "import torch.backends.cudnn as cudnn\n",
    "#3from tensorboardX import SummaryWriter\n",
    "\n",
    "#import network\n",
    "import config\n",
    "import evaluate\n",
    "import data_utils\n",
    "import Trainer\n",
    "from dataset_process import FMData\n",
    "\n",
    "'''  \n",
    "test_dataset = FMData(nfm_config['test_data'],nfm_config['test_label'],nfm_config['n_class'])\n",
    "test_loader = data.DataLoader(test_dataset, drop_last=True,batch_size=100,shuffle=True, num_workers=4)\n",
    "\n",
    "'''\n",
    "test_dataset,test_loader=prepare_dataset(nfm_config['test_data'],nfm_config['test_label'],nfm_config['batch_size'],nfm_config['n_class'])"
   ]
  },
  {
   "cell_type": "code",
   "execution_count": 41,
   "id": "49ad0cfc",
   "metadata": {},
   "outputs": [],
   "source": [
    "#版权声明：本文为CSDN博主「山阴少年」的原创文章，遵循CC 4.0 BY-SA版权协议，转载请附上原文出处链接及本声明。  \n",
    "#原文链接：https://blog.csdn.net/jclian91/article/details/121708431#   \n",
    "from torch.autograd import Variable   \n",
    "from torch.utils.data import DataLoader   \n",
    "from sklearn.metrics import roc_auc_score   \n",
    "from sklearn.metrics import accuracy_score   \n",
    "        \n",
    "        \n",
    "def evaluate_model(test_dl , model):   \n",
    "    predictions,  actuals = [] , []   \n",
    "    for i , (inputs , targets) in enumerate(test_dl):   \n",
    "        # evaluate the model on the test set   \n",
    "        #print(\\ inputs:\\  inputs)   \n",
    "        #print(\\ targets:\\  targets)   \n",
    "        inputs = Variable(inputs)   \n",
    "        targets = Variable(targets)   \n",
    "                    \n",
    "                    \n",
    "        #x = torch.tensor(x  dtype=torch.float)   \n",
    "        #x=x.clone().detach().requires_grad_(True)   \n",
    "        inputs=torch.tensor(inputs ,dtype=torch.float)   \n",
    "        targets=torch.tensor(targets ,dtype=torch.float)   \n",
    "        inputs , targets = inputs.cuda(),  targets.cuda()   \n",
    "        yhat = model(inputs)   \n",
    "        # retrieve numpy array   \n",
    "        #yhat = yhat.detach().numpy()   \n",
    "        yhat = yhat.detach().cpu().numpy()#转换到cpu   \n",
    "        # yhat=yhat.argmax(axis=1)   \n",
    "        #print(' yhat:',  yhat)   \n",
    "        #print('yhat.shape:' ,yhat.shape)   \n",
    "        actual = targets.detach().cpu().numpy()   \n",
    "        actual=actual.round()   \n",
    "        #print('actual:',  actual)   \n",
    "        #print('actual.shape:', actual.shape)   \n",
    "        #actual = actual.reshape(-1  1)   \n",
    "        # round to class values   \n",
    "        yhat = yhat.round()   \n",
    "        # store   \n",
    "        predictions.append(yhat)   \n",
    "        actuals.append(actual)   \n",
    "    #print('prediction:',  predictions)   \n",
    "    #print('actuals:',  actuals)   \n",
    "    predictions , actuals = np.vstack(predictions) , np.vstack(actuals)   \n",
    "    #print('prediction:',  predictions)   \n",
    "    #print('actuals:',  actuals)   \n",
    "    # calculate accuracy   \n",
    "    acc_test = accuracy_score(actuals , predictions)   \n",
    "    return  actuals , predictions ,acc_test \n",
    "   "
   ]
  },
  {
   "cell_type": "code",
   "execution_count": 53,
   "id": "5ef0699d",
   "metadata": {},
   "outputs": [
    {
     "name": "stdout",
     "output_type": "stream",
     "text": [
      "acc_test 0.5833333333333334\n"
     ]
    },
    {
     "name": "stderr",
     "output_type": "stream",
     "text": [
      "/home/zhengfang/.local/lib/python3.6/site-packages/ipykernel_launcher.py:21: UserWarning: To copy construct from a tensor, it is recommended to use sourceTensor.clone().detach() or sourceTensor.clone().detach().requires_grad_(True), rather than torch.tensor(sourceTensor).\n",
      "/home/zhengfang/.local/lib/python3.6/site-packages/ipykernel_launcher.py:22: UserWarning: To copy construct from a tensor, it is recommended to use sourceTensor.clone().detach() or sourceTensor.clone().detach().requires_grad_(True), rather than torch.tensor(sourceTensor).\n"
     ]
    }
   ],
   "source": [
    "actuals,predictions,acc_test=evaluate_model(test_loader,net)\n",
    "print(\"acc_test\",acc_test)"
   ]
  },
  {
   "cell_type": "code",
   "execution_count": null,
   "id": "7b2824a1",
   "metadata": {},
   "outputs": [],
   "source": []
  }
 ],
 "metadata": {
  "kernelspec": {
   "display_name": "Python 3",
   "language": "python",
   "name": "python3"
  },
  "language_info": {
   "codemirror_mode": {
    "name": "ipython",
    "version": 3
   },
   "file_extension": ".py",
   "mimetype": "text/x-python",
   "name": "python",
   "nbconvert_exporter": "python",
   "pygments_lexer": "ipython3",
   "version": "3.6.13"
  }
 },
 "nbformat": 4,
 "nbformat_minor": 5
}
