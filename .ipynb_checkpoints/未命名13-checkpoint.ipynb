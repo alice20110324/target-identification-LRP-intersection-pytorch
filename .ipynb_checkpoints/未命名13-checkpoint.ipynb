{
 "cells": [
  {
   "cell_type": "code",
   "execution_count": 1,
   "id": "a05d9036",
   "metadata": {},
   "outputs": [],
   "source": [
    "import torch  as pt\n",
    "from torch import nn\n",
    "import torch.nn.functional as F  # 激励函数的库\n",
    "from torchvision import datasets\n",
    "import torchvision.transforms as transforms\n",
    "import numpy as np"
   ]
  },
  {
   "cell_type": "code",
   "execution_count": null,
   "id": "da5d46f9",
   "metadata": {},
   "outputs": [],
   "source": [
    "#model definition\n",
    "class MLP(nn.Module):\n",
    "    def __init__(self):\n",
    "        super().__init__()\n",
    "\n",
    "        self.fc1 = nn.Linear(10150, 3000)\n",
    "        self.fc2 = nn.Linear(3000,500)\n",
    "        self.fc3 = nn.Linear(500, 16)\n",
    "        self.BN=nn.BatchNorm1d(n)\n",
    "        self.drop=nn.Dropout(0.6)\n",
    "    def forward(self, x):\n",
    "        x = F.relu(self.BN(self.drop(self.fc1(x))\n",
    "        x = F.relu(self.BN(self.drop(self.fc2(x))\n",
    "        return F.softmax(self.drop(self.BN(self.fc3(x))), dim=1)\n",
    "model = MLP().cuda()\n",
    "print(model)"
   ]
  }
 ],
 "metadata": {
  "kernelspec": {
   "display_name": "Python 3",
   "language": "python",
   "name": "python3"
  },
  "language_info": {
   "codemirror_mode": {
    "name": "ipython",
    "version": 3
   },
   "file_extension": ".py",
   "mimetype": "text/x-python",
   "name": "python",
   "nbconvert_exporter": "python",
   "pygments_lexer": "ipython3",
   "version": "3.6.13"
  }
 },
 "nbformat": 4,
 "nbformat_minor": 5
}
