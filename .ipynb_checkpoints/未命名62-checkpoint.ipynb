{
 "cells": [
  {
   "cell_type": "code",
   "execution_count": 12,
   "id": "3a917252",
   "metadata": {},
   "outputs": [
    {
     "name": "stdout",
     "output_type": "stream",
     "text": [
      "tensor([1])\n"
     ]
    }
   ],
   "source": [
    "#generate two integer(0,2)\n",
    "\n",
    "import torch\n",
    "mixture=torch.randint(0,2,(1,))\n",
    "print(mixture)"
   ]
  },
  {
   "cell_type": "code",
   "execution_count": null,
   "id": "ae87c5cb",
   "metadata": {},
   "outputs": [],
   "source": []
  }
 ],
 "metadata": {
  "kernelspec": {
   "display_name": "Python 3",
   "language": "python",
   "name": "python3"
  },
  "language_info": {
   "codemirror_mode": {
    "name": "ipython",
    "version": 3
   },
   "file_extension": ".py",
   "mimetype": "text/x-python",
   "name": "python",
   "nbconvert_exporter": "python",
   "pygments_lexer": "ipython3",
   "version": "3.6.13"
  }
 },
 "nbformat": 4,
 "nbformat_minor": 5
}
