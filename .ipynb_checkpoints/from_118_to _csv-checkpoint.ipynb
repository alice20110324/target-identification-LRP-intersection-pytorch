{
 "cells": [
  {
   "cell_type": "code",
   "execution_count": null,
   "id": "4905ff92",
   "metadata": {},
   "outputs": [],
   "source": [
    "#利用得到的合并后的列名 ，在原始数据中筛选数据\n",
    "\n",
    "\n",
    "import pandas as pd \n",
    "\n",
    "columns_df=pd.read_csv('dataset/qiuguan/features/genes_union.csv',sep=',')\n",
    "origin_df=pd.read_csv('dataset/origin/union_all_qiuguan.csv',sep=',')\n",
    "#print(origin_df)\n",
    "origin_df.rename(columns={'Tag':'symbol'},inplace=True)\n",
    "#df_col_names=df_col_names.tolist()\n",
    "new_df=origin_df[df_col_names]\n",
    "#print(new_df)\n",
    "\n",
    "new_df_rows,new_df_cols=new_df.shape"
   ]
  }
 ],
 "metadata": {
  "kernelspec": {
   "display_name": "Python 3",
   "language": "python",
   "name": "python3"
  },
  "language_info": {
   "codemirror_mode": {
    "name": "ipython",
    "version": 3
   },
   "file_extension": ".py",
   "mimetype": "text/x-python",
   "name": "python",
   "nbconvert_exporter": "python",
   "pygments_lexer": "ipython3",
   "version": "3.6.13"
  }
 },
 "nbformat": 4,
 "nbformat_minor": 5
}
