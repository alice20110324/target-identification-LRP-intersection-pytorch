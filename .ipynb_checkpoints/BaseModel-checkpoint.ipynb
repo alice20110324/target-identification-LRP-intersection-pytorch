{
 "cells": [
  {
   "cell_type": "code",
   "execution_count": null,
   "id": "a8686960",
   "metadata": {},
   "outputs": [],
   "source": [
    "import torch\n",
    "import torch.nn as nn\n",
    "\n",
    "class BaseModel(nn.Module):\n",
    "    def __init__(self, config):\n",
    "        super(BaseModel, self).__init__()\n",
    "        self._config = config\n",
    "\n",
    "    def saveModel(self):\n",
    "        torch.save(self.state_dict(), self._config['model_name'])\n",
    "\n",
    "    def loadModel(self, map_location):\n",
    "        state_dict = torch.load(self._config['model_name'], map_location=map_location)\n",
    "        self.load_state_dict(state_dict, strict=False)\n"
   ]
  }
 ],
 "metadata": {
  "kernelspec": {
   "display_name": "Python 3",
   "language": "python",
   "name": "python3"
  },
  "language_info": {
   "codemirror_mode": {
    "name": "ipython",
    "version": 3
   },
   "file_extension": ".py",
   "mimetype": "text/x-python",
   "name": "python",
   "nbconvert_exporter": "python",
   "pygments_lexer": "ipython3",
   "version": "3.6.13"
  }
 },
 "nbformat": 4,
 "nbformat_minor": 5
}
