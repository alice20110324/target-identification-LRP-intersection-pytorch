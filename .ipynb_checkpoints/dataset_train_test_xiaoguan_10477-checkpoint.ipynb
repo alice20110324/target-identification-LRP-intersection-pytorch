{
 "cells": [
  {
   "cell_type": "code",
   "execution_count": null,
   "id": "eb6c3a0c",
   "metadata": {},
   "outputs": [],
   "source": [
    "#对小管数据进行裁切列，使其和球管合并数据集的列相同，然后 产生小球的测试集和训练集\n",
    "#目的是对小球单独进行测试和训练，以和mixed进行对比\n",
    "import pandas as pd \n",
    "\n",
    "from sklearn.model_selection import train_test_split\n",
    "#############split into the training dataset and test dataset\n",
    "\n",
    "all=pd.read_csv('dataset/qiuguan/orign/xiaoguan_single.csv',sep=',')#################\n",
    "#rint(all)\n",
    "all=all.iloc[:,1:]\n",
    "print(all)\n",
    "\n",
    "df_columns=pd.read_csv('dataset/qiuguan/orign/union_all_qiuguan.csv',sep=',')################3这个数据从哪里来\n",
    "\n",
    "#rint(df_columns)\n",
    "df_columns=df_columns.iloc[:,1:]\n",
    "print(df_columns)\n",
    "columns=df_columns.columns.values.tolist()\n",
    "print(len(columns))\n",
    "all=all.loc[:,columns]\n",
    "#print(all.shape)\n",
    "X=all.iloc[:,:-1]\n",
    "#X=X.values\n",
    "\n",
    "#print(X)\n",
    "\n",
    "y=all.iloc[:,-1]\n",
    "#y=y.values\n",
    "\n",
    "#print(y)\n",
    "\n",
    "\"\"\"\n",
    "y=pd.read_csv('dataset/gene_247/data/guan/guan_label.csv',sep=',')\n",
    "y=y.values\n",
    "\n",
    "\"\"\"\n",
    "\n",
    "#y=np.array(y)\n",
    "train_val_data,test_data,train_val_label,test_label=train_test_split(X,y,test_size=0.2,stratify=y,random_state=2)\n",
    "\n",
    "#print(train_val_data)\n",
    "train_val_info=pd.concat([train_val_data,train_val_label],axis=1)\n",
    "test_info=pd.concat([test_data,test_label],axis=1)\n",
    "#print(train_val_info)\n",
    "train_val_info.to_csv('dataset/qiuguan/orign/xiaoguan/train_val_info.csv')\n",
    "test_info.to_csv('dataset/qiuguan/orign/xiaoguan/test_info.csv')"
   ]
  }
 ],
 "metadata": {
  "kernelspec": {
   "display_name": "Python 3",
   "language": "python",
   "name": "python3"
  },
  "language_info": {
   "codemirror_mode": {
    "name": "ipython",
    "version": 3
   },
   "file_extension": ".py",
   "mimetype": "text/x-python",
   "name": "python",
   "nbconvert_exporter": "python",
   "pygments_lexer": "ipython3",
   "version": "3.6.13"
  }
 },
 "nbformat": 4,
 "nbformat_minor": 5
}
