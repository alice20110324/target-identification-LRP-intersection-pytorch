{
 "cells": [
  {
   "cell_type": "code",
   "execution_count": null,
   "id": "c9560c24",
   "metadata": {},
   "outputs": [],
   "source": [
    "import torch  as pt\n",
    "from torch import nn\n",
    "import torch.nn.functional as F  # 激励函数的库\n",
    "from torchvision import datasets\n",
    "import torchvision.transforms as transforms\n",
    "import numpy as np\n",
    "\n",
    "import torch\n",
    "\n",
    "#model definition\n",
    "class MLP(nn.Module):\n",
    "    def __init__(self,inputs,layer1,layer2):\n",
    "        super().__init__()\n",
    "        '''\n",
    "        self.fc1 = nn.Linear(4077, 1000)\n",
    "        self.bn1= nn.BatchNorm1d(1000)\n",
    "        self.fc2 = nn.Linear(1000, 100)\n",
    "        self.bn2=nn.BatchNorm1d(100)\n",
    "        self.fc3 = nn.Linear(100, 11)\n",
    "        self.bn3=nn.BatchNorm1d(11)\n",
    "        self.drop=nn.Dropout(0.5)\n",
    "\n",
    "        '''\n",
    "        self.bn0=nn.BatchNorm1d(inputs)\n",
    "        self.fc1=nn.Linear(inputs,layer1)\n",
    "        self.bn1=nn.BatchNorm1d(layer1)\n",
    "        self.fc2=nn.Linear(layer1,layer2)\n",
    "        self.bn2=nn.BatchNorm1d(layer2)\n",
    "        #self.fc3=nn.Linear(layer2,output)\n",
    "        #self.bn3=nn.BatchNorm1d(output)\n",
    "        self.drop=nn.Dropout(0.5)\n",
    "        \n",
    "    def forward(self, x):\n",
    "        #print(\"inputs.lenth:\",inputs)\n",
    "        x=self.bn0(x)\n",
    "        x = F.relu(self.drop(self.bn1(self.fc1(x))))\n",
    "        #x = F.relu(self.drop(self.bn2(self.fc2(x))))\n",
    "        return F.softmax(self.bn2(self.fc2(x)), dim=1)"
   ]
  }
 ],
 "metadata": {
  "kernelspec": {
   "display_name": "Python 3",
   "language": "python",
   "name": "python3"
  },
  "language_info": {
   "codemirror_mode": {
    "name": "ipython",
    "version": 3
   },
   "file_extension": ".py",
   "mimetype": "text/x-python",
   "name": "python",
   "nbconvert_exporter": "python",
   "pygments_lexer": "ipython3",
   "version": "3.6.13"
  }
 },
 "nbformat": 4,
 "nbformat_minor": 5
}
