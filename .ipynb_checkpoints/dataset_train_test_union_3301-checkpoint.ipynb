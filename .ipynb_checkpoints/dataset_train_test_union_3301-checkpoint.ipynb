{
 "cells": [
  {
   "cell_type": "code",
   "execution_count": null,
   "id": "dd45f6a1",
   "metadata": {},
   "outputs": [],
   "source": [
    "import torch\n",
    "import Trainer\n",
    "from network import NFM\n",
    "import torch.utils.data as Data\n",
    "from Utils.criteo_loader import getTestData, getTrainData\n",
    "import pandas as pd\n",
    "#train_val_info\n",
    "#file_10477='dataset/qiuguan/origin_800/union_all_qiuguan.csv'\n",
    "file_800='dataset/qiuguan/origin_800/new_df_df_800_non_encode.csv'#为了获取800的列名\n",
    "file_xiaoqiu_xiaoguan='dataset/qiuguan/orign/xiaoqiu_xiaoguan/train_val_info.csv'#10477\n",
    "file_xiaoqiu_xiaoguan_test='dataset/qiuguan/orign/xiaoqiu_xiaoguan/test_info.csv'#10477\n",
    "\n",
    "\n",
    "df_800=pd.read_csv(file_800,sep=',')#为了获取列名，为LRP特征基因寻找做列名，从管和球中选3301数据\n",
    "df_800=df_800.iloc[:,1:]\n",
    "#print(df_800)\n",
    "col_names=df_800.columns.values.tolist()\n",
    "#print(col_names.shape)\n",
    "col_names.remove('label')\n",
    "col_names.remove('label.1')#删除label.1################################\n",
    "col_names.append('label')\n",
    "#print(col_names)\n",
    "#col_names.append('label')\n",
    "\n",
    "#小球 处理，从10477中选3301 for800测试\n",
    "df_xiaoqiu_xiaoguan=pd.read_csv(file_xiaoqiu_xiaoguan,sep=',')\n",
    "df_xiaoqiu_xiaoguan=df_xiaoqiu_xiaoguan.iloc[:,1:]\n",
    "#print(df_xiaoqiu)\n",
    "\n",
    "\n",
    "df_xiaoqiu_xiaoguan=df_xiaoqiu_xiaoguan.loc[:,col_names]#从小球的10477数据中选出3301\n",
    "df_xiaoqiu_xiaoguan.to_csv('dataset/qiuguan/origin_800/xiaoqiu_xiaoguan/train_val_info.csv')#800\n",
    "print(df_xiaoqiu_xiaoguan)\n",
    "\n",
    "#小管 处理，从10477中选3301 for800测试\n",
    "df_xiaoqiu_xiaoguan_test=pd.read_csv(file_xiaoqiu_xiaoguan_test,sep=',')\n",
    "df_xiaoqiu_xiaoguan_test=df_xiaoqiu_xiaoguan_test.iloc[:,1:]\n",
    "print(df_xiaoqiu_xiaoguan_test)\n",
    "\n",
    "\n",
    "df_xiaoqiu_xiaoguan_test=df_xiaoqiu_xiaoguan_test.loc[:,col_names]#从小球的10477数据中选出3301\n",
    "df_xiaoqiu_xiaoguan_test.to_csv('dataset/qiuguan/origin_800/xiaoqiu_xiaoguan/test_info.csv')#800"
   ]
  }
 ],
 "metadata": {
  "kernelspec": {
   "display_name": "Python 3",
   "language": "python",
   "name": "python3"
  },
  "language_info": {
   "codemirror_mode": {
    "name": "ipython",
    "version": 3
   },
   "file_extension": ".py",
   "mimetype": "text/x-python",
   "name": "python",
   "nbconvert_exporter": "python",
   "pygments_lexer": "ipython3",
   "version": "3.6.13"
  }
 },
 "nbformat": 4,
 "nbformat_minor": 5
}
