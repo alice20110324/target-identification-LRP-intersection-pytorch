{
 "cells": [
  {
   "cell_type": "code",
   "execution_count": null,
   "id": "16b3c1a9",
   "metadata": {},
   "outputs": [],
   "source": [
    "from sklearn.datasets import make_blobs\n",
    "from sklearn.datasets import load_iris\n",
    "from sklearn.ensemble import RandomForestClassifier\n",
    "from sklearn import metrics\n",
    "import pandas as pd \n",
    "import numpy as np \n",
    "import matplotlib.pyplot as plt\n",
    "from data_process import preData,getFeaturesData,getDF,convert_to_df\n",
    "\n",
    "#compute 800 features for every disease by RandomForest doing binary classification: one is this disease ,the other is control group\n",
    "#repeat this process until generate new dataset for every disease \n",
    "#save them into dataset/data_800/origin_data_for_every_disease\n",
    "#f1='dataset/old/DN.csv'\n",
    "#f2='dataset/old/Control.csv'\n",
    "\n",
    "df1,df,X,y=preData(\"dataset/old/SLE.csv\",\"dataset/old/Control.csv\")\n",
    "#print(df1)\n",
    "  \n",
    "from Select_1000_features_by_acc import trainRandomForest\n",
    "\n",
    "feature_names=[]\n",
    "acc,feature_names=trainRandomForest(X,y,nfm_config)\n",
    "\n",
    "#print(feature_names.type)\n",
    "#print(feature_names)\n",
    "df1_rows,df1_cols=df1.shape\n",
    "#title_num=[i for i in range(df1_cols)]\n",
    "#print(title_num)\n",
    "#title_num=np.array(title_num)\n",
    "\n",
    "#title_dict={}\n",
    "#for i in range(df1_cols):\n",
    "    \n",
    "#df1.columns=title_num\n",
    "\n",
    "#df1.rename(index=title_num)\n",
    "#print(df1)\n",
    "#X=pd.DataFrame(X)\n",
    "X_1000=df1.iloc[:,feature_names]\n",
    "#print(\"X_1000:\",X_1000)\n",
    "rows,cols=X_1000.shape\n",
    "print(\"X_1000.shape:\",X_1000.shape)\n",
    "\n",
    "label=[int(y[1]) for i in range(rows)]\n",
    "\n",
    "#label=y[1]\n",
    "label=np.array(label).reshape(rows,1)\n",
    "print(\"label.shape:\",label.shape)\n",
    "\n",
    "label=pd.DataFrame(label)\n",
    "label.columns=['label']\n",
    "df_1000=pd.concat([X_1000,label],axis=1)\n",
    "\n",
    "\n",
    "df_1000.to_csv('dataset/data_800/origin_data_for_every_disease/SLE_new.csv')\n",
    "\n"
   ]
  },
  {
   "cell_type": "code",
   "execution_count": null,
   "id": "02ff0f56",
   "metadata": {},
   "outputs": [],
   "source": []
  },
  {
   "cell_type": "code",
   "execution_count": null,
   "id": "702ed564",
   "metadata": {},
   "outputs": [],
   "source": []
  },
  {
   "cell_type": "code",
   "execution_count": null,
   "id": "708b129c",
   "metadata": {},
   "outputs": [],
   "source": []
  },
  {
   "cell_type": "code",
   "execution_count": null,
   "id": "dda480dd",
   "metadata": {},
   "outputs": [],
   "source": []
  },
  {
   "cell_type": "code",
   "execution_count": null,
   "id": "3c3cb0da",
   "metadata": {},
   "outputs": [],
   "source": []
  },
  {
   "cell_type": "code",
   "execution_count": null,
   "id": "604abd73",
   "metadata": {},
   "outputs": [],
   "source": []
  },
  {
   "cell_type": "code",
   "execution_count": null,
   "id": "9161105e",
   "metadata": {},
   "outputs": [],
   "source": []
  }
 ],
 "metadata": {
  "kernelspec": {
   "display_name": "Python 3",
   "language": "python",
   "name": "python3"
  },
  "language_info": {
   "codemirror_mode": {
    "name": "ipython",
    "version": 3
   },
   "file_extension": ".py",
   "mimetype": "text/x-python",
   "name": "python",
   "nbconvert_exporter": "python",
   "pygments_lexer": "ipython3",
   "version": "3.6.13"
  }
 },
 "nbformat": 4,
 "nbformat_minor": 5
}
